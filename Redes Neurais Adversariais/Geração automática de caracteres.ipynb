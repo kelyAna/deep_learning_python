{
 "cells": [
  {
   "cell_type": "markdown",
   "metadata": {},
   "source": [
    "### Rede Neural Adversarial para geração automática de caracteres\n",
    "\n",
    "Redes Adversárias Generativas (GANs) são arquiteturas de redes neurais profundas compostas por duas redes colocadas uma contra a outra (daí o nome “adversárias”).O potencial das GANs é enorme porque elas podem aprender a imitar qualquer distribuição de dados. Ou seja, as GANs podem ser ensinadas a criar mundos estranhamente semelhantes aos nossos em qualquer domínio: imagens, música, fala, prosa. Elas são artistas robóticos, em certo sentido, e sua produção é impressionante – até comovente."
   ]
  },
  {
   "cell_type": "markdown",
   "metadata": {},
   "source": [
    "**Importações iniciais**"
   ]
  },
  {
   "cell_type": "code",
   "execution_count": 21,
   "metadata": {},
   "outputs": [],
   "source": [
    "import matplotlib.pyplot as plt\n",
    "import numpy as np\n",
    "import tensorflow as tf\n",
    "from keras.datasets import mnist\n",
    "from keras.models import Sequential\n",
    "from keras.layers import InputLayer, Dense, Flatten, Reshape\n",
    "from keras.regularizers import L1L2\n",
    "from keras_adversarial import AdversarialModel, simple_gan, gan_targets\n",
    "from keras_adversarial import AdversarialOptimizerSimultaneous, normal_latent_sampling"
   ]
  },
  {
   "cell_type": "markdown",
   "metadata": {},
   "source": [
    "**Leitura da base de dados**"
   ]
  },
  {
   "cell_type": "code",
   "execution_count": 22,
   "metadata": {},
   "outputs": [],
   "source": [
    "(previsores_train, _), (_,_) = mnist.load_data()"
   ]
  },
  {
   "cell_type": "code",
   "execution_count": 23,
   "metadata": {},
   "outputs": [
    {
     "data": {
      "text/plain": [
       "(60000, 28, 28)"
      ]
     },
     "execution_count": 23,
     "metadata": {},
     "output_type": "execute_result"
    }
   ],
   "source": [
    "previsores_train.shape"
   ]
  },
  {
   "cell_type": "markdown",
   "metadata": {},
   "source": [
    "**Normalização dos dados**"
   ]
  },
  {
   "cell_type": "code",
   "execution_count": 24,
   "metadata": {},
   "outputs": [],
   "source": [
    "previsores_train = previsores_train.astype('float32')"
   ]
  },
  {
   "cell_type": "markdown",
   "metadata": {},
   "source": [
    "**Criação do Gerador**"
   ]
  },
  {
   "cell_type": "code",
   "execution_count": 25,
   "metadata": {},
   "outputs": [],
   "source": [
    "gerador = Sequential()\n",
    "gerador.add(Dense(units = 500, input_dim = 100, activation = 'relu', \n",
    "                  kernel_regularizer = L1L2(1e-5, 1e-5)))\n",
    "gerador.add(Dense(units = 500, input_dim = 100, activation = 'relu', \n",
    "                  kernel_regularizer = L1L2(1e-5, 1e-5)))\n",
    "gerador.add(Dense(units = 784, activation = 'sigmoid', kernel_regularizer = L1L2(1e-5, 1e-5)))\n",
    "gerador.add(Reshape((28,28)))"
   ]
  },
  {
   "cell_type": "markdown",
   "metadata": {},
   "source": [
    "**Criação do Descriminador**"
   ]
  },
  {
   "cell_type": "code",
   "execution_count": 26,
   "metadata": {},
   "outputs": [],
   "source": [
    "discriminador = Sequential()\n",
    "discriminador.add(InputLayer(input_shape=(28,28)))\n",
    "discriminador.add(Flatten())\n",
    "discriminador.add(Dense(units = 500, activation = 'relu', kernel_regularizer = L1L2(1e-5, 1e-5)))\n",
    "discriminador.add(Dense(units = 500, activation = 'relu', kernel_regularizer = L1L2(1e-5, 1e-5)))\n",
    "discriminador.add(Dense(units = 1, activation = 'sigmoid', kernel_regularizer = L1L2(1e-5, 1e-5)))"
   ]
  },
  {
   "cell_type": "markdown",
   "metadata": {},
   "source": [
    "**Construção da Generative Adversarial Network(GAN)**"
   ]
  },
  {
   "cell_type": "code",
   "execution_count": 27,
   "metadata": {},
   "outputs": [],
   "source": [
    "gan = simple_gan(gerador, discriminador, normal_latent_sampling((100,)))"
   ]
  },
  {
   "cell_type": "code",
   "execution_count": 28,
   "metadata": {},
   "outputs": [],
   "source": [
    "modelo = AdversarialModel(base_model = gan,\n",
    "                         player_params = (gerador.trainable_weights,\n",
    "                                         discriminador.trainable_weights))"
   ]
  },
  {
   "cell_type": "code",
   "execution_count": null,
   "metadata": {},
   "outputs": [],
   "source": [
    "modelo.adversarial_compile(adversarial_optimizer = AdversarialOptimizerSimultaneous(),\n",
    "                          player_optimizers = ['adam', 'adam'],\n",
    "                          loss = 'binary_crossentropy')"
   ]
  },
  {
   "cell_type": "code",
   "execution_count": null,
   "metadata": {},
   "outputs": [
    {
     "name": "stdout",
     "output_type": "stream",
     "text": [
      "Epoch 1/100\n",
      "60000/60000 [==============================] - 20s 329us/step - loss: 27.8627 - player_0_loss: 24.2480 - player_0_yfake_loss: 4.9721 - player_0_yreal_loss: 15.8575 - player_1_loss: 3.6147 - player_1_yfake_loss: 0.1267 - player_1_yreal_loss: 0.0696\n",
      "Epoch 2/100\n",
      "60000/60000 [==============================] - 16s 267us/step - loss: 26.9060 - player_0_loss: 24.0620 - player_0_yfake_loss: 5.6792 - player_0_yreal_loss: 15.7610 - player_1_loss: 2.8440 - player_1_yfake_loss: 0.0436 - player_1_yreal_loss: 0.1786\n",
      "Epoch 3/100\n",
      "60000/60000 [==============================] - 16s 263us/step - loss: 27.2924 - player_0_loss: 25.1920 - player_0_yfake_loss: 7.1579 - player_0_yreal_loss: 15.9386 - player_1_loss: 2.1004 - player_1_yfake_loss: 0.0011 - player_1_yreal_loss: 0.0037\n",
      "Epoch 4/100\n",
      "60000/60000 [==============================] - 16s 261us/step - loss: 27.2356 - player_0_loss: 25.4709 - player_0_yfake_loss: 7.8022 - player_0_yreal_loss: 15.9265 - player_1_loss: 1.7647 - player_1_yfake_loss: 0.0078 - player_1_yreal_loss: 0.0147\n",
      "Epoch 5/100\n",
      "60000/60000 [==============================] - 16s 260us/step - loss: 30.2178 - player_0_loss: 28.6574 - player_0_yfake_loss: 11.1817 - player_0_yreal_loss: 15.9297 - player_1_loss: 1.5604 - player_1_yfake_loss: 0.0020 - player_1_yreal_loss: 0.0123\n",
      "Epoch 6/100\n",
      "60000/60000 [==============================] - 16s 260us/step - loss: 25.0832 - player_0_loss: 23.6852 - player_0_yfake_loss: 6.4203 - player_0_yreal_loss: 15.9141 - player_1_loss: 1.3980 - player_1_yfake_loss: 0.0201 - player_1_yreal_loss: 0.0270\n",
      "Epoch 7/100\n",
      "60000/60000 [==============================] - 17s 286us/step - loss: 24.4131 - player_0_loss: 23.0736 - player_0_yfake_loss: 5.8707 - player_0_yreal_loss: 15.9095 - player_1_loss: 1.3395 - player_1_yfake_loss: 0.0147 - player_1_yreal_loss: 0.0313\n",
      "Epoch 8/100\n",
      "60000/60000 [==============================] - 18s 300us/step - loss: 24.5379 - player_0_loss: 23.3736 - player_0_yfake_loss: 6.2866 - player_0_yreal_loss: 15.9371 - player_1_loss: 1.1643 - player_1_yfake_loss: 0.0098 - player_1_yreal_loss: 0.0047\n",
      "Epoch 9/100\n",
      "60000/60000 [==============================] - 21s 343us/step - loss: 24.1788 - player_0_loss: 23.1690 - player_0_yfake_loss: 6.2348 - player_0_yreal_loss: 15.9379 - player_1_loss: 1.0098 - player_1_yfake_loss: 0.0093 - player_1_yreal_loss: 0.0042\n",
      "Epoch 10/100\n",
      "60000/60000 [==============================] - 18s 297us/step - loss: 23.4925 - player_0_loss: 22.6070 - player_0_yfake_loss: 5.7874 - player_0_yreal_loss: 15.9413 - player_1_loss: 0.8856 - player_1_yfake_loss: 0.0066 - player_1_yreal_loss: 6.4493e-04\n",
      "Epoch 11/100\n",
      "60000/60000 [==============================] - 22s 359us/step - loss: 24.0832 - player_0_loss: 23.3144 - player_0_yfake_loss: 6.6113 - player_0_yreal_loss: 15.9409 - player_1_loss: 0.7688 - player_1_yfake_loss: 0.0056 - player_1_yreal_loss: 0.0010\n",
      "Epoch 12/100\n",
      "60000/60000 [==============================] - 19s 309us/step - loss: 24.2336 - player_0_loss: 23.5382 - player_0_yfake_loss: 6.9155 - player_0_yreal_loss: 15.9357 - player_1_loss: 0.6954 - player_1_yfake_loss: 0.0025 - player_1_yreal_loss: 0.0060\n",
      "Epoch 13/100\n",
      "60000/60000 [==============================] - 18s 303us/step - loss: 24.7439 - player_0_loss: 24.1716 - player_0_yfake_loss: 7.6573 - player_0_yreal_loss: 15.9424 - player_1_loss: 0.5723 - player_1_yfake_loss: 4.8131e-04 - player_1_yreal_loss: 1.1921e-07\n",
      "Epoch 14/100\n",
      "60000/60000 [==============================] - 19s 314us/step - loss: 24.7754 - player_0_loss: 24.2930 - player_0_yfake_loss: 7.8686 - player_0_yreal_loss: 15.9424 - player_1_loss: 0.4824 - player_1_yfake_loss: 3.8307e-04 - player_1_yreal_loss: 1.1921e-07\n",
      "Epoch 15/100\n",
      "60000/60000 [==============================] - 21s 342us/step - loss: 24.5273 - player_0_loss: 24.1158 - player_0_yfake_loss: 7.7623 - player_0_yreal_loss: 15.9424 - player_1_loss: 0.4115 - player_1_yfake_loss: 4.2642e-04 - player_1_yreal_loss: 1.1921e-07\n",
      "Epoch 16/100\n",
      "60000/60000 [==============================] - 16s 264us/step - loss: 24.2109 - player_0_loss: 23.8562 - player_0_yfake_loss: 7.5596 - player_0_yreal_loss: 15.9423 - player_1_loss: 0.3547 - player_1_yfake_loss: 5.2162e-04 - player_1_yreal_loss: 1.1932e-07\n",
      "Epoch 17/100\n",
      "60000/60000 [==============================] - 18s 296us/step - loss: 24.0145 - player_0_loss: 23.7063 - player_0_yfake_loss: 7.4572 - player_0_yreal_loss: 15.9415 - player_1_loss: 0.3081 - player_1_yfake_loss: 5.7751e-04 - player_1_yreal_loss: 1.1080e-06\n",
      "Epoch 18/100\n",
      "60000/60000 [==============================] - 17s 287us/step - loss: 23.7253 - player_0_loss: 23.4467 - player_0_yfake_loss: 7.2286 - player_0_yreal_loss: 15.9403 - player_1_loss: 0.2786 - player_1_yfake_loss: 7.9452e-04 - player_1_yreal_loss: 4.8021e-05\n",
      "Epoch 19/100\n",
      "60000/60000 [==============================] - 18s 296us/step - loss: 24.0096 - player_0_loss: 23.7681 - player_0_yfake_loss: 7.5847 - player_0_yreal_loss: 15.9424 - player_1_loss: 0.2415 - player_1_yfake_loss: 5.1915e-04 - player_1_yreal_loss: 1.1921e-07\n",
      "Epoch 20/100\n",
      "60000/60000 [==============================] - 16s 260us/step - loss: 24.4038 - player_0_loss: 24.1946 - player_0_yfake_loss: 8.0521 - player_0_yreal_loss: 15.9335 - player_1_loss: 0.2092 - player_1_yfake_loss: 3.1985e-04 - player_1_yreal_loss: 2.4713e-06\n",
      "Epoch 21/100\n",
      "60000/60000 [==============================] - 19s 319us/step - loss: 24.5276 - player_0_loss: 24.3418 - player_0_yfake_loss: 8.2664 - player_0_yreal_loss: 15.8900 - player_1_loss: 0.1858 - player_1_yfake_loss: 2.5723e-04 - player_1_yreal_loss: 2.9006e-05\n",
      "Epoch 22/100\n",
      "60000/60000 [==============================] - 18s 293us/step - loss: 24.6170 - player_0_loss: 24.4502 - player_0_yfake_loss: 8.3836 - player_0_yreal_loss: 15.9001 - player_1_loss: 0.1668 - player_1_yfake_loss: 2.2890e-04 - player_1_yreal_loss: 1.2933e-05\n",
      "Epoch 23/100\n",
      "60000/60000 [==============================] - 18s 308us/step - loss: 24.6713 - player_0_loss: 24.5211 - player_0_yfake_loss: 8.5235 - player_0_yreal_loss: 15.8477 - player_1_loss: 0.1502 - player_1_yfake_loss: 1.9889e-04 - player_1_yreal_loss: 2.5558e-05\n",
      "Epoch 24/100\n",
      "60000/60000 [==============================] - 20s 338us/step - loss: 24.7444 - player_0_loss: 24.6086 - player_0_yfake_loss: 8.6399 - player_0_yreal_loss: 15.8330 - player_1_loss: 0.1359 - player_1_yfake_loss: 1.7704e-04 - player_1_yreal_loss: 2.4346e-05\n",
      "Epoch 25/100\n",
      "60000/60000 [==============================] - 19s 323us/step - loss: 24.7433 - player_0_loss: 24.6204 - player_0_yfake_loss: 8.7432 - player_0_yreal_loss: 15.7543 - player_1_loss: 0.1230 - player_1_yfake_loss: 1.5964e-04 - player_1_yreal_loss: 2.2776e-05\n",
      "Epoch 26/100\n",
      "60000/60000 [==============================] - 19s 318us/step - loss: 24.7442 - player_0_loss: 24.6325 - player_0_yfake_loss: 8.8326 - player_0_yreal_loss: 15.6885 - player_1_loss: 0.1117 - player_1_yfake_loss: 1.4594e-04 - player_1_yreal_loss: 2.1077e-05\n",
      "Epoch 27/100\n",
      "60000/60000 [==============================] - 17s 290us/step - loss: 24.7650 - player_0_loss: 24.6625 - player_0_yfake_loss: 8.9068 - player_0_yreal_loss: 15.6534 - player_1_loss: 0.1025 - player_1_yfake_loss: 1.3550e-04 - player_1_yreal_loss: 1.9644e-05\n",
      "Epoch 28/100\n",
      "60000/60000 [==============================] - 20s 336us/step - loss: 24.8208 - player_0_loss: 24.7261 - player_0_yfake_loss: 8.9710 - player_0_yreal_loss: 15.6606 - player_1_loss: 0.0947 - player_1_yfake_loss: 1.2707e-04 - player_1_yreal_loss: 1.9004e-05\n",
      "Epoch 29/100\n",
      "60000/60000 [==============================] - 20s 328us/step - loss: 24.8229 - player_0_loss: 24.7349 - player_0_yfake_loss: 9.0304 - player_0_yreal_loss: 15.6166 - player_1_loss: 0.0880 - player_1_yfake_loss: 1.1974e-04 - player_1_yreal_loss: 1.9088e-05\n",
      "Epoch 30/100\n",
      "60000/60000 [==============================] - 17s 288us/step - loss: 24.8120 - player_0_loss: 24.7303 - player_0_yfake_loss: 9.0766 - player_0_yreal_loss: 15.5720 - player_1_loss: 0.0818 - player_1_yfake_loss: 1.1433e-04 - player_1_yreal_loss: 1.9176e-05\n",
      "Epoch 31/100\n"
     ]
    },
    {
     "name": "stdout",
     "output_type": "stream",
     "text": [
      "60000/60000 [==============================] - 19s 322us/step - loss: 24.8608 - player_0_loss: 24.7843 - player_0_yfake_loss: 9.1065 - player_0_yreal_loss: 15.6015 - player_1_loss: 0.0765 - player_1_yfake_loss: 1.1096e-04 - player_1_yreal_loss: 1.8322e-05\n",
      "Epoch 32/100\n",
      "60000/60000 [==============================] - 19s 320us/step - loss: 24.8304 - player_0_loss: 24.7589 - player_0_yfake_loss: 9.1428 - player_0_yreal_loss: 15.5448 - player_1_loss: 0.0715 - player_1_yfake_loss: 1.0700e-04 - player_1_yreal_loss: 1.9403e-05\n",
      "Epoch 33/100\n",
      "60000/60000 [==============================] - 16s 263us/step - loss: 24.8070 - player_0_loss: 24.7400 - player_0_yfake_loss: 9.1761 - player_0_yreal_loss: 15.4971 - player_1_loss: 0.0670 - player_1_yfake_loss: 1.0349e-04 - player_1_yreal_loss: 1.9354e-05\n",
      "Epoch 34/100\n",
      "60000/60000 [==============================] - 17s 287us/step - loss: 24.7891 - player_0_loss: 24.7265 - player_0_yfake_loss: 9.2067 - player_0_yreal_loss: 15.4572 - player_1_loss: 0.0626 - player_1_yfake_loss: 1.0038e-04 - player_1_yreal_loss: 1.9681e-05\n",
      "Epoch 35/100\n",
      "60000/60000 [==============================] - 18s 298us/step - loss: 24.7962 - player_0_loss: 24.7370 - player_0_yfake_loss: 9.2375 - player_0_yreal_loss: 15.4403 - player_1_loss: 0.0592 - player_1_yfake_loss: 9.7336e-05 - player_1_yreal_loss: 1.8164e-05\n",
      "Epoch 36/100\n",
      "60000/60000 [==============================] - 17s 290us/step - loss: 24.7463 - player_0_loss: 24.6903 - player_0_yfake_loss: 9.2685 - player_0_yreal_loss: 15.3658 - player_1_loss: 0.0561 - player_1_yfake_loss: 9.4386e-05 - player_1_yreal_loss: 1.9865e-05\n",
      "Epoch 37/100\n",
      "60000/60000 [==============================] - 17s 291us/step - loss: 24.9147 - player_0_loss: 24.8603 - player_0_yfake_loss: 9.2718 - player_0_yreal_loss: 15.5341 - player_1_loss: 0.0545 - player_1_yfake_loss: 9.4286e-05 - player_1_yreal_loss: 2.1434e-05\n",
      "Epoch 38/100\n",
      "60000/60000 [==============================] - 17s 286us/step - loss: 24.8528 - player_0_loss: 24.8023 - player_0_yfake_loss: 9.3633 - player_0_yreal_loss: 15.3886 - player_1_loss: 0.0505 - player_1_yfake_loss: 8.5871e-05 - player_1_yreal_loss: 1.8345e-05\n",
      "Epoch 39/100\n",
      "60000/60000 [==============================] - 18s 293us/step - loss: 24.7596 - player_0_loss: 24.7131 - player_0_yfake_loss: 9.4235 - player_0_yreal_loss: 15.2432 - player_1_loss: 0.0465 - player_1_yfake_loss: 8.0823e-05 - player_1_yreal_loss: 1.9097e-05\n",
      "Epoch 40/100\n",
      "60000/60000 [==============================] - 18s 299us/step - loss: 24.7480 - player_0_loss: 24.7047 - player_0_yfake_loss: 9.4772 - player_0_yreal_loss: 15.1844 - player_1_loss: 0.0432 - player_1_yfake_loss: 7.6597e-05 - player_1_yreal_loss: 1.9310e-05\n",
      "Epoch 41/100\n",
      "60000/60000 [==============================] - 18s 301us/step - loss: 24.9216 - player_0_loss: 24.8814 - player_0_yfake_loss: 9.5474 - player_0_yreal_loss: 15.2940 - player_1_loss: 0.0401 - player_1_yfake_loss: 7.1504e-05 - player_1_yreal_loss: 1.8828e-05\n",
      "Epoch 42/100\n",
      "60000/60000 [==============================] - 19s 319us/step - loss: 24.8850 - player_0_loss: 24.8475 - player_0_yfake_loss: 9.6344 - player_0_yreal_loss: 15.1758 - player_1_loss: 0.0375 - player_1_yfake_loss: 6.5567e-05 - player_1_yreal_loss: 1.9234e-05\n",
      "Epoch 43/100\n",
      "60000/60000 [==============================] - 21s 357us/step - loss: 24.9528 - player_0_loss: 24.9174 - player_0_yfake_loss: 9.6800 - player_0_yreal_loss: 15.2020 - player_1_loss: 0.0354 - player_1_yfake_loss: 6.2989e-05 - player_1_yreal_loss: 1.8059e-05\n",
      "Epoch 44/100\n",
      "60000/60000 [==============================] - 19s 322us/step - loss: 24.8882 - player_0_loss: 24.8551 - player_0_yfake_loss: 9.8287 - player_0_yreal_loss: 14.9935 - player_1_loss: 0.0330 - player_1_yfake_loss: 5.4072e-05 - player_1_yreal_loss: 1.6951e-05\n",
      "Epoch 45/100\n",
      "60000/60000 [==============================] - 20s 339us/step - loss: 24.9794 - player_0_loss: 24.9485 - player_0_yfake_loss: 9.8565 - player_0_yreal_loss: 15.0612 - player_1_loss: 0.0309 - player_1_yfake_loss: 5.2475e-05 - player_1_yreal_loss: 1.5841e-05\n",
      "Epoch 46/100\n",
      "60000/60000 [==============================] - 19s 309us/step - loss: 25.1428 - player_0_loss: 25.1129 - player_0_yfake_loss: 9.8681 - player_0_yreal_loss: 15.2150 - player_1_loss: 0.0299 - player_1_yfake_loss: 5.1939e-05 - player_1_yreal_loss: 1.5597e-05\n",
      "Epoch 47/100\n",
      "60000/60000 [==============================] - 19s 317us/step - loss: 25.2049 - player_0_loss: 25.1773 - player_0_yfake_loss: 9.9468 - player_0_yreal_loss: 15.2030 - player_1_loss: 0.0276 - player_1_yfake_loss: 4.8344e-05 - player_1_yreal_loss: 1.6395e-05\n",
      "Epoch 48/100\n",
      "60000/60000 [==============================] - 16s 273us/step - loss: 25.1835 - player_0_loss: 25.1572 - player_0_yfake_loss: 10.0027 - player_0_yreal_loss: 15.1283 - player_1_loss: 0.0263 - player_1_yfake_loss: 4.5308e-05 - player_1_yreal_loss: 1.4214e-05\n",
      "Epoch 49/100\n",
      "60000/60000 [==============================] - 20s 334us/step - loss: 25.3077 - player_0_loss: 25.2823 - player_0_yfake_loss: 10.0053 - player_0_yreal_loss: 15.2516 - player_1_loss: 0.0254 - player_1_yfake_loss: 4.5294e-05 - player_1_yreal_loss: 1.6619e-05\n",
      "Epoch 50/100\n",
      "60000/60000 [==============================] - 19s 314us/step - loss: 25.3830 - player_0_loss: 25.3584 - player_0_yfake_loss: 9.9866 - player_0_yreal_loss: 15.3473 - player_1_loss: 0.0246 - player_1_yfake_loss: 4.6739e-05 - player_1_yreal_loss: 1.3223e-05\n",
      "Epoch 51/100\n",
      "60000/60000 [==============================] - 18s 307us/step - loss: 25.6401 - player_0_loss: 25.6169 - player_0_yfake_loss: 10.0717 - player_0_yreal_loss: 15.5221 - player_1_loss: 0.0232 - player_1_yfake_loss: 4.2450e-05 - player_1_yreal_loss: 1.2350e-05\n",
      "Epoch 52/100\n",
      "60000/60000 [==============================] - 19s 310us/step - loss: 25.4336 - player_0_loss: 25.4095 - player_0_yfake_loss: 10.0913 - player_0_yreal_loss: 15.2941 - player_1_loss: 0.0241 - player_1_yfake_loss: 4.1604e-05 - player_1_yreal_loss: 1.1681e-05\n",
      "Epoch 53/100\n",
      "60000/60000 [==============================] - 20s 333us/step - loss: 25.4760 - player_0_loss: 25.4532 - player_0_yfake_loss: 10.0070 - player_0_yreal_loss: 15.4235 - player_1_loss: 0.0228 - player_1_yfake_loss: 4.6163e-05 - player_1_yreal_loss: 1.1885e-05\n",
      "Epoch 54/100\n",
      "60000/60000 [==============================] - 21s 353us/step - loss: 25.7156 - player_0_loss: 25.6934 - player_0_yfake_loss: 10.1578 - player_0_yreal_loss: 15.5135 - player_1_loss: 0.0222 - player_1_yfake_loss: 3.9048e-05 - player_1_yreal_loss: 1.1183e-05\n",
      "Epoch 55/100\n",
      "60000/60000 [==============================] - 19s 318us/step - loss: 25.6822 - player_0_loss: 25.6610 - player_0_yfake_loss: 10.1355 - player_0_yreal_loss: 15.5044 - player_1_loss: 0.0212 - player_1_yfake_loss: 3.9704e-05 - player_1_yreal_loss: 1.2320e-05\n",
      "Epoch 56/100\n",
      "60000/60000 [==============================] - 18s 306us/step - loss: 25.4954 - player_0_loss: 25.4743 - player_0_yfake_loss: 10.1334 - player_0_yreal_loss: 15.3199 - player_1_loss: 0.0211 - player_1_yfake_loss: 4.0010e-05 - player_1_yreal_loss: 1.5489e-05\n",
      "Epoch 57/100\n",
      "60000/60000 [==============================] - 19s 324us/step - loss: 25.8350 - player_0_loss: 25.8134 - player_0_yfake_loss: 10.1684 - player_0_yreal_loss: 15.6234 - player_1_loss: 0.0216 - player_1_yfake_loss: 3.9377e-05 - player_1_yreal_loss: 8.4613e-06\n",
      "Epoch 58/100\n",
      "60000/60000 [==============================] - 22s 365us/step - loss: 25.6842 - player_0_loss: 25.6637 - player_0_yfake_loss: 10.1818 - player_0_yreal_loss: 15.4615 - player_1_loss: 0.0205 - player_1_yfake_loss: 3.8165e-05 - player_1_yreal_loss: 1.2899e-05\n",
      "Epoch 59/100\n",
      "60000/60000 [==============================] - 20s 333us/step - loss: 25.5792 - player_0_loss: 25.5593 - player_0_yfake_loss: 10.2477 - player_0_yreal_loss: 15.2917 - player_1_loss: 0.0199 - player_1_yfake_loss: 3.5478e-05 - player_1_yreal_loss: 1.2587e-05\n",
      "Epoch 60/100\n",
      "60000/60000 [==============================] - 20s 339us/step - loss: 25.6707 - player_0_loss: 25.6510 - player_0_yfake_loss: 10.2493 - player_0_yreal_loss: 15.3821 - player_1_loss: 0.0197 - player_1_yfake_loss: 3.5415e-05 - player_1_yreal_loss: 1.0235e-05\n",
      "Epoch 61/100\n"
     ]
    },
    {
     "name": "stdout",
     "output_type": "stream",
     "text": [
      "60000/60000 [==============================] - 22s 360us/step - loss: 25.5601 - player_0_loss: 25.5405 - player_0_yfake_loss: 10.2694 - player_0_yreal_loss: 15.2514 - player_1_loss: 0.0197 - player_1_yfake_loss: 3.4725e-05 - player_1_yreal_loss: 1.2109e-05\n",
      "Epoch 62/100\n",
      "60000/60000 [==============================] - 21s 346us/step - loss: 25.6488 - player_0_loss: 25.6292 - player_0_yfake_loss: 10.2738 - player_0_yreal_loss: 15.3358 - player_1_loss: 0.0196 - player_1_yfake_loss: 3.4620e-05 - player_1_yreal_loss: 1.2472e-05\n",
      "Epoch 63/100\n",
      "60000/60000 [==============================] - 19s 313us/step - loss: 25.8576 - player_0_loss: 25.8381 - player_0_yfake_loss: 10.2743 - player_0_yreal_loss: 15.5443 - player_1_loss: 0.0195 - player_1_yfake_loss: 3.4703e-05 - player_1_yreal_loss: 9.6635e-06\n",
      "Epoch 64/100\n",
      "60000/60000 [==============================] - 21s 355us/step - loss: 25.8032 - player_0_loss: 25.7838 - player_0_yfake_loss: 10.3371 - player_0_yreal_loss: 15.4273 - player_1_loss: 0.0194 - player_1_yfake_loss: 3.2577e-05 - player_1_yreal_loss: 1.1885e-05\n",
      "Epoch 65/100\n",
      "60000/60000 [==============================] - 21s 348us/step - loss: 25.7882 - player_0_loss: 25.7690 - player_0_yfake_loss: 10.3379 - player_0_yreal_loss: 15.4120 - player_1_loss: 0.0192 - player_1_yfake_loss: 3.2524e-05 - player_1_yreal_loss: 1.1872e-05\n",
      "Epoch 66/100\n",
      "60000/60000 [==============================] - 20s 326us/step - loss: 25.9331 - player_0_loss: 25.9143 - player_0_yfake_loss: 10.3413 - player_0_yreal_loss: 15.5542 - player_1_loss: 0.0188 - player_1_yfake_loss: 3.2399e-05 - player_1_yreal_loss: 1.1623e-05\n",
      "Epoch 67/100\n",
      "60000/60000 [==============================] - 20s 328us/step - loss: 25.9493 - player_0_loss: 25.9302 - player_0_yfake_loss: 10.3601 - player_0_yreal_loss: 15.5511 - player_1_loss: 0.0191 - player_1_yfake_loss: 3.2024e-05 - player_1_yreal_loss: 1.0232e-05\n",
      "Epoch 68/100\n",
      "60000/60000 [==============================] - 22s 373us/step - loss: 25.7204 - player_0_loss: 25.7017 - player_0_yfake_loss: 10.4305 - player_0_yreal_loss: 15.2525 - player_1_loss: 0.0187 - player_1_yfake_loss: 2.9564e-05 - player_1_yreal_loss: 1.2718e-05\n",
      "Epoch 69/100\n",
      "60000/60000 [==============================] - 17s 284us/step - loss: 25.7515 - player_0_loss: 25.7329 - player_0_yfake_loss: 10.4327 - player_0_yreal_loss: 15.2816 - player_1_loss: 0.0187 - player_1_yfake_loss: 2.9475e-05 - player_1_yreal_loss: 1.3344e-05\n",
      "Epoch 70/100\n",
      "60000/60000 [==============================] - 15s 258us/step - loss: 26.0044 - player_0_loss: 25.9857 - player_0_yfake_loss: 10.4374 - player_0_yreal_loss: 15.5297 - player_1_loss: 0.0187 - player_1_yfake_loss: 2.9419e-05 - player_1_yreal_loss: 9.1198e-06\n",
      "Epoch 71/100\n",
      "60000/60000 [==============================] - 17s 291us/step - loss: 25.9253 - player_0_loss: 25.9067 - player_0_yfake_loss: 10.3685 - player_0_yreal_loss: 15.5198 - player_1_loss: 0.0185 - player_1_yfake_loss: 3.1908e-05 - player_1_yreal_loss: 1.7056e-05\n",
      "Epoch 72/100\n",
      "60000/60000 [==============================] - 21s 342us/step - loss: 26.1550 - player_0_loss: 26.1370 - player_0_yfake_loss: 10.5301 - player_0_yreal_loss: 15.5889 - player_1_loss: 0.0180 - player_1_yfake_loss: 2.6811e-05 - player_1_yreal_loss: 7.4349e-06\n",
      "Epoch 73/100\n",
      "60000/60000 [==============================] - 17s 283us/step - loss: 25.9678 - player_0_loss: 25.9501 - player_0_yfake_loss: 10.5246 - player_0_yreal_loss: 15.4078 - player_1_loss: 0.0177 - player_1_yfake_loss: 2.6909e-05 - player_1_yreal_loss: 1.1621e-05\n",
      "Epoch 74/100\n",
      "60000/60000 [==============================] - 17s 285us/step - loss: 26.0014 - player_0_loss: 25.9836 - player_0_yfake_loss: 10.4959 - player_0_yreal_loss: 15.4699 - player_1_loss: 0.0178 - player_1_yfake_loss: 2.7895e-05 - player_1_yreal_loss: 1.6511e-05\n",
      "Epoch 75/100\n",
      "60000/60000 [==============================] - 19s 308us/step - loss: 26.1858 - player_0_loss: 26.1679 - player_0_yfake_loss: 10.4792 - player_0_yreal_loss: 15.6708 - player_1_loss: 0.0179 - player_1_yfake_loss: 2.8464e-05 - player_1_yreal_loss: 7.5252e-06\n",
      "Epoch 76/100\n",
      "60000/60000 [==============================] - 18s 303us/step - loss: 26.1009 - player_0_loss: 26.0836 - player_0_yfake_loss: 10.5658 - player_0_yreal_loss: 15.5005 - player_1_loss: 0.0173 - player_1_yfake_loss: 2.5810e-05 - player_1_yreal_loss: 9.8598e-06\n",
      "Epoch 77/100\n",
      "60000/60000 [==============================] - 18s 302us/step - loss: 26.2345 - player_0_loss: 26.2173 - player_0_yfake_loss: 10.5375 - player_0_yreal_loss: 15.6626 - player_1_loss: 0.0172 - player_1_yfake_loss: 2.6651e-05 - player_1_yreal_loss: 1.2181e-05\n",
      "Epoch 78/100\n",
      "60000/60000 [==============================] - 18s 303us/step - loss: 26.1982 - player_0_loss: 26.1808 - player_0_yfake_loss: 10.5672 - player_0_yreal_loss: 15.5962 - player_1_loss: 0.0174 - player_1_yfake_loss: 2.5996e-05 - player_1_yreal_loss: 1.3162e-05\n",
      "Epoch 79/100\n",
      "60000/60000 [==============================] - 18s 307us/step - loss: 26.2608 - player_0_loss: 26.2435 - player_0_yfake_loss: 10.4808 - player_0_yreal_loss: 15.7455 - player_1_loss: 0.0172 - player_1_yfake_loss: 2.8382e-05 - player_1_yreal_loss: 1.2501e-05\n",
      "Epoch 80/100\n",
      "60000/60000 [==============================] - 18s 306us/step - loss: 26.3114 - player_0_loss: 26.2939 - player_0_yfake_loss: 10.5373 - player_0_yreal_loss: 15.7392 - player_1_loss: 0.0175 - player_1_yfake_loss: 2.6934e-05 - player_1_yreal_loss: 1.2747e-05\n",
      "Epoch 81/100\n",
      "60000/60000 [==============================] - 19s 316us/step - loss: 26.2495 - player_0_loss: 26.2318 - player_0_yfake_loss: 10.5182 - player_0_yreal_loss: 15.6959 - player_1_loss: 0.0177 - player_1_yfake_loss: 2.7846e-05 - player_1_yreal_loss: 1.5734e-05\n",
      "Epoch 82/100\n",
      "60000/60000 [==============================] - 18s 306us/step - loss: 26.3247 - player_0_loss: 26.3076 - player_0_yfake_loss: 10.6478 - player_0_yreal_loss: 15.6428 - player_1_loss: 0.0170 - player_1_yfake_loss: 2.3850e-05 - player_1_yreal_loss: 9.9031e-06\n",
      "Epoch 83/100\n",
      "60000/60000 [==============================] - 18s 308us/step - loss: 26.1731 - player_0_loss: 26.1564 - player_0_yfake_loss: 10.6798 - player_0_yreal_loss: 15.4598 - player_1_loss: 0.0167 - player_1_yfake_loss: 2.3021e-05 - player_1_yreal_loss: 1.3015e-05\n",
      "Epoch 84/100\n",
      "60000/60000 [==============================] - 18s 307us/step - loss: 26.1304 - player_0_loss: 26.1137 - player_0_yfake_loss: 10.6515 - player_0_yreal_loss: 15.4456 - player_1_loss: 0.0167 - player_1_yfake_loss: 2.3692e-05 - player_1_yreal_loss: 9.9308e-06\n",
      "Epoch 85/100\n",
      "60000/60000 [==============================] - 20s 339us/step - loss: 26.1961 - player_0_loss: 26.1795 - player_0_yfake_loss: 10.6242 - player_0_yreal_loss: 15.5388 - player_1_loss: 0.0166 - player_1_yfake_loss: 2.4454e-05 - player_1_yreal_loss: 1.3394e-05\n",
      "Epoch 86/100\n",
      "60000/60000 [==============================] - 18s 295us/step - loss: 26.2727 - player_0_loss: 26.2562 - player_0_yfake_loss: 10.6163 - player_0_yreal_loss: 15.6235 - player_1_loss: 0.0165 - player_1_yfake_loss: 2.4552e-05 - player_1_yreal_loss: 1.1077e-05\n",
      "Epoch 87/100\n",
      "60000/60000 [==============================] - 17s 283us/step - loss: 26.1758 - player_0_loss: 26.1595 - player_0_yfake_loss: 10.6717 - player_0_yreal_loss: 15.4716 - player_1_loss: 0.0163 - player_1_yfake_loss: 2.3250e-05 - player_1_yreal_loss: 1.0739e-05\n",
      "Epoch 88/100\n",
      "60000/60000 [==============================] - 17s 290us/step - loss: 26.2788 - player_0_loss: 26.2626 - player_0_yfake_loss: 10.6696 - player_0_yreal_loss: 15.5769 - player_1_loss: 0.0162 - player_1_yfake_loss: 2.3294e-05 - player_1_yreal_loss: 1.1662e-05\n",
      "Epoch 89/100\n",
      "60000/60000 [==============================] - 18s 295us/step - loss: 26.3645 - player_0_loss: 26.3476 - player_0_yfake_loss: 10.5695 - player_0_yreal_loss: 15.7613 - player_1_loss: 0.0169 - player_1_yfake_loss: 2.6506e-05 - player_1_yreal_loss: 1.1639e-05\n",
      "Epoch 90/100\n",
      "60000/60000 [==============================] - 16s 271us/step - loss: 26.4035 - player_0_loss: 26.3871 - player_0_yfake_loss: 10.7722 - player_0_yreal_loss: 15.5985 - player_1_loss: 0.0164 - player_1_yfake_loss: 2.1027e-05 - player_1_yreal_loss: 9.6950e-06\n",
      "Epoch 91/100\n"
     ]
    },
    {
     "name": "stdout",
     "output_type": "stream",
     "text": [
      "60000/60000 [==============================] - 16s 272us/step - loss: 26.2358 - player_0_loss: 26.2197 - player_0_yfake_loss: 10.7224 - player_0_yreal_loss: 15.4811 - player_1_loss: 0.0161 - player_1_yfake_loss: 2.2049e-05 - player_1_yreal_loss: 1.1992e-05\n",
      "Epoch 92/100\n",
      "60000/60000 [==============================] - 15s 256us/step - loss: 26.1823 - player_0_loss: 26.1662 - player_0_yfake_loss: 10.6500 - player_0_yreal_loss: 15.5002 - player_1_loss: 0.0160 - player_1_yfake_loss: 2.4149e-05 - player_1_yreal_loss: 1.4728e-05\n",
      "Epoch 93/100\n",
      "60000/60000 [==============================] - 15s 252us/step - loss: 26.4784 - player_0_loss: 26.4619 - player_0_yfake_loss: 10.7488 - player_0_yreal_loss: 15.6966 - player_1_loss: 0.0165 - player_1_yfake_loss: 2.1661e-05 - player_1_yreal_loss: 7.7292e-06\n",
      "Epoch 94/100\n",
      "60000/60000 [==============================] - 17s 275us/step - loss: 26.3762 - player_0_loss: 26.3601 - player_0_yfake_loss: 10.7579 - player_0_yreal_loss: 15.5861 - player_1_loss: 0.0161 - player_1_yfake_loss: 2.1301e-05 - player_1_yreal_loss: 1.0751e-05\n",
      "Epoch 95/100\n",
      "32256/60000 [===============>..............] - ETA: 7s - loss: 26.2290 - player_0_loss: 26.2133 - player_0_yfake_loss: 10.7334 - player_0_yreal_loss: 15.4642 - player_1_loss: 0.0158 - player_1_yfake_loss: 2.1885e-05 - player_1_yreal_loss: 1.8014e-05"
     ]
    }
   ],
   "source": [
    "modelo.fit(x = previsores_train, y = gan_targets(60000), epochs = 100, batch_size = 256)\n"
   ]
  },
  {
   "cell_type": "code",
   "execution_count": null,
   "metadata": {},
   "outputs": [],
   "source": [
    "amostras = np.random.normal(size = (20,100))"
   ]
  },
  {
   "cell_type": "code",
   "execution_count": null,
   "metadata": {},
   "outputs": [],
   "source": [
    "previsao = gerador.predict(amostras)"
   ]
  },
  {
   "cell_type": "code",
   "execution_count": null,
   "metadata": {},
   "outputs": [],
   "source": [
    "previsao"
   ]
  },
  {
   "cell_type": "code",
   "execution_count": null,
   "metadata": {},
   "outputs": [],
   "source": [
    "for i in range(previsao.shape[0]):\n",
    "    plt.imshow(previsao[i], cmap = 'gray')\n",
    "    plt.show()"
   ]
  },
  {
   "cell_type": "code",
   "execution_count": null,
   "metadata": {},
   "outputs": [],
   "source": []
  }
 ],
 "metadata": {
  "kernelspec": {
   "display_name": "Python 3",
   "language": "python",
   "name": "python3"
  },
  "language_info": {
   "codemirror_mode": {
    "name": "ipython",
    "version": 3
   },
   "file_extension": ".py",
   "mimetype": "text/x-python",
   "name": "python",
   "nbconvert_exporter": "python",
   "pygments_lexer": "ipython3",
   "version": "3.7.3"
  }
 },
 "nbformat": 4,
 "nbformat_minor": 2
}
