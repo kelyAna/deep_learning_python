{
 "cells": [
  {
   "cell_type": "markdown",
   "metadata": {},
   "source": [
    "**Uso de uma Rede Neural Recorrente, para prever investimentos na bolsa de valores**\n",
    "\n",
    "A base de dados representa investimentos nas ações da Petrobas na bolsa de valores, com o histórico do ano de 2013 ao ano de 2018, em tempos de crise. Dessa forma, o objetivo principal do modelo é gerar um gráfico dos preços das ações, mesmo em tempos de crise.\n",
    "\n",
    "Você pode encontrar a base de dados, em:\n",
    "\n",
    "https://br.financas.yahoo.com/"
   ]
  },
  {
   "cell_type": "markdown",
   "metadata": {},
   "source": [
    "Importações iniciais"
   ]
  },
  {
   "cell_type": "code",
   "execution_count": 89,
   "metadata": {},
   "outputs": [],
   "source": [
    "import pandas as pd\n",
    "import numpy as np\n",
    "from keras.models import Sequential\n",
    "from keras.layers import Dense, Dropout, LSTM\n",
    "import matplotlib.pyplot as plt\n",
    "from keras.callbacks import EarlyStopping, ReduceLROnPlateau, ModelCheckpoint"
   ]
  },
  {
   "cell_type": "markdown",
   "metadata": {},
   "source": [
    "Carregando da base de dados de treinamento"
   ]
  },
  {
   "cell_type": "code",
   "execution_count": 90,
   "metadata": {},
   "outputs": [],
   "source": [
    "dataFrame = pd.read_csv('petr4_treinamento.csv')"
   ]
  },
  {
   "cell_type": "markdown",
   "metadata": {},
   "source": [
    "A base de treino é composta pelas seguintes features:\n",
    "\n",
    "* Date - Referente à data de abertura da ação;\n",
    "\n",
    "* Open - Referente ao valor na abertura da ação;\n",
    "\n",
    "* High - Referente ao valor máximo da ação;\n",
    "\n",
    "* Low - Referente ao valor mínimo da ação;\n",
    "\n",
    "* Close - Referente ao valor que a ação foi fechada;\n",
    "\n",
    "* Adj Close - Referente ao valor real previsto pela ação;\n",
    "\n",
    "* Volume - Total de investimentos"
   ]
  },
  {
   "cell_type": "code",
   "execution_count": 91,
   "metadata": {},
   "outputs": [
    {
     "data": {
      "text/html": [
       "<div>\n",
       "<style scoped>\n",
       "    .dataframe tbody tr th:only-of-type {\n",
       "        vertical-align: middle;\n",
       "    }\n",
       "\n",
       "    .dataframe tbody tr th {\n",
       "        vertical-align: top;\n",
       "    }\n",
       "\n",
       "    .dataframe thead th {\n",
       "        text-align: right;\n",
       "    }\n",
       "</style>\n",
       "<table border=\"1\" class=\"dataframe\">\n",
       "  <thead>\n",
       "    <tr style=\"text-align: right;\">\n",
       "      <th></th>\n",
       "      <th>Date</th>\n",
       "      <th>Open</th>\n",
       "      <th>High</th>\n",
       "      <th>Low</th>\n",
       "      <th>Close</th>\n",
       "      <th>Adj Close</th>\n",
       "      <th>Volume</th>\n",
       "    </tr>\n",
       "  </thead>\n",
       "  <tbody>\n",
       "    <tr>\n",
       "      <th>0</th>\n",
       "      <td>2013-01-02</td>\n",
       "      <td>19.990000</td>\n",
       "      <td>20.209999</td>\n",
       "      <td>19.690001</td>\n",
       "      <td>19.690001</td>\n",
       "      <td>18.086271</td>\n",
       "      <td>30182600.0</td>\n",
       "    </tr>\n",
       "    <tr>\n",
       "      <th>1</th>\n",
       "      <td>2013-01-03</td>\n",
       "      <td>19.809999</td>\n",
       "      <td>20.400000</td>\n",
       "      <td>19.700001</td>\n",
       "      <td>20.400000</td>\n",
       "      <td>18.738441</td>\n",
       "      <td>30552600.0</td>\n",
       "    </tr>\n",
       "    <tr>\n",
       "      <th>2</th>\n",
       "      <td>2013-01-04</td>\n",
       "      <td>20.330000</td>\n",
       "      <td>20.620001</td>\n",
       "      <td>20.170000</td>\n",
       "      <td>20.430000</td>\n",
       "      <td>18.766001</td>\n",
       "      <td>36141000.0</td>\n",
       "    </tr>\n",
       "    <tr>\n",
       "      <th>3</th>\n",
       "      <td>2013-01-07</td>\n",
       "      <td>20.480000</td>\n",
       "      <td>20.670000</td>\n",
       "      <td>19.950001</td>\n",
       "      <td>20.080000</td>\n",
       "      <td>18.444506</td>\n",
       "      <td>28069600.0</td>\n",
       "    </tr>\n",
       "    <tr>\n",
       "      <th>4</th>\n",
       "      <td>2013-01-08</td>\n",
       "      <td>20.110001</td>\n",
       "      <td>20.230000</td>\n",
       "      <td>19.459999</td>\n",
       "      <td>19.500000</td>\n",
       "      <td>17.911745</td>\n",
       "      <td>29091300.0</td>\n",
       "    </tr>\n",
       "    <tr>\n",
       "      <th>5</th>\n",
       "      <td>2013-01-09</td>\n",
       "      <td>19.639999</td>\n",
       "      <td>19.870001</td>\n",
       "      <td>19.459999</td>\n",
       "      <td>19.680000</td>\n",
       "      <td>18.077084</td>\n",
       "      <td>24361100.0</td>\n",
       "    </tr>\n",
       "    <tr>\n",
       "      <th>6</th>\n",
       "      <td>2013-01-10</td>\n",
       "      <td>19.770000</td>\n",
       "      <td>20.049999</td>\n",
       "      <td>19.540001</td>\n",
       "      <td>19.830000</td>\n",
       "      <td>18.214869</td>\n",
       "      <td>17526200.0</td>\n",
       "    </tr>\n",
       "    <tr>\n",
       "      <th>7</th>\n",
       "      <td>2013-01-11</td>\n",
       "      <td>19.850000</td>\n",
       "      <td>20.040001</td>\n",
       "      <td>19.700001</td>\n",
       "      <td>19.879999</td>\n",
       "      <td>18.260794</td>\n",
       "      <td>18223600.0</td>\n",
       "    </tr>\n",
       "    <tr>\n",
       "      <th>8</th>\n",
       "      <td>2013-01-14</td>\n",
       "      <td>20.010000</td>\n",
       "      <td>20.240000</td>\n",
       "      <td>19.690001</td>\n",
       "      <td>19.719999</td>\n",
       "      <td>18.113827</td>\n",
       "      <td>28302400.0</td>\n",
       "    </tr>\n",
       "    <tr>\n",
       "      <th>9</th>\n",
       "      <td>2013-01-15</td>\n",
       "      <td>20.010000</td>\n",
       "      <td>20.240000</td>\n",
       "      <td>19.690001</td>\n",
       "      <td>19.820000</td>\n",
       "      <td>18.205681</td>\n",
       "      <td>29633900.0</td>\n",
       "    </tr>\n",
       "    <tr>\n",
       "      <th>10</th>\n",
       "      <td>2013-01-16</td>\n",
       "      <td>19.889999</td>\n",
       "      <td>19.889999</td>\n",
       "      <td>19.600000</td>\n",
       "      <td>19.840000</td>\n",
       "      <td>18.224054</td>\n",
       "      <td>16787800.0</td>\n",
       "    </tr>\n",
       "    <tr>\n",
       "      <th>11</th>\n",
       "      <td>2013-01-17</td>\n",
       "      <td>19.860001</td>\n",
       "      <td>19.930000</td>\n",
       "      <td>19.600000</td>\n",
       "      <td>19.709999</td>\n",
       "      <td>18.104639</td>\n",
       "      <td>19719600.0</td>\n",
       "    </tr>\n",
       "    <tr>\n",
       "      <th>12</th>\n",
       "      <td>2013-01-18</td>\n",
       "      <td>19.799999</td>\n",
       "      <td>19.889999</td>\n",
       "      <td>19.540001</td>\n",
       "      <td>19.580000</td>\n",
       "      <td>17.985229</td>\n",
       "      <td>18913900.0</td>\n",
       "    </tr>\n",
       "    <tr>\n",
       "      <th>13</th>\n",
       "      <td>2013-01-21</td>\n",
       "      <td>19.570000</td>\n",
       "      <td>19.600000</td>\n",
       "      <td>19.270000</td>\n",
       "      <td>19.389999</td>\n",
       "      <td>17.810705</td>\n",
       "      <td>18086200.0</td>\n",
       "    </tr>\n",
       "    <tr>\n",
       "      <th>14</th>\n",
       "      <td>2013-01-22</td>\n",
       "      <td>19.420000</td>\n",
       "      <td>19.610001</td>\n",
       "      <td>19.230000</td>\n",
       "      <td>19.580000</td>\n",
       "      <td>17.985229</td>\n",
       "      <td>23535100.0</td>\n",
       "    </tr>\n",
       "    <tr>\n",
       "      <th>15</th>\n",
       "      <td>2013-01-23</td>\n",
       "      <td>19.420000</td>\n",
       "      <td>19.629999</td>\n",
       "      <td>19.230000</td>\n",
       "      <td>19.549999</td>\n",
       "      <td>17.957674</td>\n",
       "      <td>17200800.0</td>\n",
       "    </tr>\n",
       "    <tr>\n",
       "      <th>16</th>\n",
       "      <td>2013-01-24</td>\n",
       "      <td>19.370001</td>\n",
       "      <td>19.750000</td>\n",
       "      <td>19.370001</td>\n",
       "      <td>19.610001</td>\n",
       "      <td>18.012787</td>\n",
       "      <td>19612600.0</td>\n",
       "    </tr>\n",
       "    <tr>\n",
       "      <th>17</th>\n",
       "      <td>2013-01-28</td>\n",
       "      <td>19.730000</td>\n",
       "      <td>19.809999</td>\n",
       "      <td>19.270000</td>\n",
       "      <td>19.370001</td>\n",
       "      <td>17.792336</td>\n",
       "      <td>20122600.0</td>\n",
       "    </tr>\n",
       "    <tr>\n",
       "      <th>18</th>\n",
       "      <td>2013-01-29</td>\n",
       "      <td>19.350000</td>\n",
       "      <td>19.370001</td>\n",
       "      <td>18.840000</td>\n",
       "      <td>19.110001</td>\n",
       "      <td>17.553513</td>\n",
       "      <td>27097900.0</td>\n",
       "    </tr>\n",
       "    <tr>\n",
       "      <th>19</th>\n",
       "      <td>2013-01-30</td>\n",
       "      <td>18.990000</td>\n",
       "      <td>18.990000</td>\n",
       "      <td>18.170000</td>\n",
       "      <td>18.200001</td>\n",
       "      <td>16.717628</td>\n",
       "      <td>66985800.0</td>\n",
       "    </tr>\n",
       "    <tr>\n",
       "      <th>20</th>\n",
       "      <td>2013-01-31</td>\n",
       "      <td>18.260000</td>\n",
       "      <td>18.330000</td>\n",
       "      <td>17.900000</td>\n",
       "      <td>18.080000</td>\n",
       "      <td>16.607405</td>\n",
       "      <td>33246400.0</td>\n",
       "    </tr>\n",
       "    <tr>\n",
       "      <th>21</th>\n",
       "      <td>2013-02-01</td>\n",
       "      <td>18.139999</td>\n",
       "      <td>18.650000</td>\n",
       "      <td>18.120001</td>\n",
       "      <td>18.459999</td>\n",
       "      <td>16.956451</td>\n",
       "      <td>28860400.0</td>\n",
       "    </tr>\n",
       "    <tr>\n",
       "      <th>22</th>\n",
       "      <td>2013-02-04</td>\n",
       "      <td>18.160000</td>\n",
       "      <td>18.350000</td>\n",
       "      <td>17.889999</td>\n",
       "      <td>18.000000</td>\n",
       "      <td>16.533920</td>\n",
       "      <td>32294300.0</td>\n",
       "    </tr>\n",
       "    <tr>\n",
       "      <th>23</th>\n",
       "      <td>2013-02-05</td>\n",
       "      <td>17.280001</td>\n",
       "      <td>18.290001</td>\n",
       "      <td>17.260000</td>\n",
       "      <td>18.080000</td>\n",
       "      <td>16.607405</td>\n",
       "      <td>77332900.0</td>\n",
       "    </tr>\n",
       "    <tr>\n",
       "      <th>24</th>\n",
       "      <td>2013-02-06</td>\n",
       "      <td>17.930000</td>\n",
       "      <td>18.000000</td>\n",
       "      <td>17.530001</td>\n",
       "      <td>17.600000</td>\n",
       "      <td>16.166500</td>\n",
       "      <td>30886100.0</td>\n",
       "    </tr>\n",
       "    <tr>\n",
       "      <th>25</th>\n",
       "      <td>2013-02-07</td>\n",
       "      <td>17.750000</td>\n",
       "      <td>17.980000</td>\n",
       "      <td>17.320000</td>\n",
       "      <td>17.500000</td>\n",
       "      <td>16.074644</td>\n",
       "      <td>37066400.0</td>\n",
       "    </tr>\n",
       "    <tr>\n",
       "      <th>26</th>\n",
       "      <td>2013-02-08</td>\n",
       "      <td>17.549999</td>\n",
       "      <td>17.780001</td>\n",
       "      <td>17.379999</td>\n",
       "      <td>17.740000</td>\n",
       "      <td>16.295095</td>\n",
       "      <td>31068100.0</td>\n",
       "    </tr>\n",
       "    <tr>\n",
       "      <th>27</th>\n",
       "      <td>2013-02-13</td>\n",
       "      <td>17.950001</td>\n",
       "      <td>18.000000</td>\n",
       "      <td>17.730000</td>\n",
       "      <td>17.799999</td>\n",
       "      <td>16.350208</td>\n",
       "      <td>22328200.0</td>\n",
       "    </tr>\n",
       "    <tr>\n",
       "      <th>28</th>\n",
       "      <td>2013-02-14</td>\n",
       "      <td>17.790001</td>\n",
       "      <td>17.900000</td>\n",
       "      <td>17.580000</td>\n",
       "      <td>17.670000</td>\n",
       "      <td>16.230797</td>\n",
       "      <td>25902900.0</td>\n",
       "    </tr>\n",
       "    <tr>\n",
       "      <th>29</th>\n",
       "      <td>2013-02-15</td>\n",
       "      <td>17.610001</td>\n",
       "      <td>17.790001</td>\n",
       "      <td>17.530001</td>\n",
       "      <td>17.629999</td>\n",
       "      <td>16.194056</td>\n",
       "      <td>25001600.0</td>\n",
       "    </tr>\n",
       "    <tr>\n",
       "      <th>...</th>\n",
       "      <td>...</td>\n",
       "      <td>...</td>\n",
       "      <td>...</td>\n",
       "      <td>...</td>\n",
       "      <td>...</td>\n",
       "      <td>...</td>\n",
       "      <td>...</td>\n",
       "    </tr>\n",
       "    <tr>\n",
       "      <th>1215</th>\n",
       "      <td>2017-11-20</td>\n",
       "      <td>16.020000</td>\n",
       "      <td>16.020000</td>\n",
       "      <td>16.020000</td>\n",
       "      <td>16.020000</td>\n",
       "      <td>15.988025</td>\n",
       "      <td>0.0</td>\n",
       "    </tr>\n",
       "    <tr>\n",
       "      <th>1216</th>\n",
       "      <td>2017-11-21</td>\n",
       "      <td>16.150000</td>\n",
       "      <td>16.309999</td>\n",
       "      <td>15.850000</td>\n",
       "      <td>15.900000</td>\n",
       "      <td>15.868263</td>\n",
       "      <td>45817800.0</td>\n",
       "    </tr>\n",
       "    <tr>\n",
       "      <th>1217</th>\n",
       "      <td>2017-11-22</td>\n",
       "      <td>16.090000</td>\n",
       "      <td>16.240000</td>\n",
       "      <td>15.930000</td>\n",
       "      <td>16.110001</td>\n",
       "      <td>16.077845</td>\n",
       "      <td>37444900.0</td>\n",
       "    </tr>\n",
       "    <tr>\n",
       "      <th>1218</th>\n",
       "      <td>2017-11-23</td>\n",
       "      <td>15.980000</td>\n",
       "      <td>16.260000</td>\n",
       "      <td>15.940000</td>\n",
       "      <td>16.190001</td>\n",
       "      <td>16.157686</td>\n",
       "      <td>15403600.0</td>\n",
       "    </tr>\n",
       "    <tr>\n",
       "      <th>1219</th>\n",
       "      <td>2017-11-24</td>\n",
       "      <td>16.250000</td>\n",
       "      <td>16.370001</td>\n",
       "      <td>16.040001</td>\n",
       "      <td>16.100000</td>\n",
       "      <td>16.067865</td>\n",
       "      <td>18790700.0</td>\n",
       "    </tr>\n",
       "    <tr>\n",
       "      <th>1220</th>\n",
       "      <td>2017-11-27</td>\n",
       "      <td>16.010000</td>\n",
       "      <td>16.020000</td>\n",
       "      <td>15.780000</td>\n",
       "      <td>15.870000</td>\n",
       "      <td>15.838324</td>\n",
       "      <td>28445800.0</td>\n",
       "    </tr>\n",
       "    <tr>\n",
       "      <th>1221</th>\n",
       "      <td>2017-11-28</td>\n",
       "      <td>15.930000</td>\n",
       "      <td>16.040001</td>\n",
       "      <td>15.810000</td>\n",
       "      <td>15.840000</td>\n",
       "      <td>15.808384</td>\n",
       "      <td>30429600.0</td>\n",
       "    </tr>\n",
       "    <tr>\n",
       "      <th>1222</th>\n",
       "      <td>2017-11-29</td>\n",
       "      <td>15.870000</td>\n",
       "      <td>15.920000</td>\n",
       "      <td>15.320000</td>\n",
       "      <td>15.330000</td>\n",
       "      <td>15.299401</td>\n",
       "      <td>45973000.0</td>\n",
       "    </tr>\n",
       "    <tr>\n",
       "      <th>1223</th>\n",
       "      <td>2017-11-30</td>\n",
       "      <td>15.300000</td>\n",
       "      <td>15.470000</td>\n",
       "      <td>14.990000</td>\n",
       "      <td>15.380000</td>\n",
       "      <td>15.349302</td>\n",
       "      <td>52811400.0</td>\n",
       "    </tr>\n",
       "    <tr>\n",
       "      <th>1224</th>\n",
       "      <td>2017-12-01</td>\n",
       "      <td>15.340000</td>\n",
       "      <td>15.770000</td>\n",
       "      <td>15.260000</td>\n",
       "      <td>15.610000</td>\n",
       "      <td>15.578842</td>\n",
       "      <td>42703800.0</td>\n",
       "    </tr>\n",
       "    <tr>\n",
       "      <th>1225</th>\n",
       "      <td>2017-12-04</td>\n",
       "      <td>15.650000</td>\n",
       "      <td>15.800000</td>\n",
       "      <td>15.460000</td>\n",
       "      <td>15.480000</td>\n",
       "      <td>15.449101</td>\n",
       "      <td>43821500.0</td>\n",
       "    </tr>\n",
       "    <tr>\n",
       "      <th>1226</th>\n",
       "      <td>2017-12-05</td>\n",
       "      <td>15.500000</td>\n",
       "      <td>15.830000</td>\n",
       "      <td>15.210000</td>\n",
       "      <td>15.310000</td>\n",
       "      <td>15.279442</td>\n",
       "      <td>30228000.0</td>\n",
       "    </tr>\n",
       "    <tr>\n",
       "      <th>1227</th>\n",
       "      <td>2017-12-06</td>\n",
       "      <td>15.220000</td>\n",
       "      <td>15.700000</td>\n",
       "      <td>15.140000</td>\n",
       "      <td>15.520000</td>\n",
       "      <td>15.489023</td>\n",
       "      <td>39238500.0</td>\n",
       "    </tr>\n",
       "    <tr>\n",
       "      <th>1228</th>\n",
       "      <td>2017-12-07</td>\n",
       "      <td>15.300000</td>\n",
       "      <td>15.490000</td>\n",
       "      <td>15.070000</td>\n",
       "      <td>15.260000</td>\n",
       "      <td>15.229542</td>\n",
       "      <td>37281400.0</td>\n",
       "    </tr>\n",
       "    <tr>\n",
       "      <th>1229</th>\n",
       "      <td>2017-12-08</td>\n",
       "      <td>15.510000</td>\n",
       "      <td>15.680000</td>\n",
       "      <td>15.350000</td>\n",
       "      <td>15.350000</td>\n",
       "      <td>15.319362</td>\n",
       "      <td>39584500.0</td>\n",
       "    </tr>\n",
       "    <tr>\n",
       "      <th>1230</th>\n",
       "      <td>2017-12-11</td>\n",
       "      <td>15.480000</td>\n",
       "      <td>15.570000</td>\n",
       "      <td>15.370000</td>\n",
       "      <td>15.380000</td>\n",
       "      <td>15.349302</td>\n",
       "      <td>21281600.0</td>\n",
       "    </tr>\n",
       "    <tr>\n",
       "      <th>1231</th>\n",
       "      <td>2017-12-12</td>\n",
       "      <td>15.360000</td>\n",
       "      <td>15.490000</td>\n",
       "      <td>15.180000</td>\n",
       "      <td>15.490000</td>\n",
       "      <td>15.459082</td>\n",
       "      <td>36201200.0</td>\n",
       "    </tr>\n",
       "    <tr>\n",
       "      <th>1232</th>\n",
       "      <td>2017-12-13</td>\n",
       "      <td>15.650000</td>\n",
       "      <td>15.680000</td>\n",
       "      <td>15.110000</td>\n",
       "      <td>15.180000</td>\n",
       "      <td>15.149701</td>\n",
       "      <td>46828900.0</td>\n",
       "    </tr>\n",
       "    <tr>\n",
       "      <th>1233</th>\n",
       "      <td>2017-12-14</td>\n",
       "      <td>15.100000</td>\n",
       "      <td>15.310000</td>\n",
       "      <td>15.000000</td>\n",
       "      <td>15.010000</td>\n",
       "      <td>14.980041</td>\n",
       "      <td>37177300.0</td>\n",
       "    </tr>\n",
       "    <tr>\n",
       "      <th>1234</th>\n",
       "      <td>2017-12-15</td>\n",
       "      <td>15.050000</td>\n",
       "      <td>15.240000</td>\n",
       "      <td>14.950000</td>\n",
       "      <td>14.950000</td>\n",
       "      <td>14.920160</td>\n",
       "      <td>55668300.0</td>\n",
       "    </tr>\n",
       "    <tr>\n",
       "      <th>1235</th>\n",
       "      <td>2017-12-18</td>\n",
       "      <td>15.160000</td>\n",
       "      <td>15.330000</td>\n",
       "      <td>15.130000</td>\n",
       "      <td>15.220000</td>\n",
       "      <td>15.189621</td>\n",
       "      <td>42760400.0</td>\n",
       "    </tr>\n",
       "    <tr>\n",
       "      <th>1236</th>\n",
       "      <td>2017-12-19</td>\n",
       "      <td>15.180000</td>\n",
       "      <td>15.250000</td>\n",
       "      <td>15.060000</td>\n",
       "      <td>15.140000</td>\n",
       "      <td>15.109781</td>\n",
       "      <td>22639700.0</td>\n",
       "    </tr>\n",
       "    <tr>\n",
       "      <th>1237</th>\n",
       "      <td>2017-12-20</td>\n",
       "      <td>15.210000</td>\n",
       "      <td>15.300000</td>\n",
       "      <td>15.170000</td>\n",
       "      <td>15.240000</td>\n",
       "      <td>15.209581</td>\n",
       "      <td>20149700.0</td>\n",
       "    </tr>\n",
       "    <tr>\n",
       "      <th>1238</th>\n",
       "      <td>2017-12-21</td>\n",
       "      <td>15.310000</td>\n",
       "      <td>15.870000</td>\n",
       "      <td>15.300000</td>\n",
       "      <td>15.860000</td>\n",
       "      <td>15.828343</td>\n",
       "      <td>47219400.0</td>\n",
       "    </tr>\n",
       "    <tr>\n",
       "      <th>1239</th>\n",
       "      <td>2017-12-22</td>\n",
       "      <td>15.750000</td>\n",
       "      <td>15.890000</td>\n",
       "      <td>15.690000</td>\n",
       "      <td>15.750000</td>\n",
       "      <td>15.718563</td>\n",
       "      <td>18708500.0</td>\n",
       "    </tr>\n",
       "    <tr>\n",
       "      <th>1240</th>\n",
       "      <td>2017-12-25</td>\n",
       "      <td>15.750000</td>\n",
       "      <td>15.750000</td>\n",
       "      <td>15.750000</td>\n",
       "      <td>15.750000</td>\n",
       "      <td>15.718563</td>\n",
       "      <td>0.0</td>\n",
       "    </tr>\n",
       "    <tr>\n",
       "      <th>1241</th>\n",
       "      <td>2017-12-26</td>\n",
       "      <td>15.750000</td>\n",
       "      <td>15.990000</td>\n",
       "      <td>15.690000</td>\n",
       "      <td>15.970000</td>\n",
       "      <td>15.938125</td>\n",
       "      <td>22173100.0</td>\n",
       "    </tr>\n",
       "    <tr>\n",
       "      <th>1242</th>\n",
       "      <td>2017-12-27</td>\n",
       "      <td>15.990000</td>\n",
       "      <td>16.139999</td>\n",
       "      <td>15.980000</td>\n",
       "      <td>16.049999</td>\n",
       "      <td>16.017963</td>\n",
       "      <td>23552200.0</td>\n",
       "    </tr>\n",
       "    <tr>\n",
       "      <th>1243</th>\n",
       "      <td>2017-12-28</td>\n",
       "      <td>16.100000</td>\n",
       "      <td>16.129999</td>\n",
       "      <td>16.000000</td>\n",
       "      <td>16.100000</td>\n",
       "      <td>16.067865</td>\n",
       "      <td>19011500.0</td>\n",
       "    </tr>\n",
       "    <tr>\n",
       "      <th>1244</th>\n",
       "      <td>2017-12-29</td>\n",
       "      <td>16.100000</td>\n",
       "      <td>16.100000</td>\n",
       "      <td>16.100000</td>\n",
       "      <td>16.100000</td>\n",
       "      <td>16.067865</td>\n",
       "      <td>0.0</td>\n",
       "    </tr>\n",
       "  </tbody>\n",
       "</table>\n",
       "<p>1245 rows × 7 columns</p>\n",
       "</div>"
      ],
      "text/plain": [
       "            Date       Open       High        Low      Close  Adj Close  \\\n",
       "0     2013-01-02  19.990000  20.209999  19.690001  19.690001  18.086271   \n",
       "1     2013-01-03  19.809999  20.400000  19.700001  20.400000  18.738441   \n",
       "2     2013-01-04  20.330000  20.620001  20.170000  20.430000  18.766001   \n",
       "3     2013-01-07  20.480000  20.670000  19.950001  20.080000  18.444506   \n",
       "4     2013-01-08  20.110001  20.230000  19.459999  19.500000  17.911745   \n",
       "5     2013-01-09  19.639999  19.870001  19.459999  19.680000  18.077084   \n",
       "6     2013-01-10  19.770000  20.049999  19.540001  19.830000  18.214869   \n",
       "7     2013-01-11  19.850000  20.040001  19.700001  19.879999  18.260794   \n",
       "8     2013-01-14  20.010000  20.240000  19.690001  19.719999  18.113827   \n",
       "9     2013-01-15  20.010000  20.240000  19.690001  19.820000  18.205681   \n",
       "10    2013-01-16  19.889999  19.889999  19.600000  19.840000  18.224054   \n",
       "11    2013-01-17  19.860001  19.930000  19.600000  19.709999  18.104639   \n",
       "12    2013-01-18  19.799999  19.889999  19.540001  19.580000  17.985229   \n",
       "13    2013-01-21  19.570000  19.600000  19.270000  19.389999  17.810705   \n",
       "14    2013-01-22  19.420000  19.610001  19.230000  19.580000  17.985229   \n",
       "15    2013-01-23  19.420000  19.629999  19.230000  19.549999  17.957674   \n",
       "16    2013-01-24  19.370001  19.750000  19.370001  19.610001  18.012787   \n",
       "17    2013-01-28  19.730000  19.809999  19.270000  19.370001  17.792336   \n",
       "18    2013-01-29  19.350000  19.370001  18.840000  19.110001  17.553513   \n",
       "19    2013-01-30  18.990000  18.990000  18.170000  18.200001  16.717628   \n",
       "20    2013-01-31  18.260000  18.330000  17.900000  18.080000  16.607405   \n",
       "21    2013-02-01  18.139999  18.650000  18.120001  18.459999  16.956451   \n",
       "22    2013-02-04  18.160000  18.350000  17.889999  18.000000  16.533920   \n",
       "23    2013-02-05  17.280001  18.290001  17.260000  18.080000  16.607405   \n",
       "24    2013-02-06  17.930000  18.000000  17.530001  17.600000  16.166500   \n",
       "25    2013-02-07  17.750000  17.980000  17.320000  17.500000  16.074644   \n",
       "26    2013-02-08  17.549999  17.780001  17.379999  17.740000  16.295095   \n",
       "27    2013-02-13  17.950001  18.000000  17.730000  17.799999  16.350208   \n",
       "28    2013-02-14  17.790001  17.900000  17.580000  17.670000  16.230797   \n",
       "29    2013-02-15  17.610001  17.790001  17.530001  17.629999  16.194056   \n",
       "...          ...        ...        ...        ...        ...        ...   \n",
       "1215  2017-11-20  16.020000  16.020000  16.020000  16.020000  15.988025   \n",
       "1216  2017-11-21  16.150000  16.309999  15.850000  15.900000  15.868263   \n",
       "1217  2017-11-22  16.090000  16.240000  15.930000  16.110001  16.077845   \n",
       "1218  2017-11-23  15.980000  16.260000  15.940000  16.190001  16.157686   \n",
       "1219  2017-11-24  16.250000  16.370001  16.040001  16.100000  16.067865   \n",
       "1220  2017-11-27  16.010000  16.020000  15.780000  15.870000  15.838324   \n",
       "1221  2017-11-28  15.930000  16.040001  15.810000  15.840000  15.808384   \n",
       "1222  2017-11-29  15.870000  15.920000  15.320000  15.330000  15.299401   \n",
       "1223  2017-11-30  15.300000  15.470000  14.990000  15.380000  15.349302   \n",
       "1224  2017-12-01  15.340000  15.770000  15.260000  15.610000  15.578842   \n",
       "1225  2017-12-04  15.650000  15.800000  15.460000  15.480000  15.449101   \n",
       "1226  2017-12-05  15.500000  15.830000  15.210000  15.310000  15.279442   \n",
       "1227  2017-12-06  15.220000  15.700000  15.140000  15.520000  15.489023   \n",
       "1228  2017-12-07  15.300000  15.490000  15.070000  15.260000  15.229542   \n",
       "1229  2017-12-08  15.510000  15.680000  15.350000  15.350000  15.319362   \n",
       "1230  2017-12-11  15.480000  15.570000  15.370000  15.380000  15.349302   \n",
       "1231  2017-12-12  15.360000  15.490000  15.180000  15.490000  15.459082   \n",
       "1232  2017-12-13  15.650000  15.680000  15.110000  15.180000  15.149701   \n",
       "1233  2017-12-14  15.100000  15.310000  15.000000  15.010000  14.980041   \n",
       "1234  2017-12-15  15.050000  15.240000  14.950000  14.950000  14.920160   \n",
       "1235  2017-12-18  15.160000  15.330000  15.130000  15.220000  15.189621   \n",
       "1236  2017-12-19  15.180000  15.250000  15.060000  15.140000  15.109781   \n",
       "1237  2017-12-20  15.210000  15.300000  15.170000  15.240000  15.209581   \n",
       "1238  2017-12-21  15.310000  15.870000  15.300000  15.860000  15.828343   \n",
       "1239  2017-12-22  15.750000  15.890000  15.690000  15.750000  15.718563   \n",
       "1240  2017-12-25  15.750000  15.750000  15.750000  15.750000  15.718563   \n",
       "1241  2017-12-26  15.750000  15.990000  15.690000  15.970000  15.938125   \n",
       "1242  2017-12-27  15.990000  16.139999  15.980000  16.049999  16.017963   \n",
       "1243  2017-12-28  16.100000  16.129999  16.000000  16.100000  16.067865   \n",
       "1244  2017-12-29  16.100000  16.100000  16.100000  16.100000  16.067865   \n",
       "\n",
       "          Volume  \n",
       "0     30182600.0  \n",
       "1     30552600.0  \n",
       "2     36141000.0  \n",
       "3     28069600.0  \n",
       "4     29091300.0  \n",
       "5     24361100.0  \n",
       "6     17526200.0  \n",
       "7     18223600.0  \n",
       "8     28302400.0  \n",
       "9     29633900.0  \n",
       "10    16787800.0  \n",
       "11    19719600.0  \n",
       "12    18913900.0  \n",
       "13    18086200.0  \n",
       "14    23535100.0  \n",
       "15    17200800.0  \n",
       "16    19612600.0  \n",
       "17    20122600.0  \n",
       "18    27097900.0  \n",
       "19    66985800.0  \n",
       "20    33246400.0  \n",
       "21    28860400.0  \n",
       "22    32294300.0  \n",
       "23    77332900.0  \n",
       "24    30886100.0  \n",
       "25    37066400.0  \n",
       "26    31068100.0  \n",
       "27    22328200.0  \n",
       "28    25902900.0  \n",
       "29    25001600.0  \n",
       "...          ...  \n",
       "1215         0.0  \n",
       "1216  45817800.0  \n",
       "1217  37444900.0  \n",
       "1218  15403600.0  \n",
       "1219  18790700.0  \n",
       "1220  28445800.0  \n",
       "1221  30429600.0  \n",
       "1222  45973000.0  \n",
       "1223  52811400.0  \n",
       "1224  42703800.0  \n",
       "1225  43821500.0  \n",
       "1226  30228000.0  \n",
       "1227  39238500.0  \n",
       "1228  37281400.0  \n",
       "1229  39584500.0  \n",
       "1230  21281600.0  \n",
       "1231  36201200.0  \n",
       "1232  46828900.0  \n",
       "1233  37177300.0  \n",
       "1234  55668300.0  \n",
       "1235  42760400.0  \n",
       "1236  22639700.0  \n",
       "1237  20149700.0  \n",
       "1238  47219400.0  \n",
       "1239  18708500.0  \n",
       "1240         0.0  \n",
       "1241  22173100.0  \n",
       "1242  23552200.0  \n",
       "1243  19011500.0  \n",
       "1244         0.0  \n",
       "\n",
       "[1245 rows x 7 columns]"
      ]
     },
     "execution_count": 91,
     "metadata": {},
     "output_type": "execute_result"
    }
   ],
   "source": [
    "dataFrame"
   ]
  },
  {
   "cell_type": "markdown",
   "metadata": {},
   "source": [
    "**Pré-processamento dos dados**"
   ]
  },
  {
   "cell_type": "markdown",
   "metadata": {},
   "source": [
    "Em relação ao valores NaN, podemos realizar três ações:\n",
    "\n",
    "* Exclução desses valores\n",
    "* Substituição por 0\n",
    "* Substituir pela média de cada coluna"
   ]
  },
  {
   "cell_type": "code",
   "execution_count": 92,
   "metadata": {},
   "outputs": [
    {
     "data": {
      "text/plain": [
       "Date         0\n",
       "Open         3\n",
       "High         3\n",
       "Low          3\n",
       "Close        3\n",
       "Adj Close    3\n",
       "Volume       3\n",
       "dtype: int64"
      ]
     },
     "execution_count": 92,
     "metadata": {},
     "output_type": "execute_result"
    }
   ],
   "source": [
    "dataFrame.isnull().sum()"
   ]
  },
  {
   "cell_type": "markdown",
   "metadata": {},
   "source": [
    "Visto que a quantidade de valores do tipo NaN é relativamente baixa em relação aos 1245 dados do data set, podemos optar por apagar esses registros."
   ]
  },
  {
   "cell_type": "code",
   "execution_count": 93,
   "metadata": {},
   "outputs": [],
   "source": [
    "dataFrame = dataFrame.dropna()"
   ]
  },
  {
   "cell_type": "code",
   "execution_count": 94,
   "metadata": {},
   "outputs": [
    {
     "data": {
      "text/plain": [
       "(1242, 7)"
      ]
     },
     "execution_count": 94,
     "metadata": {},
     "output_type": "execute_result"
    }
   ],
   "source": [
    "dataFrame.shape"
   ]
  },
  {
   "cell_type": "markdown",
   "metadata": {},
   "source": [
    "Dessa forma, podemos verificar se a função dropna(), conseguiu apagar estes valores nulos:"
   ]
  },
  {
   "cell_type": "code",
   "execution_count": 95,
   "metadata": {},
   "outputs": [
    {
     "data": {
      "text/plain": [
       "Date         0\n",
       "Open         0\n",
       "High         0\n",
       "Low          0\n",
       "Close        0\n",
       "Adj Close    0\n",
       "Volume       0\n",
       "dtype: int64"
      ]
     },
     "execution_count": 95,
     "metadata": {},
     "output_type": "execute_result"
    }
   ],
   "source": [
    "dataFrame.isnull().sum()"
   ]
  },
  {
   "cell_type": "markdown",
   "metadata": {},
   "source": [
    "Nesse cenário, faremos a previsão dos valores das ações com a utilização de múltiplos previsores. Com isso, usaremos todos os atributos da base de dados."
   ]
  },
  {
   "cell_type": "code",
   "execution_count": 96,
   "metadata": {},
   "outputs": [],
   "source": [
    "base_treinamento = dataFrame.iloc[:,1:7].values"
   ]
  },
  {
   "cell_type": "code",
   "execution_count": 97,
   "metadata": {},
   "outputs": [
    {
     "data": {
      "text/plain": [
       "(1242, 6)"
      ]
     },
     "execution_count": 97,
     "metadata": {},
     "output_type": "execute_result"
    }
   ],
   "source": [
    "base_treinamento.shape"
   ]
  },
  {
   "cell_type": "markdown",
   "metadata": {},
   "source": [
    "Nosso modelo trabalha com valores reais, podemos dizer assim. Dessa forma, podemos encontrar valores muito altos, que podem influenciar no treinamento. Para resolver essa problemática, podemos escolher duas opções:\n",
    "\n",
    "* Normalização dos dados\n",
    "\n",
    "* Padronização dos dados"
   ]
  },
  {
   "cell_type": "markdown",
   "metadata": {},
   "source": [
    "Ambas as técnicas trabalham com o um único objetivo: deixar os dados na mesma grandeza. Para isso, veremos como cada uma trabalha, de forma individual:"
   ]
  },
  {
   "cell_type": "markdown",
   "metadata": {},
   "source": [
    "**Normalização**\n",
    "\n",
    "![Min-Max fórmula](https://miro.medium.com/max/202/1*9N7QdpE_CfvkTyirk7_oWw.png)"
   ]
  },
  {
   "cell_type": "markdown",
   "metadata": {},
   "source": [
    "**Padronização**\n",
    "\n",
    "<img src=\"https://d1whtlypfis84e.cloudfront.net/guides/wp-content/uploads/2020/04/04155631/1426878678.png \" alt=\"drawing\" width=\"150\"/>"
   ]
  },
  {
   "cell_type": "markdown",
   "metadata": {},
   "source": [
    "Neste modelo, vamos utilizar a técnica de **Normalização**, visto a tratar os outliers nos nossos dados."
   ]
  },
  {
   "cell_type": "code",
   "execution_count": 98,
   "metadata": {},
   "outputs": [],
   "source": [
    "from sklearn.preprocessing import MinMaxScaler"
   ]
  },
  {
   "cell_type": "markdown",
   "metadata": {},
   "source": [
    "Para normalizar esse dados, vamos utilizar a função MinMaxScaler(), que irá transformar os dados em uma escala de 0 e 1."
   ]
  },
  {
   "cell_type": "code",
   "execution_count": 99,
   "metadata": {},
   "outputs": [],
   "source": [
    "normalizador = MinMaxScaler(feature_range = [0,1])"
   ]
  },
  {
   "cell_type": "code",
   "execution_count": 100,
   "metadata": {},
   "outputs": [],
   "source": [
    "base_treinamento_normalizer = normalizador.fit_transform(base_treinamento)"
   ]
  },
  {
   "cell_type": "code",
   "execution_count": 101,
   "metadata": {},
   "outputs": [
    {
     "data": {
      "text/plain": [
       "array([[0.76501938],\n",
       "       [0.7562984 ],\n",
       "       [0.78149225],\n",
       "       ...,\n",
       "       [0.57122093],\n",
       "       [0.57655039],\n",
       "       [0.57655039]])"
      ]
     },
     "execution_count": 101,
     "metadata": {},
     "output_type": "execute_result"
    }
   ],
   "source": [
    "normalizador_previsao = MinMaxScaler(feature_range = [0,1])\n",
    "\n",
    "normalizador_previsao.fit_transform(base_treinamento[:, 0:1])"
   ]
  },
  {
   "cell_type": "code",
   "execution_count": 102,
   "metadata": {},
   "outputs": [
    {
     "data": {
      "text/plain": [
       "array([[0.76501938, 0.77266112, 0.79682707, 0.76080559, 0.6838135 ,\n",
       "        0.04318274],\n",
       "       [0.7562984 , 0.78187106, 0.79733884, 0.79567784, 0.71590949,\n",
       "        0.0437121 ],\n",
       "       [0.78149225, 0.79253519, 0.82139202, 0.79715132, 0.71726583,\n",
       "        0.05170752],\n",
       "       ...,\n",
       "       [0.57122093, 0.57537562, 0.60696008, 0.58202356, 0.58202349,\n",
       "        0.03369652],\n",
       "       [0.57655039, 0.57489089, 0.60798362, 0.5844794 , 0.58447937,\n",
       "        0.02720006],\n",
       "       [0.57655039, 0.57343674, 0.61310133, 0.5844794 , 0.58447937,\n",
       "        0.        ]])"
      ]
     },
     "execution_count": 102,
     "metadata": {},
     "output_type": "execute_result"
    }
   ],
   "source": [
    "base_treinamento_normalizer"
   ]
  },
  {
   "cell_type": "markdown",
   "metadata": {},
   "source": [
    "**Estrutura da base para previsão temporal I**"
   ]
  },
  {
   "cell_type": "markdown",
   "metadata": {},
   "source": [
    "Quando trabalha-se com dados temporais é preciso definir um intervalo de tempo entre os dados e o alvo. Neste caso, podemos pegar um registro que tenha registros anteriores. "
   ]
  },
  {
   "cell_type": "markdown",
   "metadata": {},
   "source": [
    "Exemplo: \n",
    "\n",
    "| Dia da semana | Dia | Preço |\n",
    "|---------------|-----|-------|\n",
    "| Quinta-feira  | 03  | 19,99 |\n",
    "| Sexta-feira   | 04  | 19,80 |\n",
    "| Segunda-feira | 07  | 20,33 |\n",
    "| Terça-feira   | 08  | 20,48 |\n",
    "| Quarta-feira  | 09  | 20,11 |\n",
    "\n",
    "Para prever o preço da Quarta-feira, dia 09, precisamos pegar os valores das 4 datas anteriores:\n",
    "\n",
    "| **Previsores** |   **Preço real**|\n",
    "|---------------|-----|\n",
    "| 19,99 19,80 20,33 20,48 20,11  | 20,11  |\n"
   ]
  },
  {
   "cell_type": "markdown",
   "metadata": {},
   "source": [
    "**Estrutura da base para previsão temporal II**\n",
    "\n",
    "* Prever o preço real através do 90 valores anteriores"
   ]
  },
  {
   "cell_type": "code",
   "execution_count": 103,
   "metadata": {},
   "outputs": [],
   "source": [
    "previsores = []\n",
    "preco_real = []\n",
    "\n",
    "for i in range(90, 1242):\n",
    "    previsores.append(base_treinamento_normalizer[i-90:i, 0:6])\n",
    "    preco_real.append(base_treinamento_normalizer[i, 0])"
   ]
  },
  {
   "cell_type": "code",
   "execution_count": 104,
   "metadata": {},
   "outputs": [],
   "source": [
    "previsores, preco_real = np.array(previsores), np.array(preco_real)"
   ]
  },
  {
   "cell_type": "code",
   "execution_count": 105,
   "metadata": {},
   "outputs": [
    {
     "data": {
      "text/plain": [
       "(1152, 90, 6)"
      ]
     },
     "execution_count": 105,
     "metadata": {},
     "output_type": "execute_result"
    }
   ],
   "source": [
    "previsores.shape"
   ]
  },
  {
   "cell_type": "markdown",
   "metadata": {},
   "source": [
    "Com a utilização da biblioteca Keras, nosso vetor de entradas precisa manter uma dimensão 3D com o formato:\n",
    "\n",
    "                (batch_size, timesteps, input_dim)\n",
    "Sendo:\n",
    "\n",
    "* Batch_size - refere-se ao número de exemplos de treinamento usados em uma intereção\n",
    "\n",
    "* Timesteps - refere-se a descrição da forma dos dados\n",
    "\n",
    "* Input_dim - refere-se ao número de entradas"
   ]
  },
  {
   "cell_type": "markdown",
   "metadata": {},
   "source": [
    "**Estrutura da Rede Neural Recorrente**"
   ]
  },
  {
   "cell_type": "code",
   "execution_count": 106,
   "metadata": {},
   "outputs": [],
   "source": [
    "regressor = Sequential()\n",
    "regressor.add(LSTM(units = 100, return_sequences = True, input_shape = (previsores.shape[1],6)))\n",
    "regressor.add(Dropout(0.3))"
   ]
  },
  {
   "cell_type": "code",
   "execution_count": 107,
   "metadata": {},
   "outputs": [],
   "source": [
    "regressor.add(LSTM(units = 50, return_sequences = True))\n",
    "regressor.add(Dropout(0.3))"
   ]
  },
  {
   "cell_type": "code",
   "execution_count": 108,
   "metadata": {},
   "outputs": [],
   "source": [
    "regressor.add(LSTM(units = 50, return_sequences = True))\n",
    "regressor.add(Dropout(0.3))"
   ]
  },
  {
   "cell_type": "code",
   "execution_count": 109,
   "metadata": {},
   "outputs": [],
   "source": [
    "regressor.add(LSTM(units = 50))\n",
    "regressor.add(Dropout(0.3))"
   ]
  },
  {
   "cell_type": "code",
   "execution_count": 110,
   "metadata": {},
   "outputs": [],
   "source": [
    "regressor.add(Dense(units = 1,activation = 'sigmoid'))"
   ]
  },
  {
   "cell_type": "code",
   "execution_count": 111,
   "metadata": {},
   "outputs": [],
   "source": [
    "regressor.compile(optimizer = 'rmsprop', loss = 'mean_squared_error',\n",
    "                  metrics = ['mean_squared_error'])"
   ]
  },
  {
   "cell_type": "markdown",
   "metadata": {},
   "source": [
    "Para termos acesso às estatísticas e detalhes matemáticos do modelo, usaremos uma classe do Keras, chamada callbacks.\n",
    "\n",
    "* A função **EarlyStopping** para o treinamento, quando alguma métrica não apresenta bons resultados durante o treino\n",
    "\n",
    "* A função **ReduceLROnPlateau** reduz a taxa de aprendizagem, quando alguma métrica não está funcionando bem\n",
    "\n",
    "* A função **ModelCheckpoint** salva os pesos após cada epóca"
   ]
  },
  {
   "cell_type": "code",
   "execution_count": 112,
   "metadata": {},
   "outputs": [],
   "source": [
    "es = EarlyStopping(monitor = 'loss', min_delta = 1e-10, patience = 10, verbose = 1)\n",
    "\n",
    "rlr = ReduceLROnPlateau(monitor = 'loss', factor = 0.2, patience = 5, verbose = 1)\n",
    "\n",
    "mcp = ModelCheckpoint(filepath = 'pesos.h5', monitor = 'loss', save_best_only = True, verbose = 1)"
   ]
  },
  {
   "cell_type": "code",
   "execution_count": 113,
   "metadata": {},
   "outputs": [
    {
     "name": "stdout",
     "output_type": "stream",
     "text": [
      "Epoch 1/100\n",
      "1152/1152 [==============================] - 8s 7ms/step - loss: 0.0213 - mean_squared_error: 0.0213\n",
      "\n",
      "Epoch 00001: loss improved from inf to 0.02130, saving model to pesos.h5\n",
      "Epoch 2/100\n",
      "1152/1152 [==============================] - 6s 5ms/step - loss: 0.0076 - mean_squared_error: 0.0076\n",
      "\n",
      "Epoch 00002: loss improved from 0.02130 to 0.00759, saving model to pesos.h5\n",
      "Epoch 3/100\n",
      "1152/1152 [==============================] - 6s 5ms/step - loss: 0.0063 - mean_squared_error: 0.0063\n",
      "\n",
      "Epoch 00003: loss improved from 0.00759 to 0.00628, saving model to pesos.h5\n",
      "Epoch 4/100\n",
      "1152/1152 [==============================] - 6s 5ms/step - loss: 0.0051 - mean_squared_error: 0.0051\n",
      "\n",
      "Epoch 00004: loss improved from 0.00628 to 0.00507, saving model to pesos.h5\n",
      "Epoch 5/100\n",
      "1152/1152 [==============================] - 6s 5ms/step - loss: 0.0045 - mean_squared_error: 0.0045\n",
      "\n",
      "Epoch 00005: loss improved from 0.00507 to 0.00450, saving model to pesos.h5\n",
      "Epoch 6/100\n",
      "1152/1152 [==============================] - 6s 5ms/step - loss: 0.0038 - mean_squared_error: 0.0038\n",
      "\n",
      "Epoch 00006: loss improved from 0.00450 to 0.00380, saving model to pesos.h5\n",
      "Epoch 7/100\n",
      "1152/1152 [==============================] - 6s 6ms/step - loss: 0.0040 - mean_squared_error: 0.0040\n",
      "\n",
      "Epoch 00007: loss did not improve from 0.00380\n",
      "Epoch 8/100\n",
      "1152/1152 [==============================] - 8s 7ms/step - loss: 0.0032 - mean_squared_error: 0.0032\n",
      "\n",
      "Epoch 00008: loss improved from 0.00380 to 0.00324, saving model to pesos.h5\n",
      "Epoch 9/100\n",
      "1152/1152 [==============================] - 11s 9ms/step - loss: 0.0035 - mean_squared_error: 0.0035\n",
      "\n",
      "Epoch 00009: loss did not improve from 0.00324\n",
      "Epoch 10/100\n",
      "1152/1152 [==============================] - 7s 6ms/step - loss: 0.0030 - mean_squared_error: 0.0030\n",
      "\n",
      "Epoch 00010: loss improved from 0.00324 to 0.00300, saving model to pesos.h5\n",
      "Epoch 11/100\n",
      "1152/1152 [==============================] - 6s 5ms/step - loss: 0.0029 - mean_squared_error: 0.0029\n",
      "\n",
      "Epoch 00011: loss improved from 0.00300 to 0.00286, saving model to pesos.h5\n",
      "Epoch 12/100\n",
      "1152/1152 [==============================] - 7s 6ms/step - loss: 0.0027 - mean_squared_error: 0.0027\n",
      "\n",
      "Epoch 00012: loss improved from 0.00286 to 0.00267, saving model to pesos.h5\n",
      "Epoch 13/100\n",
      "1152/1152 [==============================] - 7s 6ms/step - loss: 0.0024 - mean_squared_error: 0.0024\n",
      "\n",
      "Epoch 00013: loss improved from 0.00267 to 0.00240, saving model to pesos.h5\n",
      "Epoch 14/100\n",
      "1152/1152 [==============================] - 7s 6ms/step - loss: 0.0026 - mean_squared_error: 0.0026\n",
      "\n",
      "Epoch 00014: loss did not improve from 0.00240\n",
      "Epoch 15/100\n",
      "1152/1152 [==============================] - 7s 6ms/step - loss: 0.0026 - mean_squared_error: 0.0026\n",
      "\n",
      "Epoch 00015: loss did not improve from 0.00240\n",
      "Epoch 16/100\n",
      "1152/1152 [==============================] - 7s 6ms/step - loss: 0.0023 - mean_squared_error: 0.0023\n",
      "\n",
      "Epoch 00016: loss improved from 0.00240 to 0.00226, saving model to pesos.h5\n",
      "Epoch 17/100\n",
      "1152/1152 [==============================] - 7s 6ms/step - loss: 0.0023 - mean_squared_error: 0.0023\n",
      "\n",
      "Epoch 00017: loss improved from 0.00226 to 0.00226, saving model to pesos.h5\n",
      "Epoch 18/100\n",
      "1152/1152 [==============================] - 7s 6ms/step - loss: 0.0021 - mean_squared_error: 0.0021\n",
      "\n",
      "Epoch 00018: loss improved from 0.00226 to 0.00206, saving model to pesos.h5\n",
      "Epoch 19/100\n",
      "1152/1152 [==============================] - 7s 6ms/step - loss: 0.0020 - mean_squared_error: 0.0020\n",
      "\n",
      "Epoch 00019: loss improved from 0.00206 to 0.00202, saving model to pesos.h5\n",
      "Epoch 20/100\n",
      "1152/1152 [==============================] - 6s 5ms/step - loss: 0.0020 - mean_squared_error: 0.0020\n",
      "\n",
      "Epoch 00020: loss improved from 0.00202 to 0.00195, saving model to pesos.h5\n",
      "Epoch 21/100\n",
      "1152/1152 [==============================] - 7s 6ms/step - loss: 0.0022 - mean_squared_error: 0.0022\n",
      "\n",
      "Epoch 00021: loss did not improve from 0.00195\n",
      "Epoch 22/100\n",
      "1152/1152 [==============================] - 7s 6ms/step - loss: 0.0017 - mean_squared_error: 0.0017\n",
      "\n",
      "Epoch 00022: loss improved from 0.00195 to 0.00171, saving model to pesos.h5\n",
      "Epoch 23/100\n",
      "1152/1152 [==============================] - 6s 6ms/step - loss: 0.0016 - mean_squared_error: 0.0016\n",
      "\n",
      "Epoch 00023: loss improved from 0.00171 to 0.00161, saving model to pesos.h5\n",
      "Epoch 24/100\n",
      "1152/1152 [==============================] - 7s 6ms/step - loss: 0.0017 - mean_squared_error: 0.0017\n",
      "\n",
      "Epoch 00024: loss did not improve from 0.00161\n",
      "Epoch 25/100\n",
      "1152/1152 [==============================] - 7s 6ms/step - loss: 0.0017 - mean_squared_error: 0.0017\n",
      "\n",
      "Epoch 00025: loss did not improve from 0.00161\n",
      "Epoch 26/100\n",
      "1152/1152 [==============================] - 6s 6ms/step - loss: 0.0016 - mean_squared_error: 0.0016\n",
      "\n",
      "Epoch 00026: loss improved from 0.00161 to 0.00160, saving model to pesos.h5\n",
      "Epoch 27/100\n",
      "1152/1152 [==============================] - 7s 6ms/step - loss: 0.0017 - mean_squared_error: 0.0017\n",
      "\n",
      "Epoch 00027: loss did not improve from 0.00160\n",
      "Epoch 28/100\n",
      "1152/1152 [==============================] - 6s 5ms/step - loss: 0.0017 - mean_squared_error: 0.0017\n",
      "\n",
      "Epoch 00028: ReduceLROnPlateau reducing learning rate to 0.00020000000949949026.\n",
      "\n",
      "Epoch 00028: loss did not improve from 0.00160\n",
      "Epoch 29/100\n",
      "1152/1152 [==============================] - 6s 6ms/step - loss: 0.0012 - mean_squared_error: 0.0012\n",
      "\n",
      "Epoch 00029: loss improved from 0.00160 to 0.00115, saving model to pesos.h5\n",
      "Epoch 30/100\n",
      "1152/1152 [==============================] - 7s 6ms/step - loss: 0.0011 - mean_squared_error: 0.0011\n",
      "\n",
      "Epoch 00030: loss improved from 0.00115 to 0.00110, saving model to pesos.h5\n",
      "Epoch 31/100\n",
      "1152/1152 [==============================] - 6s 6ms/step - loss: 0.0012 - mean_squared_error: 0.0012\n",
      "\n",
      "Epoch 00031: loss did not improve from 0.00110\n",
      "Epoch 32/100\n",
      "1152/1152 [==============================] - 6s 5ms/step - loss: 0.0012 - mean_squared_error: 0.0012\n",
      "\n",
      "Epoch 00032: loss did not improve from 0.00110\n",
      "Epoch 33/100\n",
      "1152/1152 [==============================] - 7s 6ms/step - loss: 0.0011 - mean_squared_error: 0.0011\n",
      "\n",
      "Epoch 00033: loss did not improve from 0.00110\n",
      "Epoch 34/100\n",
      "1152/1152 [==============================] - 8s 7ms/step - loss: 0.0010 - mean_squared_error: 0.0010\n",
      "\n",
      "Epoch 00034: loss improved from 0.00110 to 0.00103, saving model to pesos.h5\n",
      "Epoch 35/100\n",
      "1152/1152 [==============================] - 7s 6ms/step - loss: 0.0010 - mean_squared_error: 0.0010\n",
      "\n",
      "Epoch 00035: loss did not improve from 0.00103\n",
      "Epoch 36/100\n",
      "1152/1152 [==============================] - 7s 6ms/step - loss: 0.0010 - mean_squared_error: 0.0010\n",
      "\n",
      "Epoch 00036: loss improved from 0.00103 to 0.00102, saving model to pesos.h5\n",
      "Epoch 37/100\n",
      "1152/1152 [==============================] - 7s 6ms/step - loss: 0.0010 - mean_squared_error: 0.0010\n",
      "\n",
      "Epoch 00037: loss did not improve from 0.00102\n",
      "Epoch 38/100\n",
      "1152/1152 [==============================] - 6s 5ms/step - loss: 0.0010 - mean_squared_error: 0.0010\n",
      "\n",
      "Epoch 00038: loss improved from 0.00102 to 0.00101, saving model to pesos.h5\n",
      "Epoch 39/100\n",
      "1152/1152 [==============================] - 6s 5ms/step - loss: 0.0010 - mean_squared_error: 0.0010    \n",
      "\n",
      "Epoch 00039: ReduceLROnPlateau reducing learning rate to 4.0000001899898055e-05.\n",
      "\n",
      "Epoch 00039: loss improved from 0.00101 to 0.00100, saving model to pesos.h5\n",
      "Epoch 40/100\n",
      "1152/1152 [==============================] - 6s 5ms/step - loss: 9.4396e-04 - mean_squared_error: 9.4396e-04\n",
      "\n",
      "Epoch 00040: loss improved from 0.00100 to 0.00094, saving model to pesos.h5\n",
      "Epoch 41/100\n",
      "1152/1152 [==============================] - 6s 5ms/step - loss: 0.0010 - mean_squared_error: 0.0010    \n",
      "\n",
      "Epoch 00041: loss did not improve from 0.00094\n",
      "Epoch 42/100\n",
      "1152/1152 [==============================] - 6s 5ms/step - loss: 0.0010 - mean_squared_error: 0.0010\n",
      "\n",
      "Epoch 00042: loss did not improve from 0.00094\n",
      "Epoch 43/100\n",
      "1152/1152 [==============================] - 6s 5ms/step - loss: 9.8938e-04 - mean_squared_error: 9.8938e-04\n",
      "\n",
      "Epoch 00043: loss did not improve from 0.00094\n",
      "Epoch 44/100\n",
      "1152/1152 [==============================] - 6s 5ms/step - loss: 9.7460e-04 - mean_squared_error: 9.7460e-04\n",
      "\n",
      "Epoch 00044: ReduceLROnPlateau reducing learning rate to 8.000000525498762e-06.\n",
      "\n",
      "Epoch 00044: loss did not improve from 0.00094\n",
      "Epoch 45/100\n"
     ]
    },
    {
     "name": "stdout",
     "output_type": "stream",
     "text": [
      "1152/1152 [==============================] - 6s 5ms/step - loss: 9.7070e-04 - mean_squared_error: 9.7070e-04\n",
      "\n",
      "Epoch 00045: loss did not improve from 0.00094\n",
      "Epoch 46/100\n",
      "1152/1152 [==============================] - 6s 5ms/step - loss: 9.5126e-04 - mean_squared_error: 9.5126e-04\n",
      "\n",
      "Epoch 00046: loss did not improve from 0.00094\n",
      "Epoch 47/100\n",
      "1152/1152 [==============================] - 6s 5ms/step - loss: 0.0010 - mean_squared_error: 0.0010\n",
      "\n",
      "Epoch 00047: loss did not improve from 0.00094\n",
      "Epoch 48/100\n",
      "1152/1152 [==============================] - 6s 5ms/step - loss: 9.5673e-04 - mean_squared_error: 9.5673e-04\n",
      "\n",
      "Epoch 00048: loss did not improve from 0.00094\n",
      "Epoch 49/100\n",
      "1152/1152 [==============================] - 6s 5ms/step - loss: 9.4098e-04 - mean_squared_error: 9.4098e-04\n",
      "\n",
      "Epoch 00049: ReduceLROnPlateau reducing learning rate to 1.6000001778593287e-06.\n",
      "\n",
      "Epoch 00049: loss improved from 0.00094 to 0.00094, saving model to pesos.h5\n",
      "Epoch 50/100\n",
      "1152/1152 [==============================] - 6s 5ms/step - loss: 9.3685e-04 - mean_squared_error: 9.3685e-04\n",
      "\n",
      "Epoch 00050: loss improved from 0.00094 to 0.00094, saving model to pesos.h5\n",
      "Epoch 51/100\n",
      "1152/1152 [==============================] - 6s 5ms/step - loss: 9.1807e-04 - mean_squared_error: 9.1807e-04\n",
      "\n",
      "Epoch 00051: loss improved from 0.00094 to 0.00092, saving model to pesos.h5\n",
      "Epoch 52/100\n",
      "1152/1152 [==============================] - 6s 5ms/step - loss: 0.0010 - mean_squared_error: 0.0010\n",
      "\n",
      "Epoch 00052: loss did not improve from 0.00092\n",
      "Epoch 53/100\n",
      "1152/1152 [==============================] - 6s 5ms/step - loss: 9.3748e-04 - mean_squared_error: 9.3748e-04\n",
      "\n",
      "Epoch 00053: loss did not improve from 0.00092\n",
      "Epoch 54/100\n",
      "1152/1152 [==============================] - 6s 5ms/step - loss: 8.5329e-04 - mean_squared_error: 8.5329e-04\n",
      "\n",
      "Epoch 00054: loss improved from 0.00092 to 0.00085, saving model to pesos.h5\n",
      "Epoch 55/100\n",
      "1152/1152 [==============================] - 6s 5ms/step - loss: 9.0543e-04 - mean_squared_error: 9.0543e-04\n",
      "\n",
      "Epoch 00055: loss did not improve from 0.00085\n",
      "Epoch 56/100\n",
      "1152/1152 [==============================] - 6s 5ms/step - loss: 9.1984e-04 - mean_squared_error: 9.1984e-04\n",
      "\n",
      "Epoch 00056: ReduceLROnPlateau reducing learning rate to 3.200000264769187e-07.\n",
      "\n",
      "Epoch 00056: loss did not improve from 0.00085\n",
      "Epoch 57/100\n",
      "1152/1152 [==============================] - 6s 5ms/step - loss: 8.9168e-04 - mean_squared_error: 8.9168e-04\n",
      "\n",
      "Epoch 00057: loss did not improve from 0.00085\n",
      "Epoch 58/100\n",
      "1152/1152 [==============================] - 6s 5ms/step - loss: 9.6308e-04 - mean_squared_error: 9.6308e-04\n",
      "\n",
      "Epoch 00058: loss did not improve from 0.00085\n",
      "Epoch 59/100\n",
      "1152/1152 [==============================] - 6s 5ms/step - loss: 9.4882e-04 - mean_squared_error: 9.4882e-04\n",
      "\n",
      "Epoch 00059: loss did not improve from 0.00085\n",
      "Epoch 60/100\n",
      "1152/1152 [==============================] - 6s 6ms/step - loss: 9.4062e-04 - mean_squared_error: 9.4061e-04\n",
      "\n",
      "Epoch 00060: loss did not improve from 0.00085\n",
      "Epoch 61/100\n",
      "1152/1152 [==============================] - 6s 5ms/step - loss: 9.0426e-04 - mean_squared_error: 9.0426e-04\n",
      "\n",
      "Epoch 00061: ReduceLROnPlateau reducing learning rate to 6.400000529538374e-08.\n",
      "\n",
      "Epoch 00061: loss did not improve from 0.00085\n",
      "Epoch 62/100\n",
      "1152/1152 [==============================] - 6s 5ms/step - loss: 9.6906e-04 - mean_squared_error: 9.6906e-04\n",
      "\n",
      "Epoch 00062: loss did not improve from 0.00085\n",
      "Epoch 63/100\n",
      "1152/1152 [==============================] - 6s 6ms/step - loss: 9.3023e-04 - mean_squared_error: 9.3023e-04\n",
      "\n",
      "Epoch 00063: loss did not improve from 0.00085\n",
      "Epoch 64/100\n",
      "1152/1152 [==============================] - 6s 5ms/step - loss: 9.9776e-04 - mean_squared_error: 9.9776e-04\n",
      "\n",
      "Epoch 00064: loss did not improve from 0.00085\n",
      "Epoch 00064: early stopping\n"
     ]
    },
    {
     "data": {
      "text/plain": [
       "<keras.callbacks.callbacks.History at 0x7fce91515128>"
      ]
     },
     "execution_count": 113,
     "metadata": {},
     "output_type": "execute_result"
    }
   ],
   "source": [
    "regressor.fit(previsores, preco_real, epochs = 100, batch_size = 32,\n",
    "             callbacks = [es, rlr, mcp])"
   ]
  },
  {
   "cell_type": "markdown",
   "metadata": {},
   "source": [
    "**Previsão de preços de ações**"
   ]
  },
  {
   "cell_type": "markdown",
   "metadata": {},
   "source": [
    "Carregando da base de dados"
   ]
  },
  {
   "cell_type": "code",
   "execution_count": 132,
   "metadata": {},
   "outputs": [],
   "source": [
    "base_teste = pd.read_csv('petr4_teste.csv')"
   ]
  },
  {
   "cell_type": "code",
   "execution_count": 133,
   "metadata": {},
   "outputs": [
    {
     "data": {
      "text/plain": [
       "(22, 7)"
      ]
     },
     "execution_count": 133,
     "metadata": {},
     "output_type": "execute_result"
    }
   ],
   "source": [
    "base_teste.shape"
   ]
  },
  {
   "cell_type": "markdown",
   "metadata": {},
   "source": [
    "Como estamos fazendo o uso apenas da feature **Open**, vamos extrai-la:"
   ]
  },
  {
   "cell_type": "code",
   "execution_count": 134,
   "metadata": {},
   "outputs": [],
   "source": [
    "preco_real_teste = base_teste.iloc[:,1:2].values"
   ]
  },
  {
   "cell_type": "markdown",
   "metadata": {},
   "source": [
    "Precisamos trabalhar com tipos de dados iguais, para evitar erros com a nossa Rede Neural Recorrente, para isso vamos concatenar as suas bases(treino e teste), para facilitar igualdade de tipos."
   ]
  },
  {
   "cell_type": "code",
   "execution_count": 135,
   "metadata": {},
   "outputs": [],
   "source": [
    "frames = [dataFrame, base_teste]"
   ]
  },
  {
   "cell_type": "code",
   "execution_count": 136,
   "metadata": {},
   "outputs": [
    {
     "data": {
      "text/plain": [
       "[            Date       Open       High        Low      Close  Adj Close  \\\n",
       " 0     2013-01-02  19.990000  20.209999  19.690001  19.690001  18.086271   \n",
       " 1     2013-01-03  19.809999  20.400000  19.700001  20.400000  18.738441   \n",
       " 2     2013-01-04  20.330000  20.620001  20.170000  20.430000  18.766001   \n",
       " 3     2013-01-07  20.480000  20.670000  19.950001  20.080000  18.444506   \n",
       " 4     2013-01-08  20.110001  20.230000  19.459999  19.500000  17.911745   \n",
       " 5     2013-01-09  19.639999  19.870001  19.459999  19.680000  18.077084   \n",
       " 6     2013-01-10  19.770000  20.049999  19.540001  19.830000  18.214869   \n",
       " 7     2013-01-11  19.850000  20.040001  19.700001  19.879999  18.260794   \n",
       " 8     2013-01-14  20.010000  20.240000  19.690001  19.719999  18.113827   \n",
       " 9     2013-01-15  20.010000  20.240000  19.690001  19.820000  18.205681   \n",
       " 10    2013-01-16  19.889999  19.889999  19.600000  19.840000  18.224054   \n",
       " 11    2013-01-17  19.860001  19.930000  19.600000  19.709999  18.104639   \n",
       " 12    2013-01-18  19.799999  19.889999  19.540001  19.580000  17.985229   \n",
       " 13    2013-01-21  19.570000  19.600000  19.270000  19.389999  17.810705   \n",
       " 14    2013-01-22  19.420000  19.610001  19.230000  19.580000  17.985229   \n",
       " 15    2013-01-23  19.420000  19.629999  19.230000  19.549999  17.957674   \n",
       " 16    2013-01-24  19.370001  19.750000  19.370001  19.610001  18.012787   \n",
       " 17    2013-01-28  19.730000  19.809999  19.270000  19.370001  17.792336   \n",
       " 18    2013-01-29  19.350000  19.370001  18.840000  19.110001  17.553513   \n",
       " 19    2013-01-30  18.990000  18.990000  18.170000  18.200001  16.717628   \n",
       " 20    2013-01-31  18.260000  18.330000  17.900000  18.080000  16.607405   \n",
       " 21    2013-02-01  18.139999  18.650000  18.120001  18.459999  16.956451   \n",
       " 22    2013-02-04  18.160000  18.350000  17.889999  18.000000  16.533920   \n",
       " 23    2013-02-05  17.280001  18.290001  17.260000  18.080000  16.607405   \n",
       " 24    2013-02-06  17.930000  18.000000  17.530001  17.600000  16.166500   \n",
       " 25    2013-02-07  17.750000  17.980000  17.320000  17.500000  16.074644   \n",
       " 26    2013-02-08  17.549999  17.780001  17.379999  17.740000  16.295095   \n",
       " 27    2013-02-13  17.950001  18.000000  17.730000  17.799999  16.350208   \n",
       " 28    2013-02-14  17.790001  17.900000  17.580000  17.670000  16.230797   \n",
       " 29    2013-02-15  17.610001  17.790001  17.530001  17.629999  16.194056   \n",
       " ...          ...        ...        ...        ...        ...        ...   \n",
       " 1215  2017-11-20  16.020000  16.020000  16.020000  16.020000  15.988025   \n",
       " 1216  2017-11-21  16.150000  16.309999  15.850000  15.900000  15.868263   \n",
       " 1217  2017-11-22  16.090000  16.240000  15.930000  16.110001  16.077845   \n",
       " 1218  2017-11-23  15.980000  16.260000  15.940000  16.190001  16.157686   \n",
       " 1219  2017-11-24  16.250000  16.370001  16.040001  16.100000  16.067865   \n",
       " 1220  2017-11-27  16.010000  16.020000  15.780000  15.870000  15.838324   \n",
       " 1221  2017-11-28  15.930000  16.040001  15.810000  15.840000  15.808384   \n",
       " 1222  2017-11-29  15.870000  15.920000  15.320000  15.330000  15.299401   \n",
       " 1223  2017-11-30  15.300000  15.470000  14.990000  15.380000  15.349302   \n",
       " 1224  2017-12-01  15.340000  15.770000  15.260000  15.610000  15.578842   \n",
       " 1225  2017-12-04  15.650000  15.800000  15.460000  15.480000  15.449101   \n",
       " 1226  2017-12-05  15.500000  15.830000  15.210000  15.310000  15.279442   \n",
       " 1227  2017-12-06  15.220000  15.700000  15.140000  15.520000  15.489023   \n",
       " 1228  2017-12-07  15.300000  15.490000  15.070000  15.260000  15.229542   \n",
       " 1229  2017-12-08  15.510000  15.680000  15.350000  15.350000  15.319362   \n",
       " 1230  2017-12-11  15.480000  15.570000  15.370000  15.380000  15.349302   \n",
       " 1231  2017-12-12  15.360000  15.490000  15.180000  15.490000  15.459082   \n",
       " 1232  2017-12-13  15.650000  15.680000  15.110000  15.180000  15.149701   \n",
       " 1233  2017-12-14  15.100000  15.310000  15.000000  15.010000  14.980041   \n",
       " 1234  2017-12-15  15.050000  15.240000  14.950000  14.950000  14.920160   \n",
       " 1235  2017-12-18  15.160000  15.330000  15.130000  15.220000  15.189621   \n",
       " 1236  2017-12-19  15.180000  15.250000  15.060000  15.140000  15.109781   \n",
       " 1237  2017-12-20  15.210000  15.300000  15.170000  15.240000  15.209581   \n",
       " 1238  2017-12-21  15.310000  15.870000  15.300000  15.860000  15.828343   \n",
       " 1239  2017-12-22  15.750000  15.890000  15.690000  15.750000  15.718563   \n",
       " 1240  2017-12-25  15.750000  15.750000  15.750000  15.750000  15.718563   \n",
       " 1241  2017-12-26  15.750000  15.990000  15.690000  15.970000  15.938125   \n",
       " 1242  2017-12-27  15.990000  16.139999  15.980000  16.049999  16.017963   \n",
       " 1243  2017-12-28  16.100000  16.129999  16.000000  16.100000  16.067865   \n",
       " 1244  2017-12-29  16.100000  16.100000  16.100000  16.100000  16.067865   \n",
       " \n",
       "           Volume  \n",
       " 0     30182600.0  \n",
       " 1     30552600.0  \n",
       " 2     36141000.0  \n",
       " 3     28069600.0  \n",
       " 4     29091300.0  \n",
       " 5     24361100.0  \n",
       " 6     17526200.0  \n",
       " 7     18223600.0  \n",
       " 8     28302400.0  \n",
       " 9     29633900.0  \n",
       " 10    16787800.0  \n",
       " 11    19719600.0  \n",
       " 12    18913900.0  \n",
       " 13    18086200.0  \n",
       " 14    23535100.0  \n",
       " 15    17200800.0  \n",
       " 16    19612600.0  \n",
       " 17    20122600.0  \n",
       " 18    27097900.0  \n",
       " 19    66985800.0  \n",
       " 20    33246400.0  \n",
       " 21    28860400.0  \n",
       " 22    32294300.0  \n",
       " 23    77332900.0  \n",
       " 24    30886100.0  \n",
       " 25    37066400.0  \n",
       " 26    31068100.0  \n",
       " 27    22328200.0  \n",
       " 28    25902900.0  \n",
       " 29    25001600.0  \n",
       " ...          ...  \n",
       " 1215         0.0  \n",
       " 1216  45817800.0  \n",
       " 1217  37444900.0  \n",
       " 1218  15403600.0  \n",
       " 1219  18790700.0  \n",
       " 1220  28445800.0  \n",
       " 1221  30429600.0  \n",
       " 1222  45973000.0  \n",
       " 1223  52811400.0  \n",
       " 1224  42703800.0  \n",
       " 1225  43821500.0  \n",
       " 1226  30228000.0  \n",
       " 1227  39238500.0  \n",
       " 1228  37281400.0  \n",
       " 1229  39584500.0  \n",
       " 1230  21281600.0  \n",
       " 1231  36201200.0  \n",
       " 1232  46828900.0  \n",
       " 1233  37177300.0  \n",
       " 1234  55668300.0  \n",
       " 1235  42760400.0  \n",
       " 1236  22639700.0  \n",
       " 1237  20149700.0  \n",
       " 1238  47219400.0  \n",
       " 1239  18708500.0  \n",
       " 1240         0.0  \n",
       " 1241  22173100.0  \n",
       " 1242  23552200.0  \n",
       " 1243  19011500.0  \n",
       " 1244         0.0  \n",
       " \n",
       " [1242 rows x 7 columns],\n",
       "           Date       Open       High        Low      Close  Adj Close  \\\n",
       " 0   2018-01-02  16.190001  16.549999  16.190001  16.549999  16.516966   \n",
       " 1   2018-01-03  16.490000  16.719999  16.370001  16.700001  16.666668   \n",
       " 2   2018-01-04  16.780001  16.959999  16.620001  16.730000  16.696608   \n",
       " 3   2018-01-05  16.700001  16.860001  16.570000  16.830000  16.796408   \n",
       " 4   2018-01-08  16.740000  17.030001  16.709999  17.030001  16.996010   \n",
       " 5   2018-01-09  17.030001  17.160000  16.959999  17.030001  16.996010   \n",
       " 6   2018-01-10  16.920000  17.049999  16.770000  16.799999  16.766466   \n",
       " 7   2018-01-11  16.879999  17.299999  16.840000  17.250000  17.215569   \n",
       " 8   2018-01-12  17.040001  17.410000  17.020000  17.299999  17.265469   \n",
       " 9   2018-01-15  17.320000  17.440001  17.150000  17.350000  17.315371   \n",
       " 10  2018-01-16  17.350000  17.840000  17.299999  17.650000  17.614771   \n",
       " 11  2018-01-17  17.920000  18.360001  17.809999  18.360001  18.323355   \n",
       " 12  2018-01-18  18.350000  18.530001  17.930000  18.219999  18.183632   \n",
       " 13  2018-01-19  18.309999  18.420000  18.030001  18.260000  18.223553   \n",
       " 14  2018-01-22  18.260000  18.469999  18.090000  18.469999  18.433134   \n",
       " 15  2018-01-23  18.400000  18.459999  18.000000  18.240000  18.203592   \n",
       " 16  2018-01-24  18.420000  19.629999  18.420000  19.340000  19.301397   \n",
       " 17  2018-01-25  19.340000  19.340000  19.340000  19.340000  19.301397   \n",
       " 18  2018-01-26  19.620001  19.980000  19.100000  19.930000  19.890221   \n",
       " 19  2018-01-29  19.670000  20.049999  19.570000  19.850000  19.810381   \n",
       " 20  2018-01-30  19.770000  19.770000  19.360001  19.490000  19.451097   \n",
       " 21  2018-01-31  19.740000  19.930000  19.680000  19.700001  19.660681   \n",
       " \n",
       "       Volume  \n",
       " 0   33461800  \n",
       " 1   55940900  \n",
       " 2   37064900  \n",
       " 3   26958200  \n",
       " 4   28400000  \n",
       " 5   35070900  \n",
       " 6   28547700  \n",
       " 7   37921500  \n",
       " 8   45912100  \n",
       " 9   28945400  \n",
       " 10  58618300  \n",
       " 11  58488900  \n",
       " 12  48575800  \n",
       " 13  33470200  \n",
       " 14  33920000  \n",
       " 15  35567700  \n",
       " 16  89768200  \n",
       " 17         0  \n",
       " 18  81989500  \n",
       " 19  55726200  \n",
       " 20  46203000  \n",
       " 21  41576600  ]"
      ]
     },
     "execution_count": 136,
     "metadata": {},
     "output_type": "execute_result"
    }
   ],
   "source": [
    "frames"
   ]
  },
  {
   "cell_type": "code",
   "execution_count": 137,
   "metadata": {},
   "outputs": [],
   "source": [
    "base_completa = pd.concat(frames)"
   ]
  },
  {
   "cell_type": "markdown",
   "metadata": {},
   "source": [
    "Como nosso atributos são númericos, vamos deletar a coluna Date."
   ]
  },
  {
   "cell_type": "code",
   "execution_count": 138,
   "metadata": {},
   "outputs": [],
   "source": [
    "base_completa = base_completa.drop('Date', axis = 1)"
   ]
  },
  {
   "cell_type": "code",
   "execution_count": 139,
   "metadata": {},
   "outputs": [
    {
     "data": {
      "text/plain": [
       "(1264, 6)"
      ]
     },
     "execution_count": 139,
     "metadata": {},
     "output_type": "execute_result"
    }
   ],
   "source": [
    "base_completa.shape"
   ]
  },
  {
   "cell_type": "code",
   "execution_count": 140,
   "metadata": {},
   "outputs": [],
   "source": [
    "entradas = base_completa[len(base_completa) - len(base_teste) - 90:].values"
   ]
  },
  {
   "cell_type": "markdown",
   "metadata": {},
   "source": [
    "Em seguida, colocaremos nossos dados na mesma escala."
   ]
  },
  {
   "cell_type": "code",
   "execution_count": 141,
   "metadata": {},
   "outputs": [
    {
     "data": {
      "text/plain": [
       "(112, 6)"
      ]
     },
     "execution_count": 141,
     "metadata": {},
     "output_type": "execute_result"
    }
   ],
   "source": [
    "entradas = normalizador.transform(entradas)\n",
    "entradas.shape"
   ]
  },
  {
   "cell_type": "markdown",
   "metadata": {},
   "source": [
    "Precisamos colocar nossos dados de teste em uma lista. Dessa forma, iremos preencher nosso vetor X_teste."
   ]
  },
  {
   "cell_type": "code",
   "execution_count": 142,
   "metadata": {},
   "outputs": [],
   "source": [
    "X_teste = []\n",
    "for i in range(90,112):\n",
    "    X_teste.append(entradas[i-90:i, 0:6])\n",
    "\n",
    "X_teste = np.array(X_teste)"
   ]
  },
  {
   "cell_type": "code",
   "execution_count": 143,
   "metadata": {},
   "outputs": [
    {
     "data": {
      "text/plain": [
       "(22, 90, 6)"
      ]
     },
     "execution_count": 143,
     "metadata": {},
     "output_type": "execute_result"
    }
   ],
   "source": [
    "X_teste.shape"
   ]
  },
  {
   "cell_type": "markdown",
   "metadata": {},
   "source": [
    "Agora, iremos realizar nossas previções:"
   ]
  },
  {
   "cell_type": "code",
   "execution_count": 144,
   "metadata": {},
   "outputs": [],
   "source": [
    "previsoes = regressor.predict(X_teste)"
   ]
  },
  {
   "cell_type": "markdown",
   "metadata": {},
   "source": [
    "Para visualizarmos as previsoes, iremos fazer um processo inverso à normalização. Dessa forma, iremos visualizar os preços em escalas reais ao início. "
   ]
  },
  {
   "cell_type": "code",
   "execution_count": 145,
   "metadata": {},
   "outputs": [],
   "source": [
    "previsoes = normalizador_previsao.inverse_transform(previsoes)"
   ]
  },
  {
   "cell_type": "markdown",
   "metadata": {},
   "source": [
    "Podemos observar que as previsões não ficaram distantes aos valores reais. Dessa maneira, podemos visualizar a média das previsoes e a média do preço real:"
   ]
  },
  {
   "cell_type": "code",
   "execution_count": 146,
   "metadata": {},
   "outputs": [
    {
     "data": {
      "text/plain": [
       "17.767471"
      ]
     },
     "execution_count": 146,
     "metadata": {},
     "output_type": "execute_result"
    }
   ],
   "source": [
    "previsoes.mean()"
   ]
  },
  {
   "cell_type": "code",
   "execution_count": 147,
   "metadata": {},
   "outputs": [
    {
     "data": {
      "text/plain": [
       "17.87454563636364"
      ]
     },
     "execution_count": 147,
     "metadata": {},
     "output_type": "execute_result"
    }
   ],
   "source": [
    "preco_real_teste.mean()"
   ]
  },
  {
   "cell_type": "code",
   "execution_count": 130,
   "metadata": {},
   "outputs": [
    {
     "name": "stdout",
     "output_type": "stream",
     "text": [
      "-0.10707432288707608\n"
     ]
    }
   ],
   "source": [
    "diferenca = previsoes.mean() - preco_real_teste.mean()\n",
    "print(diferenca)"
   ]
  },
  {
   "cell_type": "markdown",
   "metadata": {},
   "source": [
    "Para visualizarmos o quanto as previsoes puderam se aproximar dos valores reais, podemos fazer um gráfico com ambos os vetores. Para isso, vamos utilizar a biblioteca **matplotlib**, para plotar esses valores."
   ]
  },
  {
   "cell_type": "code",
   "execution_count": 131,
   "metadata": {},
   "outputs": [
    {
     "data": {
      "image/png": "[encoded data removed]",
      "text/plain": [
       "<Figure size 432x288 with 1 Axes>"
      ]
     },
     "metadata": {
      "needs_background": "light"
     },
     "output_type": "display_data"
    }
   ],
   "source": [
    "plt.plot(preco_real_teste, color = 'red', label = 'Preço real')\n",
    "plt.plot(previsoes, color = 'blue', label = 'Previsoes do modelo')\n",
    "plt.title('Previsões dos preços das ações')\n",
    "plt.xlabel('Tempo')\n",
    "plt.ylabel('Valor')\n",
    "plt.legend()\n",
    "plt.show()"
   ]
  },
  {
   "cell_type": "markdown",
   "metadata": {},
   "source": [
    "**Referências**"
   ]
  },
  {
   "cell_type": "markdown",
   "metadata": {},
   "source": [
    "https://www.udemy.com/course/deep-learning-com-python-az-curso-completo/learn/lecture/10897310#questions\n",
    "\n",
    "https://translate.googleusercontent.com/translate_c?depth=1&hl=pt-BR&prev=search&rurl=translate.google.com&sl=en&sp=nmt4&u=https://stackoverflow.com/questions/38714959/understanding-keras-lstms&usg=ALkJrhgwRgxszeum-5XuG2HTiE0KM75Wog\n",
    "\n",
    "https://www.google.com/search?q=LSTM&client=ubuntu&hs=DAN&channel=fs&sxsrf=ALeKk02TzfQeiFwQ3Hw3VX9kUWN9kBiJ6g:1592424774740&source=lnms&tbm=isch&sa=X&ved=2ahUKEwiBip7I1InqAhU0D7kGHfcuDHsQ_AUoAXoECA8QAw\n",
    "\n",
    "https://keras.io/api/callbacks/"
   ]
  },
  {
   "cell_type": "code",
   "execution_count": null,
   "metadata": {},
   "outputs": [],
   "source": []
  }
 ],
 "metadata": {
  "kernelspec": {
   "display_name": "Python 3",
   "language": "python",
   "name": "python3"
  },
  "language_info": {
   "codemirror_mode": {
    "name": "ipython",
    "version": 3
   },
   "file_extension": ".py",
   "mimetype": "text/x-python",
   "name": "python",
   "nbconvert_exporter": "python",
   "pygments_lexer": "ipython3",
   "version": "3.7.3"
  }
 },
 "nbformat": 4,
 "nbformat_minor": 2
}
