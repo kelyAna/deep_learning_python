{
 "cells": [
  {
   "cell_type": "markdown",
   "metadata": {},
   "source": [
    "**Uso de uma Rede Neural Recorrente, para prever investimentos na bolsa de valores**\n",
    "\n",
    "A base de dados representa investimentos nas ações da Petrobas na bolsa de valores, com o histórico do ano de 2013 ao ano de 2018, em tempos de crise. Dessa forma, o objetivo principal do modelo é gerar um gráfico dos preços das ações, mesmo em tempos de crise.\n",
    "\n",
    "Você pode encontrar a base de dados, em:\n",
    "\n",
    "https://br.financas.yahoo.com/"
   ]
  },
  {
   "cell_type": "markdown",
   "metadata": {},
   "source": [
    "Importações iniciais"
   ]
  },
  {
   "cell_type": "code",
   "execution_count": 24,
   "metadata": {},
   "outputs": [],
   "source": [
    "import pandas as pd\n",
    "import numpy as np\n",
    "from keras.models import Sequential\n",
    "from keras.layers import Dense, Dropout, LSTM\n",
    "import matplotlib.pyplot as plt"
   ]
  },
  {
   "cell_type": "markdown",
   "metadata": {},
   "source": [
    "Carregando da base de dados de treinamento"
   ]
  },
  {
   "cell_type": "code",
   "execution_count": 25,
   "metadata": {},
   "outputs": [],
   "source": [
    "dataFrame = pd.read_csv('petr4_treinamento_ex.csv')"
   ]
  },
  {
   "cell_type": "markdown",
   "metadata": {},
   "source": [
    "A base de treino é composta pelas seguintes features:\n",
    "\n",
    "* Date - Referente à data de abertura da ação;\n",
    "\n",
    "* Open - Referente ao valor na abertura da ação;\n",
    "\n",
    "* High - Referente ao valor máximo da ação;\n",
    "\n",
    "* Low - Referente ao valor mínimo da ação;\n",
    "\n",
    "* Close - Referente ao valor que a ação foi fechada;\n",
    "\n",
    "* Adj Close - Referente ao valor real previsto pela ação;\n",
    "\n",
    "* Volume - Total de investimentos"
   ]
  },
  {
   "cell_type": "code",
   "execution_count": 26,
   "metadata": {},
   "outputs": [
    {
     "data": {
      "text/html": [
       "<div>\n",
       "<style scoped>\n",
       "    .dataframe tbody tr th:only-of-type {\n",
       "        vertical-align: middle;\n",
       "    }\n",
       "\n",
       "    .dataframe tbody tr th {\n",
       "        vertical-align: top;\n",
       "    }\n",
       "\n",
       "    .dataframe thead th {\n",
       "        text-align: right;\n",
       "    }\n",
       "</style>\n",
       "<table border=\"1\" class=\"dataframe\">\n",
       "  <thead>\n",
       "    <tr style=\"text-align: right;\">\n",
       "      <th></th>\n",
       "      <th>Date</th>\n",
       "      <th>Open</th>\n",
       "      <th>High</th>\n",
       "      <th>Low</th>\n",
       "      <th>Close</th>\n",
       "      <th>Adj Close</th>\n",
       "      <th>Volume</th>\n",
       "    </tr>\n",
       "  </thead>\n",
       "  <tbody>\n",
       "    <tr>\n",
       "      <th>0</th>\n",
       "      <td>2013-01-02</td>\n",
       "      <td>19.990000</td>\n",
       "      <td>20.209999</td>\n",
       "      <td>19.690001</td>\n",
       "      <td>19.690001</td>\n",
       "      <td>18.086271</td>\n",
       "      <td>30182600.0</td>\n",
       "    </tr>\n",
       "    <tr>\n",
       "      <th>1</th>\n",
       "      <td>2013-01-03</td>\n",
       "      <td>19.809999</td>\n",
       "      <td>20.400000</td>\n",
       "      <td>19.700001</td>\n",
       "      <td>20.400000</td>\n",
       "      <td>18.738441</td>\n",
       "      <td>30552600.0</td>\n",
       "    </tr>\n",
       "    <tr>\n",
       "      <th>2</th>\n",
       "      <td>2013-01-04</td>\n",
       "      <td>20.330000</td>\n",
       "      <td>20.620001</td>\n",
       "      <td>20.170000</td>\n",
       "      <td>20.430000</td>\n",
       "      <td>18.766001</td>\n",
       "      <td>36141000.0</td>\n",
       "    </tr>\n",
       "    <tr>\n",
       "      <th>3</th>\n",
       "      <td>2013-01-07</td>\n",
       "      <td>20.480000</td>\n",
       "      <td>20.670000</td>\n",
       "      <td>19.950001</td>\n",
       "      <td>20.080000</td>\n",
       "      <td>18.444506</td>\n",
       "      <td>28069600.0</td>\n",
       "    </tr>\n",
       "    <tr>\n",
       "      <th>4</th>\n",
       "      <td>2013-01-08</td>\n",
       "      <td>20.110001</td>\n",
       "      <td>20.230000</td>\n",
       "      <td>19.459999</td>\n",
       "      <td>19.500000</td>\n",
       "      <td>17.911745</td>\n",
       "      <td>29091300.0</td>\n",
       "    </tr>\n",
       "    <tr>\n",
       "      <th>5</th>\n",
       "      <td>2013-01-09</td>\n",
       "      <td>19.639999</td>\n",
       "      <td>19.870001</td>\n",
       "      <td>19.459999</td>\n",
       "      <td>19.680000</td>\n",
       "      <td>18.077084</td>\n",
       "      <td>24361100.0</td>\n",
       "    </tr>\n",
       "    <tr>\n",
       "      <th>6</th>\n",
       "      <td>2013-01-10</td>\n",
       "      <td>19.770000</td>\n",
       "      <td>20.049999</td>\n",
       "      <td>19.540001</td>\n",
       "      <td>19.830000</td>\n",
       "      <td>18.214869</td>\n",
       "      <td>17526200.0</td>\n",
       "    </tr>\n",
       "    <tr>\n",
       "      <th>7</th>\n",
       "      <td>2013-01-11</td>\n",
       "      <td>19.850000</td>\n",
       "      <td>20.040001</td>\n",
       "      <td>19.700001</td>\n",
       "      <td>19.879999</td>\n",
       "      <td>18.260794</td>\n",
       "      <td>18223600.0</td>\n",
       "    </tr>\n",
       "    <tr>\n",
       "      <th>8</th>\n",
       "      <td>2013-01-14</td>\n",
       "      <td>20.010000</td>\n",
       "      <td>20.240000</td>\n",
       "      <td>19.690001</td>\n",
       "      <td>19.719999</td>\n",
       "      <td>18.113827</td>\n",
       "      <td>28302400.0</td>\n",
       "    </tr>\n",
       "    <tr>\n",
       "      <th>9</th>\n",
       "      <td>2013-01-15</td>\n",
       "      <td>20.010000</td>\n",
       "      <td>20.240000</td>\n",
       "      <td>19.690001</td>\n",
       "      <td>19.820000</td>\n",
       "      <td>18.205681</td>\n",
       "      <td>29633900.0</td>\n",
       "    </tr>\n",
       "    <tr>\n",
       "      <th>10</th>\n",
       "      <td>2013-01-16</td>\n",
       "      <td>19.889999</td>\n",
       "      <td>19.889999</td>\n",
       "      <td>19.600000</td>\n",
       "      <td>19.840000</td>\n",
       "      <td>18.224054</td>\n",
       "      <td>16787800.0</td>\n",
       "    </tr>\n",
       "    <tr>\n",
       "      <th>11</th>\n",
       "      <td>2013-01-17</td>\n",
       "      <td>19.860001</td>\n",
       "      <td>19.930000</td>\n",
       "      <td>19.600000</td>\n",
       "      <td>19.709999</td>\n",
       "      <td>18.104639</td>\n",
       "      <td>19719600.0</td>\n",
       "    </tr>\n",
       "    <tr>\n",
       "      <th>12</th>\n",
       "      <td>2013-01-18</td>\n",
       "      <td>19.799999</td>\n",
       "      <td>19.889999</td>\n",
       "      <td>19.540001</td>\n",
       "      <td>19.580000</td>\n",
       "      <td>17.985229</td>\n",
       "      <td>18913900.0</td>\n",
       "    </tr>\n",
       "    <tr>\n",
       "      <th>13</th>\n",
       "      <td>2013-01-21</td>\n",
       "      <td>19.570000</td>\n",
       "      <td>19.600000</td>\n",
       "      <td>19.270000</td>\n",
       "      <td>19.389999</td>\n",
       "      <td>17.810705</td>\n",
       "      <td>18086200.0</td>\n",
       "    </tr>\n",
       "    <tr>\n",
       "      <th>14</th>\n",
       "      <td>2013-01-22</td>\n",
       "      <td>19.420000</td>\n",
       "      <td>19.610001</td>\n",
       "      <td>19.230000</td>\n",
       "      <td>19.580000</td>\n",
       "      <td>17.985229</td>\n",
       "      <td>23535100.0</td>\n",
       "    </tr>\n",
       "    <tr>\n",
       "      <th>15</th>\n",
       "      <td>2013-01-23</td>\n",
       "      <td>19.420000</td>\n",
       "      <td>19.629999</td>\n",
       "      <td>19.230000</td>\n",
       "      <td>19.549999</td>\n",
       "      <td>17.957674</td>\n",
       "      <td>17200800.0</td>\n",
       "    </tr>\n",
       "    <tr>\n",
       "      <th>16</th>\n",
       "      <td>2013-01-24</td>\n",
       "      <td>19.370001</td>\n",
       "      <td>19.750000</td>\n",
       "      <td>19.370001</td>\n",
       "      <td>19.610001</td>\n",
       "      <td>18.012787</td>\n",
       "      <td>19612600.0</td>\n",
       "    </tr>\n",
       "    <tr>\n",
       "      <th>17</th>\n",
       "      <td>2013-01-28</td>\n",
       "      <td>19.730000</td>\n",
       "      <td>19.809999</td>\n",
       "      <td>19.270000</td>\n",
       "      <td>19.370001</td>\n",
       "      <td>17.792336</td>\n",
       "      <td>20122600.0</td>\n",
       "    </tr>\n",
       "    <tr>\n",
       "      <th>18</th>\n",
       "      <td>2013-01-29</td>\n",
       "      <td>19.350000</td>\n",
       "      <td>19.370001</td>\n",
       "      <td>18.840000</td>\n",
       "      <td>19.110001</td>\n",
       "      <td>17.553513</td>\n",
       "      <td>27097900.0</td>\n",
       "    </tr>\n",
       "    <tr>\n",
       "      <th>19</th>\n",
       "      <td>2013-01-30</td>\n",
       "      <td>18.990000</td>\n",
       "      <td>18.990000</td>\n",
       "      <td>18.170000</td>\n",
       "      <td>18.200001</td>\n",
       "      <td>16.717628</td>\n",
       "      <td>66985800.0</td>\n",
       "    </tr>\n",
       "    <tr>\n",
       "      <th>20</th>\n",
       "      <td>2013-01-31</td>\n",
       "      <td>18.260000</td>\n",
       "      <td>18.330000</td>\n",
       "      <td>17.900000</td>\n",
       "      <td>18.080000</td>\n",
       "      <td>16.607405</td>\n",
       "      <td>33246400.0</td>\n",
       "    </tr>\n",
       "    <tr>\n",
       "      <th>21</th>\n",
       "      <td>2013-02-01</td>\n",
       "      <td>18.139999</td>\n",
       "      <td>18.650000</td>\n",
       "      <td>18.120001</td>\n",
       "      <td>18.459999</td>\n",
       "      <td>16.956451</td>\n",
       "      <td>28860400.0</td>\n",
       "    </tr>\n",
       "    <tr>\n",
       "      <th>22</th>\n",
       "      <td>2013-02-04</td>\n",
       "      <td>18.160000</td>\n",
       "      <td>18.350000</td>\n",
       "      <td>17.889999</td>\n",
       "      <td>18.000000</td>\n",
       "      <td>16.533920</td>\n",
       "      <td>32294300.0</td>\n",
       "    </tr>\n",
       "    <tr>\n",
       "      <th>23</th>\n",
       "      <td>2013-02-05</td>\n",
       "      <td>17.280001</td>\n",
       "      <td>18.290001</td>\n",
       "      <td>17.260000</td>\n",
       "      <td>18.080000</td>\n",
       "      <td>16.607405</td>\n",
       "      <td>77332900.0</td>\n",
       "    </tr>\n",
       "    <tr>\n",
       "      <th>24</th>\n",
       "      <td>2013-02-06</td>\n",
       "      <td>17.930000</td>\n",
       "      <td>18.000000</td>\n",
       "      <td>17.530001</td>\n",
       "      <td>17.600000</td>\n",
       "      <td>16.166500</td>\n",
       "      <td>30886100.0</td>\n",
       "    </tr>\n",
       "    <tr>\n",
       "      <th>25</th>\n",
       "      <td>2013-02-07</td>\n",
       "      <td>17.750000</td>\n",
       "      <td>17.980000</td>\n",
       "      <td>17.320000</td>\n",
       "      <td>17.500000</td>\n",
       "      <td>16.074644</td>\n",
       "      <td>37066400.0</td>\n",
       "    </tr>\n",
       "    <tr>\n",
       "      <th>26</th>\n",
       "      <td>2013-02-08</td>\n",
       "      <td>17.549999</td>\n",
       "      <td>17.780001</td>\n",
       "      <td>17.379999</td>\n",
       "      <td>17.740000</td>\n",
       "      <td>16.295095</td>\n",
       "      <td>31068100.0</td>\n",
       "    </tr>\n",
       "    <tr>\n",
       "      <th>27</th>\n",
       "      <td>2013-02-13</td>\n",
       "      <td>17.950001</td>\n",
       "      <td>18.000000</td>\n",
       "      <td>17.730000</td>\n",
       "      <td>17.799999</td>\n",
       "      <td>16.350208</td>\n",
       "      <td>22328200.0</td>\n",
       "    </tr>\n",
       "    <tr>\n",
       "      <th>28</th>\n",
       "      <td>2013-02-14</td>\n",
       "      <td>17.790001</td>\n",
       "      <td>17.900000</td>\n",
       "      <td>17.580000</td>\n",
       "      <td>17.670000</td>\n",
       "      <td>16.230797</td>\n",
       "      <td>25902900.0</td>\n",
       "    </tr>\n",
       "    <tr>\n",
       "      <th>29</th>\n",
       "      <td>2013-02-15</td>\n",
       "      <td>17.610001</td>\n",
       "      <td>17.790001</td>\n",
       "      <td>17.530001</td>\n",
       "      <td>17.629999</td>\n",
       "      <td>16.194056</td>\n",
       "      <td>25001600.0</td>\n",
       "    </tr>\n",
       "    <tr>\n",
       "      <th>...</th>\n",
       "      <td>...</td>\n",
       "      <td>...</td>\n",
       "      <td>...</td>\n",
       "      <td>...</td>\n",
       "      <td>...</td>\n",
       "      <td>...</td>\n",
       "      <td>...</td>\n",
       "    </tr>\n",
       "    <tr>\n",
       "      <th>1315</th>\n",
       "      <td>2018-04-13</td>\n",
       "      <td>21.639999</td>\n",
       "      <td>21.740000</td>\n",
       "      <td>21.059999</td>\n",
       "      <td>21.200001</td>\n",
       "      <td>21.157686</td>\n",
       "      <td>43347800.0</td>\n",
       "    </tr>\n",
       "    <tr>\n",
       "      <th>1316</th>\n",
       "      <td>2018-04-16</td>\n",
       "      <td>21.049999</td>\n",
       "      <td>21.240000</td>\n",
       "      <td>20.600000</td>\n",
       "      <td>20.620001</td>\n",
       "      <td>20.578844</td>\n",
       "      <td>48474200.0</td>\n",
       "    </tr>\n",
       "    <tr>\n",
       "      <th>1317</th>\n",
       "      <td>2018-04-17</td>\n",
       "      <td>20.700001</td>\n",
       "      <td>21.080000</td>\n",
       "      <td>20.620001</td>\n",
       "      <td>21.030001</td>\n",
       "      <td>20.988026</td>\n",
       "      <td>36570400.0</td>\n",
       "    </tr>\n",
       "    <tr>\n",
       "      <th>1318</th>\n",
       "      <td>2018-04-18</td>\n",
       "      <td>21.350000</td>\n",
       "      <td>21.870001</td>\n",
       "      <td>21.309999</td>\n",
       "      <td>21.799999</td>\n",
       "      <td>21.756487</td>\n",
       "      <td>65237400.0</td>\n",
       "    </tr>\n",
       "    <tr>\n",
       "      <th>1319</th>\n",
       "      <td>2018-04-19</td>\n",
       "      <td>22.070000</td>\n",
       "      <td>22.400000</td>\n",
       "      <td>21.930000</td>\n",
       "      <td>22.200001</td>\n",
       "      <td>22.155689</td>\n",
       "      <td>62475200.0</td>\n",
       "    </tr>\n",
       "    <tr>\n",
       "      <th>1320</th>\n",
       "      <td>2018-04-20</td>\n",
       "      <td>22.059999</td>\n",
       "      <td>22.459999</td>\n",
       "      <td>21.900000</td>\n",
       "      <td>22.360001</td>\n",
       "      <td>22.315371</td>\n",
       "      <td>61494800.0</td>\n",
       "    </tr>\n",
       "    <tr>\n",
       "      <th>1321</th>\n",
       "      <td>2018-04-23</td>\n",
       "      <td>22.090000</td>\n",
       "      <td>22.480000</td>\n",
       "      <td>21.940001</td>\n",
       "      <td>22.480000</td>\n",
       "      <td>22.435129</td>\n",
       "      <td>37023300.0</td>\n",
       "    </tr>\n",
       "    <tr>\n",
       "      <th>1322</th>\n",
       "      <td>2018-04-24</td>\n",
       "      <td>22.600000</td>\n",
       "      <td>22.770000</td>\n",
       "      <td>22.230000</td>\n",
       "      <td>22.400000</td>\n",
       "      <td>22.355289</td>\n",
       "      <td>46710300.0</td>\n",
       "    </tr>\n",
       "    <tr>\n",
       "      <th>1323</th>\n",
       "      <td>2018-04-25</td>\n",
       "      <td>22.010000</td>\n",
       "      <td>22.129999</td>\n",
       "      <td>21.670000</td>\n",
       "      <td>21.730000</td>\n",
       "      <td>21.686626</td>\n",
       "      <td>68160600.0</td>\n",
       "    </tr>\n",
       "    <tr>\n",
       "      <th>1324</th>\n",
       "      <td>2018-04-26</td>\n",
       "      <td>22.000000</td>\n",
       "      <td>22.629999</td>\n",
       "      <td>21.969999</td>\n",
       "      <td>22.629999</td>\n",
       "      <td>22.584829</td>\n",
       "      <td>56674700.0</td>\n",
       "    </tr>\n",
       "    <tr>\n",
       "      <th>1325</th>\n",
       "      <td>2018-04-27</td>\n",
       "      <td>22.840000</td>\n",
       "      <td>22.930000</td>\n",
       "      <td>22.660000</td>\n",
       "      <td>22.709999</td>\n",
       "      <td>22.664671</td>\n",
       "      <td>37858300.0</td>\n",
       "    </tr>\n",
       "    <tr>\n",
       "      <th>1326</th>\n",
       "      <td>2018-04-30</td>\n",
       "      <td>22.730000</td>\n",
       "      <td>23.020000</td>\n",
       "      <td>22.629999</td>\n",
       "      <td>22.969999</td>\n",
       "      <td>22.924152</td>\n",
       "      <td>23681500.0</td>\n",
       "    </tr>\n",
       "    <tr>\n",
       "      <th>1327</th>\n",
       "      <td>2018-05-02</td>\n",
       "      <td>22.670000</td>\n",
       "      <td>22.930000</td>\n",
       "      <td>22.510000</td>\n",
       "      <td>22.600000</td>\n",
       "      <td>22.554892</td>\n",
       "      <td>31778100.0</td>\n",
       "    </tr>\n",
       "    <tr>\n",
       "      <th>1328</th>\n",
       "      <td>2018-05-03</td>\n",
       "      <td>22.540001</td>\n",
       "      <td>22.639999</td>\n",
       "      <td>21.969999</td>\n",
       "      <td>22.450001</td>\n",
       "      <td>22.405191</td>\n",
       "      <td>48855700.0</td>\n",
       "    </tr>\n",
       "    <tr>\n",
       "      <th>1329</th>\n",
       "      <td>2018-05-04</td>\n",
       "      <td>22.450001</td>\n",
       "      <td>22.639999</td>\n",
       "      <td>22.270000</td>\n",
       "      <td>22.270000</td>\n",
       "      <td>22.225550</td>\n",
       "      <td>33599400.0</td>\n",
       "    </tr>\n",
       "    <tr>\n",
       "      <th>1330</th>\n",
       "      <td>2018-05-07</td>\n",
       "      <td>22.570000</td>\n",
       "      <td>23.170000</td>\n",
       "      <td>22.490000</td>\n",
       "      <td>22.650000</td>\n",
       "      <td>22.604790</td>\n",
       "      <td>47815100.0</td>\n",
       "    </tr>\n",
       "    <tr>\n",
       "      <th>1331</th>\n",
       "      <td>2018-05-08</td>\n",
       "      <td>23.059999</td>\n",
       "      <td>23.150000</td>\n",
       "      <td>22.520000</td>\n",
       "      <td>22.910000</td>\n",
       "      <td>22.864271</td>\n",
       "      <td>81198700.0</td>\n",
       "    </tr>\n",
       "    <tr>\n",
       "      <th>1332</th>\n",
       "      <td>2018-05-09</td>\n",
       "      <td>23.299999</td>\n",
       "      <td>24.799999</td>\n",
       "      <td>23.219999</td>\n",
       "      <td>24.780001</td>\n",
       "      <td>24.730541</td>\n",
       "      <td>118032300.0</td>\n",
       "    </tr>\n",
       "    <tr>\n",
       "      <th>1333</th>\n",
       "      <td>2018-05-10</td>\n",
       "      <td>25.139999</td>\n",
       "      <td>26.490000</td>\n",
       "      <td>24.920000</td>\n",
       "      <td>25.750000</td>\n",
       "      <td>25.698603</td>\n",
       "      <td>126907200.0</td>\n",
       "    </tr>\n",
       "    <tr>\n",
       "      <th>1334</th>\n",
       "      <td>2018-05-11</td>\n",
       "      <td>25.830000</td>\n",
       "      <td>26.309999</td>\n",
       "      <td>25.420000</td>\n",
       "      <td>25.440001</td>\n",
       "      <td>25.389223</td>\n",
       "      <td>72996400.0</td>\n",
       "    </tr>\n",
       "    <tr>\n",
       "      <th>1335</th>\n",
       "      <td>2018-05-14</td>\n",
       "      <td>25.850000</td>\n",
       "      <td>26.480000</td>\n",
       "      <td>25.809999</td>\n",
       "      <td>26.240000</td>\n",
       "      <td>26.187626</td>\n",
       "      <td>66938700.0</td>\n",
       "    </tr>\n",
       "    <tr>\n",
       "      <th>1336</th>\n",
       "      <td>2018-05-15</td>\n",
       "      <td>26.350000</td>\n",
       "      <td>26.900000</td>\n",
       "      <td>25.889999</td>\n",
       "      <td>26.790001</td>\n",
       "      <td>26.736528</td>\n",
       "      <td>75230200.0</td>\n",
       "    </tr>\n",
       "    <tr>\n",
       "      <th>1337</th>\n",
       "      <td>2018-05-16</td>\n",
       "      <td>26.870001</td>\n",
       "      <td>27.530001</td>\n",
       "      <td>26.840000</td>\n",
       "      <td>27.389999</td>\n",
       "      <td>27.335329</td>\n",
       "      <td>64486500.0</td>\n",
       "    </tr>\n",
       "    <tr>\n",
       "      <th>1338</th>\n",
       "      <td>2018-05-17</td>\n",
       "      <td>27.350000</td>\n",
       "      <td>27.600000</td>\n",
       "      <td>25.469999</td>\n",
       "      <td>25.950001</td>\n",
       "      <td>25.898205</td>\n",
       "      <td>112487000.0</td>\n",
       "    </tr>\n",
       "    <tr>\n",
       "      <th>1339</th>\n",
       "      <td>2018-05-18</td>\n",
       "      <td>25.010000</td>\n",
       "      <td>26.170000</td>\n",
       "      <td>24.959999</td>\n",
       "      <td>25.650000</td>\n",
       "      <td>25.598803</td>\n",
       "      <td>83206900.0</td>\n",
       "    </tr>\n",
       "    <tr>\n",
       "      <th>1340</th>\n",
       "      <td>2018-05-21</td>\n",
       "      <td>26.100000</td>\n",
       "      <td>26.290001</td>\n",
       "      <td>24.940001</td>\n",
       "      <td>25.049999</td>\n",
       "      <td>25.000000</td>\n",
       "      <td>75971900.0</td>\n",
       "    </tr>\n",
       "    <tr>\n",
       "      <th>1341</th>\n",
       "      <td>2018-05-22</td>\n",
       "      <td>24.809999</td>\n",
       "      <td>25.290001</td>\n",
       "      <td>24.150000</td>\n",
       "      <td>24.709999</td>\n",
       "      <td>24.709999</td>\n",
       "      <td>88109900.0</td>\n",
       "    </tr>\n",
       "    <tr>\n",
       "      <th>1342</th>\n",
       "      <td>2018-05-23</td>\n",
       "      <td>24.230000</td>\n",
       "      <td>24.480000</td>\n",
       "      <td>23.270000</td>\n",
       "      <td>23.270000</td>\n",
       "      <td>23.270000</td>\n",
       "      <td>74622500.0</td>\n",
       "    </tr>\n",
       "    <tr>\n",
       "      <th>1343</th>\n",
       "      <td>2018-05-24</td>\n",
       "      <td>20.049999</td>\n",
       "      <td>20.750000</td>\n",
       "      <td>19.650000</td>\n",
       "      <td>20.080000</td>\n",
       "      <td>20.080000</td>\n",
       "      <td>240343800.0</td>\n",
       "    </tr>\n",
       "    <tr>\n",
       "      <th>1344</th>\n",
       "      <td>2018-05-25</td>\n",
       "      <td>20.650000</td>\n",
       "      <td>21.270000</td>\n",
       "      <td>19.660000</td>\n",
       "      <td>19.799999</td>\n",
       "      <td>19.799999</td>\n",
       "      <td>131188100.0</td>\n",
       "    </tr>\n",
       "  </tbody>\n",
       "</table>\n",
       "<p>1345 rows × 7 columns</p>\n",
       "</div>"
      ],
      "text/plain": [
       "            Date       Open       High        Low      Close  Adj Close  \\\n",
       "0     2013-01-02  19.990000  20.209999  19.690001  19.690001  18.086271   \n",
       "1     2013-01-03  19.809999  20.400000  19.700001  20.400000  18.738441   \n",
       "2     2013-01-04  20.330000  20.620001  20.170000  20.430000  18.766001   \n",
       "3     2013-01-07  20.480000  20.670000  19.950001  20.080000  18.444506   \n",
       "4     2013-01-08  20.110001  20.230000  19.459999  19.500000  17.911745   \n",
       "5     2013-01-09  19.639999  19.870001  19.459999  19.680000  18.077084   \n",
       "6     2013-01-10  19.770000  20.049999  19.540001  19.830000  18.214869   \n",
       "7     2013-01-11  19.850000  20.040001  19.700001  19.879999  18.260794   \n",
       "8     2013-01-14  20.010000  20.240000  19.690001  19.719999  18.113827   \n",
       "9     2013-01-15  20.010000  20.240000  19.690001  19.820000  18.205681   \n",
       "10    2013-01-16  19.889999  19.889999  19.600000  19.840000  18.224054   \n",
       "11    2013-01-17  19.860001  19.930000  19.600000  19.709999  18.104639   \n",
       "12    2013-01-18  19.799999  19.889999  19.540001  19.580000  17.985229   \n",
       "13    2013-01-21  19.570000  19.600000  19.270000  19.389999  17.810705   \n",
       "14    2013-01-22  19.420000  19.610001  19.230000  19.580000  17.985229   \n",
       "15    2013-01-23  19.420000  19.629999  19.230000  19.549999  17.957674   \n",
       "16    2013-01-24  19.370001  19.750000  19.370001  19.610001  18.012787   \n",
       "17    2013-01-28  19.730000  19.809999  19.270000  19.370001  17.792336   \n",
       "18    2013-01-29  19.350000  19.370001  18.840000  19.110001  17.553513   \n",
       "19    2013-01-30  18.990000  18.990000  18.170000  18.200001  16.717628   \n",
       "20    2013-01-31  18.260000  18.330000  17.900000  18.080000  16.607405   \n",
       "21    2013-02-01  18.139999  18.650000  18.120001  18.459999  16.956451   \n",
       "22    2013-02-04  18.160000  18.350000  17.889999  18.000000  16.533920   \n",
       "23    2013-02-05  17.280001  18.290001  17.260000  18.080000  16.607405   \n",
       "24    2013-02-06  17.930000  18.000000  17.530001  17.600000  16.166500   \n",
       "25    2013-02-07  17.750000  17.980000  17.320000  17.500000  16.074644   \n",
       "26    2013-02-08  17.549999  17.780001  17.379999  17.740000  16.295095   \n",
       "27    2013-02-13  17.950001  18.000000  17.730000  17.799999  16.350208   \n",
       "28    2013-02-14  17.790001  17.900000  17.580000  17.670000  16.230797   \n",
       "29    2013-02-15  17.610001  17.790001  17.530001  17.629999  16.194056   \n",
       "...          ...        ...        ...        ...        ...        ...   \n",
       "1315  2018-04-13  21.639999  21.740000  21.059999  21.200001  21.157686   \n",
       "1316  2018-04-16  21.049999  21.240000  20.600000  20.620001  20.578844   \n",
       "1317  2018-04-17  20.700001  21.080000  20.620001  21.030001  20.988026   \n",
       "1318  2018-04-18  21.350000  21.870001  21.309999  21.799999  21.756487   \n",
       "1319  2018-04-19  22.070000  22.400000  21.930000  22.200001  22.155689   \n",
       "1320  2018-04-20  22.059999  22.459999  21.900000  22.360001  22.315371   \n",
       "1321  2018-04-23  22.090000  22.480000  21.940001  22.480000  22.435129   \n",
       "1322  2018-04-24  22.600000  22.770000  22.230000  22.400000  22.355289   \n",
       "1323  2018-04-25  22.010000  22.129999  21.670000  21.730000  21.686626   \n",
       "1324  2018-04-26  22.000000  22.629999  21.969999  22.629999  22.584829   \n",
       "1325  2018-04-27  22.840000  22.930000  22.660000  22.709999  22.664671   \n",
       "1326  2018-04-30  22.730000  23.020000  22.629999  22.969999  22.924152   \n",
       "1327  2018-05-02  22.670000  22.930000  22.510000  22.600000  22.554892   \n",
       "1328  2018-05-03  22.540001  22.639999  21.969999  22.450001  22.405191   \n",
       "1329  2018-05-04  22.450001  22.639999  22.270000  22.270000  22.225550   \n",
       "1330  2018-05-07  22.570000  23.170000  22.490000  22.650000  22.604790   \n",
       "1331  2018-05-08  23.059999  23.150000  22.520000  22.910000  22.864271   \n",
       "1332  2018-05-09  23.299999  24.799999  23.219999  24.780001  24.730541   \n",
       "1333  2018-05-10  25.139999  26.490000  24.920000  25.750000  25.698603   \n",
       "1334  2018-05-11  25.830000  26.309999  25.420000  25.440001  25.389223   \n",
       "1335  2018-05-14  25.850000  26.480000  25.809999  26.240000  26.187626   \n",
       "1336  2018-05-15  26.350000  26.900000  25.889999  26.790001  26.736528   \n",
       "1337  2018-05-16  26.870001  27.530001  26.840000  27.389999  27.335329   \n",
       "1338  2018-05-17  27.350000  27.600000  25.469999  25.950001  25.898205   \n",
       "1339  2018-05-18  25.010000  26.170000  24.959999  25.650000  25.598803   \n",
       "1340  2018-05-21  26.100000  26.290001  24.940001  25.049999  25.000000   \n",
       "1341  2018-05-22  24.809999  25.290001  24.150000  24.709999  24.709999   \n",
       "1342  2018-05-23  24.230000  24.480000  23.270000  23.270000  23.270000   \n",
       "1343  2018-05-24  20.049999  20.750000  19.650000  20.080000  20.080000   \n",
       "1344  2018-05-25  20.650000  21.270000  19.660000  19.799999  19.799999   \n",
       "\n",
       "           Volume  \n",
       "0      30182600.0  \n",
       "1      30552600.0  \n",
       "2      36141000.0  \n",
       "3      28069600.0  \n",
       "4      29091300.0  \n",
       "5      24361100.0  \n",
       "6      17526200.0  \n",
       "7      18223600.0  \n",
       "8      28302400.0  \n",
       "9      29633900.0  \n",
       "10     16787800.0  \n",
       "11     19719600.0  \n",
       "12     18913900.0  \n",
       "13     18086200.0  \n",
       "14     23535100.0  \n",
       "15     17200800.0  \n",
       "16     19612600.0  \n",
       "17     20122600.0  \n",
       "18     27097900.0  \n",
       "19     66985800.0  \n",
       "20     33246400.0  \n",
       "21     28860400.0  \n",
       "22     32294300.0  \n",
       "23     77332900.0  \n",
       "24     30886100.0  \n",
       "25     37066400.0  \n",
       "26     31068100.0  \n",
       "27     22328200.0  \n",
       "28     25902900.0  \n",
       "29     25001600.0  \n",
       "...           ...  \n",
       "1315   43347800.0  \n",
       "1316   48474200.0  \n",
       "1317   36570400.0  \n",
       "1318   65237400.0  \n",
       "1319   62475200.0  \n",
       "1320   61494800.0  \n",
       "1321   37023300.0  \n",
       "1322   46710300.0  \n",
       "1323   68160600.0  \n",
       "1324   56674700.0  \n",
       "1325   37858300.0  \n",
       "1326   23681500.0  \n",
       "1327   31778100.0  \n",
       "1328   48855700.0  \n",
       "1329   33599400.0  \n",
       "1330   47815100.0  \n",
       "1331   81198700.0  \n",
       "1332  118032300.0  \n",
       "1333  126907200.0  \n",
       "1334   72996400.0  \n",
       "1335   66938700.0  \n",
       "1336   75230200.0  \n",
       "1337   64486500.0  \n",
       "1338  112487000.0  \n",
       "1339   83206900.0  \n",
       "1340   75971900.0  \n",
       "1341   88109900.0  \n",
       "1342   74622500.0  \n",
       "1343  240343800.0  \n",
       "1344  131188100.0  \n",
       "\n",
       "[1345 rows x 7 columns]"
      ]
     },
     "execution_count": 26,
     "metadata": {},
     "output_type": "execute_result"
    }
   ],
   "source": [
    "dataFrame"
   ]
  },
  {
   "cell_type": "markdown",
   "metadata": {},
   "source": [
    "**Pré-processamento dos dados**"
   ]
  },
  {
   "cell_type": "markdown",
   "metadata": {},
   "source": [
    "Em relação ao valores NaN, podemos realizar três ações:\n",
    "\n",
    "* Exclução desses valores\n",
    "* Substituição por 0\n",
    "* Substituir pela média de cada coluna"
   ]
  },
  {
   "cell_type": "code",
   "execution_count": 27,
   "metadata": {},
   "outputs": [
    {
     "data": {
      "text/plain": [
       "Date         0\n",
       "Open         3\n",
       "High         3\n",
       "Low          3\n",
       "Close        3\n",
       "Adj Close    3\n",
       "Volume       3\n",
       "dtype: int64"
      ]
     },
     "execution_count": 27,
     "metadata": {},
     "output_type": "execute_result"
    }
   ],
   "source": [
    "dataFrame.isnull().sum()"
   ]
  },
  {
   "cell_type": "markdown",
   "metadata": {},
   "source": [
    "Visto que a quantidade de valores do tipo NaN é relativamente baixa em relação aos 1245 dados do data set, podemos optar por apagar esses registros."
   ]
  },
  {
   "cell_type": "code",
   "execution_count": 28,
   "metadata": {},
   "outputs": [],
   "source": [
    "dataFrame = dataFrame.dropna()"
   ]
  },
  {
   "cell_type": "code",
   "execution_count": 29,
   "metadata": {},
   "outputs": [
    {
     "data": {
      "text/plain": [
       "(1342, 7)"
      ]
     },
     "execution_count": 29,
     "metadata": {},
     "output_type": "execute_result"
    }
   ],
   "source": [
    "dataFrame.shape"
   ]
  },
  {
   "cell_type": "markdown",
   "metadata": {},
   "source": [
    "Dessa forma, podemos verificar se a função dropna(), conseguiu apagar estes valores nulos:"
   ]
  },
  {
   "cell_type": "code",
   "execution_count": 30,
   "metadata": {},
   "outputs": [
    {
     "data": {
      "text/plain": [
       "Date         0\n",
       "Open         0\n",
       "High         0\n",
       "Low          0\n",
       "Close        0\n",
       "Adj Close    0\n",
       "Volume       0\n",
       "dtype: int64"
      ]
     },
     "execution_count": 30,
     "metadata": {},
     "output_type": "execute_result"
    }
   ],
   "source": [
    "dataFrame.isnull().sum()"
   ]
  },
  {
   "cell_type": "markdown",
   "metadata": {},
   "source": [
    "Para treinarmos nosso modelo, podemos escolher uma das features temporais, que possa nos auxiliar na nossa target(alvo do modelo):\n",
    "\n",
    "* Nesse contexto, optei por escolher a feature ***Open*** referente à abertura da ação."
   ]
  },
  {
   "cell_type": "code",
   "execution_count": 31,
   "metadata": {},
   "outputs": [],
   "source": [
    "base_treinamento = dataFrame.iloc[:,1:2].values"
   ]
  },
  {
   "cell_type": "code",
   "execution_count": 32,
   "metadata": {},
   "outputs": [
    {
     "name": "stdout",
     "output_type": "stream",
     "text": [
      "[[19.99    ]\n",
      " [19.809999]\n",
      " [20.33    ]\n",
      " ...\n",
      " [24.23    ]\n",
      " [20.049999]\n",
      " [20.65    ]]\n"
     ]
    }
   ],
   "source": [
    "print(base_treinamento)"
   ]
  },
  {
   "cell_type": "markdown",
   "metadata": {},
   "source": [
    "Nosso modelo trabalha com valores reais, podemos dizer assim. Dessa forma, podemos encontrar valores muito altos, que podem influenciar no treinamento. Para resolver essa problemática, podemos escolher duas opções:\n",
    "\n",
    "* Normalização dos dados\n",
    "\n",
    "* Padronização dos dados"
   ]
  },
  {
   "cell_type": "markdown",
   "metadata": {},
   "source": [
    "Ambas as técnicas trabalham com o um único objetivo: deixar os dados na mesma grandeza. Para isso, veremos como cada uma trabalha, de forma individual:"
   ]
  },
  {
   "cell_type": "markdown",
   "metadata": {},
   "source": [
    "**Normalização**\n",
    "\n",
    "![Min-Max fórmula](https://miro.medium.com/max/202/1*9N7QdpE_CfvkTyirk7_oWw.png)"
   ]
  },
  {
   "cell_type": "markdown",
   "metadata": {},
   "source": [
    "**Padronização**\n",
    "\n",
    "<img src=\"https://d1whtlypfis84e.cloudfront.net/guides/wp-content/uploads/2020/04/04155631/1426878678.png \" alt=\"drawing\" width=\"150\"/>"
   ]
  },
  {
   "cell_type": "markdown",
   "metadata": {},
   "source": [
    "Neste modelo, vamos utilizar a técnica de **Normalização**, visto a tratar os outliers nos nossos dados."
   ]
  },
  {
   "cell_type": "code",
   "execution_count": 33,
   "metadata": {},
   "outputs": [],
   "source": [
    "from sklearn.preprocessing import MinMaxScaler"
   ]
  },
  {
   "cell_type": "markdown",
   "metadata": {},
   "source": [
    "Para normalizar esse dados, vamos utilizar a função MinMaxScaler(), que irá transformar os dados em uma escala de 0 e 1."
   ]
  },
  {
   "cell_type": "code",
   "execution_count": 34,
   "metadata": {},
   "outputs": [],
   "source": [
    "normalizador = MinMaxScaler(feature_range = [0,1])"
   ]
  },
  {
   "cell_type": "code",
   "execution_count": 35,
   "metadata": {},
   "outputs": [],
   "source": [
    "base_treinamento_normalizer = normalizador.fit_transform(base_treinamento)"
   ]
  },
  {
   "cell_type": "code",
   "execution_count": 36,
   "metadata": {},
   "outputs": [
    {
     "data": {
      "text/plain": [
       "array([[0.68207343],\n",
       "       [0.67429801],\n",
       "       [0.69676026],\n",
       "       ...,\n",
       "       [0.86522678],\n",
       "       [0.68466518],\n",
       "       [0.71058315]])"
      ]
     },
     "execution_count": 36,
     "metadata": {},
     "output_type": "execute_result"
    }
   ],
   "source": [
    "base_treinamento_normalizer"
   ]
  },
  {
   "cell_type": "markdown",
   "metadata": {},
   "source": [
    "**Estrutura da base para previsão temporal I**"
   ]
  },
  {
   "cell_type": "markdown",
   "metadata": {},
   "source": [
    "Quando trabalha-se com dados temporais é preciso definir um intervalo de tempo entre os dados e o alvo. Neste caso, podemos pegar um registro que tenha registros anteriores. "
   ]
  },
  {
   "cell_type": "markdown",
   "metadata": {},
   "source": [
    "Exemplo: \n",
    "\n",
    "| Dia da semana | Dia | Preço |\n",
    "|---------------|-----|-------|\n",
    "| Quinta-feira  | 03  | 19,99 |\n",
    "| Sexta-feira   | 04  | 19,80 |\n",
    "| Segunda-feira | 07  | 20,33 |\n",
    "| Terça-feira   | 08  | 20,48 |\n",
    "| Quarta-feira  | 09  | 20,11 |\n",
    "\n",
    "Para prever o preço da Quarta-feira, dia 09, precisamos pegar os valores das 4 datas anteriores:\n",
    "\n",
    "| **Previsores** |   **Preço real**|\n",
    "|---------------|-----|\n",
    "| 19,99 19,80 20,33 20,48 20,11  | 20,11  |\n"
   ]
  },
  {
   "cell_type": "markdown",
   "metadata": {},
   "source": [
    "**Estrutura da base para previsão temporal II**\n",
    "\n",
    "* Prever o preço real através do 90 valores anteriores"
   ]
  },
  {
   "cell_type": "code",
   "execution_count": 71,
   "metadata": {},
   "outputs": [],
   "source": [
    "previsores = []\n",
    "preco_real = []\n",
    "\n",
    "for i in range(90, 1242):\n",
    "    previsores.append(base_treinamento_normalizer[i-90:i, 0])\n",
    "    preco_real.append(base_treinamento_normalizer[i, 0])"
   ]
  },
  {
   "cell_type": "code",
   "execution_count": 72,
   "metadata": {},
   "outputs": [],
   "source": [
    "previsores, preco_real = np.array(previsores), np.array(preco_real)"
   ]
  },
  {
   "cell_type": "code",
   "execution_count": 73,
   "metadata": {},
   "outputs": [
    {
     "data": {
      "text/plain": [
       "(1152, 90)"
      ]
     },
     "execution_count": 73,
     "metadata": {},
     "output_type": "execute_result"
    }
   ],
   "source": [
    "previsores.shape"
   ]
  },
  {
   "cell_type": "markdown",
   "metadata": {},
   "source": [
    "Com a utilização da biblioteca Keras, nosso vetor de entradas precisa manter uma dimensão 3D com o formato:\n",
    "\n",
    "                (batch_size, timesteps, input_dim)\n",
    "Sendo:\n",
    "\n",
    "* Batch_size - refere-se ao número de exemplos de treinamento usados em uma intereção\n",
    "\n",
    "* Timesteps - refere-se a descrição da forma dos dados\n",
    "\n",
    "* Input_dim - refere-se ao número de entradas"
   ]
  },
  {
   "cell_type": "code",
   "execution_count": 74,
   "metadata": {},
   "outputs": [],
   "source": [
    "previsores = np.reshape(previsores, (previsores.shape[0],previsores.shape[1],1))"
   ]
  },
  {
   "cell_type": "markdown",
   "metadata": {},
   "source": [
    "**Estrutura da Rede Neural Recorrente**"
   ]
  },
  {
   "cell_type": "code",
   "execution_count": 75,
   "metadata": {},
   "outputs": [],
   "source": [
    "regressor = Sequential()\n",
    "regressor.add(LSTM(units = 100, return_sequences = True, input_shape = (previsores.shape[1],1)))\n",
    "regressor.add(Dropout(0.3))"
   ]
  },
  {
   "cell_type": "code",
   "execution_count": 76,
   "metadata": {},
   "outputs": [],
   "source": [
    "regressor.add(LSTM(units = 50, return_sequences = True))\n",
    "regressor.add(Dropout(0.3))"
   ]
  },
  {
   "cell_type": "code",
   "execution_count": 77,
   "metadata": {},
   "outputs": [],
   "source": [
    "regressor.add(LSTM(units = 50, return_sequences = True))\n",
    "regressor.add(Dropout(0.3))"
   ]
  },
  {
   "cell_type": "code",
   "execution_count": 78,
   "metadata": {},
   "outputs": [],
   "source": [
    "regressor.add(LSTM(units = 50))\n",
    "regressor.add(Dropout(0.3))"
   ]
  },
  {
   "cell_type": "code",
   "execution_count": 79,
   "metadata": {},
   "outputs": [],
   "source": [
    "regressor.add(Dense(units = 1,activation = 'linear'))"
   ]
  },
  {
   "cell_type": "code",
   "execution_count": 80,
   "metadata": {},
   "outputs": [],
   "source": [
    "regressor.compile(optimizer = 'rmsprop', loss = 'mean_squared_error',\n",
    "                  metrics = ['mean_squared_error'])"
   ]
  },
  {
   "cell_type": "code",
   "execution_count": 81,
   "metadata": {},
   "outputs": [
    {
     "name": "stdout",
     "output_type": "stream",
     "text": [
      "Epoch 1/100\n",
      "1152/1152 [==============================] - 8s 7ms/step - loss: 0.0305 - mean_squared_error: 0.0305\n",
      "Epoch 2/100\n",
      "1152/1152 [==============================] - 7s 6ms/step - loss: 0.0131 - mean_squared_error: 0.0131\n",
      "Epoch 3/100\n",
      "1152/1152 [==============================] - 6s 6ms/step - loss: 0.0133 - mean_squared_error: 0.0133\n",
      "Epoch 4/100\n",
      "1152/1152 [==============================] - 7s 6ms/step - loss: 0.0091 - mean_squared_error: 0.0091\n",
      "Epoch 5/100\n",
      "1152/1152 [==============================] - 7s 6ms/step - loss: 0.0098 - mean_squared_error: 0.0098\n",
      "Epoch 6/100\n",
      "1152/1152 [==============================] - 7s 6ms/step - loss: 0.0084 - mean_squared_error: 0.0084\n",
      "Epoch 7/100\n",
      "1152/1152 [==============================] - 6s 6ms/step - loss: 0.0070 - mean_squared_error: 0.0070\n",
      "Epoch 8/100\n",
      "1152/1152 [==============================] - 6s 6ms/step - loss: 0.0061 - mean_squared_error: 0.0061\n",
      "Epoch 9/100\n",
      "1152/1152 [==============================] - 7s 6ms/step - loss: 0.0062 - mean_squared_error: 0.0062\n",
      "Epoch 10/100\n",
      "1152/1152 [==============================] - 7s 6ms/step - loss: 0.0055 - mean_squared_error: 0.0055\n",
      "Epoch 11/100\n",
      "1152/1152 [==============================] - 6s 5ms/step - loss: 0.0053 - mean_squared_error: 0.0053\n",
      "Epoch 12/100\n",
      "1152/1152 [==============================] - 6s 6ms/step - loss: 0.0050 - mean_squared_error: 0.0050\n",
      "Epoch 13/100\n",
      "1152/1152 [==============================] - 6s 6ms/step - loss: 0.0049 - mean_squared_error: 0.0049\n",
      "Epoch 14/100\n",
      "1152/1152 [==============================] - 7s 6ms/step - loss: 0.0042 - mean_squared_error: 0.0042\n",
      "Epoch 15/100\n",
      "1152/1152 [==============================] - 7s 6ms/step - loss: 0.0041 - mean_squared_error: 0.0041\n",
      "Epoch 16/100\n",
      "1152/1152 [==============================] - 7s 6ms/step - loss: 0.0042 - mean_squared_error: 0.0042\n",
      "Epoch 17/100\n",
      "1152/1152 [==============================] - 7s 6ms/step - loss: 0.0034 - mean_squared_error: 0.0034\n",
      "Epoch 18/100\n",
      "1152/1152 [==============================] - 7s 6ms/step - loss: 0.0037 - mean_squared_error: 0.0037\n",
      "Epoch 19/100\n",
      "1152/1152 [==============================] - 7s 6ms/step - loss: 0.0031 - mean_squared_error: 0.0031\n",
      "Epoch 20/100\n",
      "1152/1152 [==============================] - 6s 6ms/step - loss: 0.0033 - mean_squared_error: 0.0033\n",
      "Epoch 21/100\n",
      "1152/1152 [==============================] - 6s 6ms/step - loss: 0.0033 - mean_squared_error: 0.0033\n",
      "Epoch 22/100\n",
      "1152/1152 [==============================] - 6s 6ms/step - loss: 0.0029 - mean_squared_error: 0.0029\n",
      "Epoch 23/100\n",
      "1152/1152 [==============================] - 6s 6ms/step - loss: 0.0028 - mean_squared_error: 0.0028\n",
      "Epoch 24/100\n",
      "1152/1152 [==============================] - 6s 6ms/step - loss: 0.0030 - mean_squared_error: 0.0030\n",
      "Epoch 25/100\n",
      "1152/1152 [==============================] - 6s 6ms/step - loss: 0.0033 - mean_squared_error: 0.0033\n",
      "Epoch 26/100\n",
      "1152/1152 [==============================] - 6s 6ms/step - loss: 0.0027 - mean_squared_error: 0.0027\n",
      "Epoch 27/100\n",
      "1152/1152 [==============================] - 6s 6ms/step - loss: 0.0030 - mean_squared_error: 0.0030\n",
      "Epoch 28/100\n",
      "1152/1152 [==============================] - 6s 6ms/step - loss: 0.0024 - mean_squared_error: 0.0024\n",
      "Epoch 29/100\n",
      "1152/1152 [==============================] - 6s 6ms/step - loss: 0.0025 - mean_squared_error: 0.0025\n",
      "Epoch 30/100\n",
      "1152/1152 [==============================] - 6s 6ms/step - loss: 0.0026 - mean_squared_error: 0.0026\n",
      "Epoch 31/100\n",
      "1152/1152 [==============================] - 6s 6ms/step - loss: 0.0025 - mean_squared_error: 0.0025\n",
      "Epoch 32/100\n",
      "1152/1152 [==============================] - 6s 6ms/step - loss: 0.0025 - mean_squared_error: 0.0025\n",
      "Epoch 33/100\n",
      "1152/1152 [==============================] - 6s 6ms/step - loss: 0.0022 - mean_squared_error: 0.0022\n",
      "Epoch 34/100\n",
      "1152/1152 [==============================] - 6s 6ms/step - loss: 0.0024 - mean_squared_error: 0.0024\n",
      "Epoch 35/100\n",
      "1152/1152 [==============================] - 6s 6ms/step - loss: 0.0022 - mean_squared_error: 0.0022\n",
      "Epoch 36/100\n",
      "1152/1152 [==============================] - 6s 6ms/step - loss: 0.0026 - mean_squared_error: 0.0026\n",
      "Epoch 37/100\n",
      "1152/1152 [==============================] - 6s 6ms/step - loss: 0.0020 - mean_squared_error: 0.0020\n",
      "Epoch 38/100\n",
      "1152/1152 [==============================] - 6s 6ms/step - loss: 0.0022 - mean_squared_error: 0.0022\n",
      "Epoch 39/100\n",
      "1152/1152 [==============================] - 6s 6ms/step - loss: 0.0021 - mean_squared_error: 0.0021\n",
      "Epoch 40/100\n",
      "1152/1152 [==============================] - 6s 6ms/step - loss: 0.0019 - mean_squared_error: 0.0019\n",
      "Epoch 41/100\n",
      "1152/1152 [==============================] - 6s 6ms/step - loss: 0.0019 - mean_squared_error: 0.0019\n",
      "Epoch 42/100\n",
      "1152/1152 [==============================] - 6s 6ms/step - loss: 0.0019 - mean_squared_error: 0.0019\n",
      "Epoch 43/100\n",
      "1152/1152 [==============================] - 6s 6ms/step - loss: 0.0021 - mean_squared_error: 0.0021\n",
      "Epoch 44/100\n",
      "1152/1152 [==============================] - 6s 6ms/step - loss: 0.0019 - mean_squared_error: 0.0019\n",
      "Epoch 45/100\n",
      "1152/1152 [==============================] - 6s 6ms/step - loss: 0.0019 - mean_squared_error: 0.0019\n",
      "Epoch 46/100\n",
      "1152/1152 [==============================] - 6s 6ms/step - loss: 0.0019 - mean_squared_error: 0.0019\n",
      "Epoch 47/100\n",
      "1152/1152 [==============================] - 6s 6ms/step - loss: 0.0018 - mean_squared_error: 0.0018\n",
      "Epoch 48/100\n",
      "1152/1152 [==============================] - 6s 6ms/step - loss: 0.0019 - mean_squared_error: 0.0019\n",
      "Epoch 49/100\n",
      "1152/1152 [==============================] - 6s 6ms/step - loss: 0.0018 - mean_squared_error: 0.0018\n",
      "Epoch 50/100\n",
      "1152/1152 [==============================] - 6s 6ms/step - loss: 0.0017 - mean_squared_error: 0.0017\n",
      "Epoch 51/100\n",
      "1152/1152 [==============================] - 6s 6ms/step - loss: 0.0016 - mean_squared_error: 0.0016\n",
      "Epoch 52/100\n",
      "1152/1152 [==============================] - 6s 6ms/step - loss: 0.0017 - mean_squared_error: 0.0017\n",
      "Epoch 53/100\n",
      "1152/1152 [==============================] - 6s 5ms/step - loss: 0.0018 - mean_squared_error: 0.0018\n",
      "Epoch 54/100\n",
      "1152/1152 [==============================] - 6s 6ms/step - loss: 0.0018 - mean_squared_error: 0.0018\n",
      "Epoch 55/100\n",
      "1152/1152 [==============================] - 6s 5ms/step - loss: 0.0015 - mean_squared_error: 0.0015\n",
      "Epoch 56/100\n",
      "1152/1152 [==============================] - 7s 6ms/step - loss: 0.0017 - mean_squared_error: 0.0017\n",
      "Epoch 57/100\n",
      "1152/1152 [==============================] - 6s 6ms/step - loss: 0.0016 - mean_squared_error: 0.0016\n",
      "Epoch 58/100\n",
      "1152/1152 [==============================] - 6s 6ms/step - loss: 0.0015 - mean_squared_error: 0.0015\n",
      "Epoch 59/100\n",
      "1152/1152 [==============================] - 6s 6ms/step - loss: 0.0017 - mean_squared_error: 0.0017\n",
      "Epoch 60/100\n",
      "1152/1152 [==============================] - 6s 5ms/step - loss: 0.0015 - mean_squared_error: 0.0015\n",
      "Epoch 61/100\n",
      "1152/1152 [==============================] - 6s 5ms/step - loss: 0.0015 - mean_squared_error: 0.0015\n",
      "Epoch 62/100\n",
      "1152/1152 [==============================] - 6s 6ms/step - loss: 0.0016 - mean_squared_error: 0.0016\n",
      "Epoch 63/100\n",
      "1152/1152 [==============================] - 6s 6ms/step - loss: 0.0014 - mean_squared_error: 0.0014\n",
      "Epoch 64/100\n",
      "1152/1152 [==============================] - 6s 6ms/step - loss: 0.0013 - mean_squared_error: 0.0013\n",
      "Epoch 65/100\n",
      "1152/1152 [==============================] - 6s 5ms/step - loss: 0.0016 - mean_squared_error: 0.0016\n",
      "Epoch 66/100\n",
      "1152/1152 [==============================] - 6s 6ms/step - loss: 0.0014 - mean_squared_error: 0.0014\n",
      "Epoch 67/100\n",
      "1152/1152 [==============================] - 6s 5ms/step - loss: 0.0014 - mean_squared_error: 0.0014\n",
      "Epoch 68/100\n",
      "1152/1152 [==============================] - 6s 5ms/step - loss: 0.0015 - mean_squared_error: 0.0015\n",
      "Epoch 69/100\n",
      "1152/1152 [==============================] - 6s 5ms/step - loss: 0.0014 - mean_squared_error: 0.0014\n",
      "Epoch 70/100\n",
      "1152/1152 [==============================] - 6s 5ms/step - loss: 0.0013 - mean_squared_error: 0.0013\n",
      "Epoch 71/100\n",
      "1152/1152 [==============================] - 6s 5ms/step - loss: 0.0014 - mean_squared_error: 0.0014\n",
      "Epoch 72/100\n"
     ]
    },
    {
     "name": "stdout",
     "output_type": "stream",
     "text": [
      "1152/1152 [==============================] - 6s 5ms/step - loss: 0.0015 - mean_squared_error: 0.0015\n",
      "Epoch 73/100\n",
      "1152/1152 [==============================] - 6s 5ms/step - loss: 0.0014 - mean_squared_error: 0.0014\n",
      "Epoch 74/100\n",
      "1152/1152 [==============================] - 6s 5ms/step - loss: 0.0013 - mean_squared_error: 0.0013\n",
      "Epoch 75/100\n",
      "1152/1152 [==============================] - 6s 5ms/step - loss: 0.0014 - mean_squared_error: 0.0014\n",
      "Epoch 76/100\n",
      "1152/1152 [==============================] - 6s 5ms/step - loss: 0.0013 - mean_squared_error: 0.0013\n",
      "Epoch 77/100\n",
      "1152/1152 [==============================] - 6s 5ms/step - loss: 0.0014 - mean_squared_error: 0.0014\n",
      "Epoch 78/100\n",
      "1152/1152 [==============================] - 6s 5ms/step - loss: 0.0014 - mean_squared_error: 0.0014\n",
      "Epoch 79/100\n",
      "1152/1152 [==============================] - 6s 5ms/step - loss: 0.0013 - mean_squared_error: 0.0013\n",
      "Epoch 80/100\n",
      "1152/1152 [==============================] - 6s 5ms/step - loss: 0.0011 - mean_squared_error: 0.0011\n",
      "Epoch 81/100\n",
      "1152/1152 [==============================] - 6s 5ms/step - loss: 0.0013 - mean_squared_error: 0.0013\n",
      "Epoch 82/100\n",
      "1152/1152 [==============================] - 6s 5ms/step - loss: 0.0014 - mean_squared_error: 0.0014\n",
      "Epoch 83/100\n",
      "1152/1152 [==============================] - 6s 5ms/step - loss: 0.0013 - mean_squared_error: 0.0013\n",
      "Epoch 84/100\n",
      "1152/1152 [==============================] - 6s 5ms/step - loss: 0.0013 - mean_squared_error: 0.0013\n",
      "Epoch 85/100\n",
      "1152/1152 [==============================] - 6s 5ms/step - loss: 0.0013 - mean_squared_error: 0.0013\n",
      "Epoch 86/100\n",
      "1152/1152 [==============================] - 6s 5ms/step - loss: 0.0012 - mean_squared_error: 0.0012\n",
      "Epoch 87/100\n",
      "1152/1152 [==============================] - 6s 5ms/step - loss: 0.0012 - mean_squared_error: 0.0012\n",
      "Epoch 88/100\n",
      "1152/1152 [==============================] - 6s 5ms/step - loss: 0.0012 - mean_squared_error: 0.0012\n",
      "Epoch 89/100\n",
      "1152/1152 [==============================] - 6s 5ms/step - loss: 0.0014 - mean_squared_error: 0.0014\n",
      "Epoch 90/100\n",
      "1152/1152 [==============================] - 6s 5ms/step - loss: 0.0013 - mean_squared_error: 0.0013\n",
      "Epoch 91/100\n",
      "1152/1152 [==============================] - 6s 5ms/step - loss: 0.0012 - mean_squared_error: 0.0012\n",
      "Epoch 92/100\n",
      "1152/1152 [==============================] - 6s 5ms/step - loss: 0.0013 - mean_squared_error: 0.0013\n",
      "Epoch 93/100\n",
      "1152/1152 [==============================] - 6s 5ms/step - loss: 0.0012 - mean_squared_error: 0.0012\n",
      "Epoch 94/100\n",
      "1152/1152 [==============================] - 6s 5ms/step - loss: 0.0013 - mean_squared_error: 0.0013\n",
      "Epoch 95/100\n",
      "1152/1152 [==============================] - 6s 6ms/step - loss: 0.0012 - mean_squared_error: 0.0012\n",
      "Epoch 96/100\n",
      "1152/1152 [==============================] - 6s 6ms/step - loss: 0.0013 - mean_squared_error: 0.0013\n",
      "Epoch 97/100\n",
      "1152/1152 [==============================] - 6s 6ms/step - loss: 0.0013 - mean_squared_error: 0.0013\n",
      "Epoch 98/100\n",
      "1152/1152 [==============================] - 6s 5ms/step - loss: 0.0012 - mean_squared_error: 0.0012\n",
      "Epoch 99/100\n",
      "1152/1152 [==============================] - 6s 6ms/step - loss: 0.0012 - mean_squared_error: 0.0012\n",
      "Epoch 100/100\n",
      "1152/1152 [==============================] - 6s 5ms/step - loss: 0.0012 - mean_squared_error: 0.0012\n"
     ]
    },
    {
     "data": {
      "text/plain": [
       "<keras.callbacks.callbacks.History at 0x7f5a03eaa6d8>"
      ]
     },
     "execution_count": 81,
     "metadata": {},
     "output_type": "execute_result"
    }
   ],
   "source": [
    "regressor.fit(previsores, preco_real, epochs = 100, batch_size = 32)"
   ]
  },
  {
   "cell_type": "markdown",
   "metadata": {},
   "source": [
    "**Previsão de preços de açẽs**"
   ]
  },
  {
   "cell_type": "markdown",
   "metadata": {},
   "source": [
    "Carregando da base de dados"
   ]
  },
  {
   "cell_type": "code",
   "execution_count": 82,
   "metadata": {},
   "outputs": [],
   "source": [
    "base_teste = pd.read_csv('petr4_teste_ex.csv')"
   ]
  },
  {
   "cell_type": "code",
   "execution_count": 84,
   "metadata": {},
   "outputs": [
    {
     "data": {
      "text/html": [
       "<div>\n",
       "<style scoped>\n",
       "    .dataframe tbody tr th:only-of-type {\n",
       "        vertical-align: middle;\n",
       "    }\n",
       "\n",
       "    .dataframe tbody tr th {\n",
       "        vertical-align: top;\n",
       "    }\n",
       "\n",
       "    .dataframe thead th {\n",
       "        text-align: right;\n",
       "    }\n",
       "</style>\n",
       "<table border=\"1\" class=\"dataframe\">\n",
       "  <thead>\n",
       "    <tr style=\"text-align: right;\">\n",
       "      <th></th>\n",
       "      <th>Date</th>\n",
       "      <th>Open</th>\n",
       "      <th>High</th>\n",
       "      <th>Low</th>\n",
       "      <th>Close</th>\n",
       "      <th>Adj Close</th>\n",
       "      <th>Volume</th>\n",
       "    </tr>\n",
       "  </thead>\n",
       "  <tbody>\n",
       "    <tr>\n",
       "      <th>0</th>\n",
       "      <td>2018-05-28</td>\n",
       "      <td>19.200001</td>\n",
       "      <td>19.200001</td>\n",
       "      <td>16.910000</td>\n",
       "      <td>16.910000</td>\n",
       "      <td>16.910000</td>\n",
       "      <td>134504900</td>\n",
       "    </tr>\n",
       "    <tr>\n",
       "      <th>1</th>\n",
       "      <td>2018-05-29</td>\n",
       "      <td>18.000000</td>\n",
       "      <td>19.440001</td>\n",
       "      <td>17.600000</td>\n",
       "      <td>19.299999</td>\n",
       "      <td>19.299999</td>\n",
       "      <td>181509800</td>\n",
       "    </tr>\n",
       "    <tr>\n",
       "      <th>2</th>\n",
       "      <td>2018-05-30</td>\n",
       "      <td>18.389999</td>\n",
       "      <td>19.969999</td>\n",
       "      <td>18.129999</td>\n",
       "      <td>18.980000</td>\n",
       "      <td>18.980000</td>\n",
       "      <td>125430000</td>\n",
       "    </tr>\n",
       "    <tr>\n",
       "      <th>3</th>\n",
       "      <td>2018-06-01</td>\n",
       "      <td>19.559999</td>\n",
       "      <td>19.750000</td>\n",
       "      <td>14.900000</td>\n",
       "      <td>16.160000</td>\n",
       "      <td>16.160000</td>\n",
       "      <td>216954700</td>\n",
       "    </tr>\n",
       "    <tr>\n",
       "      <th>4</th>\n",
       "      <td>2018-06-04</td>\n",
       "      <td>17.290001</td>\n",
       "      <td>17.639999</td>\n",
       "      <td>17.049999</td>\n",
       "      <td>17.530001</td>\n",
       "      <td>17.530001</td>\n",
       "      <td>93547600</td>\n",
       "    </tr>\n",
       "    <tr>\n",
       "      <th>5</th>\n",
       "      <td>2018-06-05</td>\n",
       "      <td>17.360001</td>\n",
       "      <td>17.799999</td>\n",
       "      <td>16.590000</td>\n",
       "      <td>16.590000</td>\n",
       "      <td>16.590000</td>\n",
       "      <td>67006400</td>\n",
       "    </tr>\n",
       "    <tr>\n",
       "      <th>6</th>\n",
       "      <td>2018-06-06</td>\n",
       "      <td>16.469999</td>\n",
       "      <td>16.680000</td>\n",
       "      <td>15.870000</td>\n",
       "      <td>16.330000</td>\n",
       "      <td>16.330000</td>\n",
       "      <td>69496800</td>\n",
       "    </tr>\n",
       "    <tr>\n",
       "      <th>7</th>\n",
       "      <td>2018-06-07</td>\n",
       "      <td>16.000000</td>\n",
       "      <td>16.160000</td>\n",
       "      <td>14.930000</td>\n",
       "      <td>15.760000</td>\n",
       "      <td>15.760000</td>\n",
       "      <td>118752700</td>\n",
       "    </tr>\n",
       "    <tr>\n",
       "      <th>8</th>\n",
       "      <td>2018-06-08</td>\n",
       "      <td>15.810000</td>\n",
       "      <td>16.190001</td>\n",
       "      <td>15.060000</td>\n",
       "      <td>15.250000</td>\n",
       "      <td>15.250000</td>\n",
       "      <td>91461500</td>\n",
       "    </tr>\n",
       "    <tr>\n",
       "      <th>9</th>\n",
       "      <td>2018-06-11</td>\n",
       "      <td>15.500000</td>\n",
       "      <td>15.800000</td>\n",
       "      <td>15.130000</td>\n",
       "      <td>15.410000</td>\n",
       "      <td>15.410000</td>\n",
       "      <td>44872500</td>\n",
       "    </tr>\n",
       "    <tr>\n",
       "      <th>10</th>\n",
       "      <td>2018-06-12</td>\n",
       "      <td>15.480000</td>\n",
       "      <td>15.680000</td>\n",
       "      <td>15.240000</td>\n",
       "      <td>15.460000</td>\n",
       "      <td>15.460000</td>\n",
       "      <td>69592600</td>\n",
       "    </tr>\n",
       "    <tr>\n",
       "      <th>11</th>\n",
       "      <td>2018-06-13</td>\n",
       "      <td>15.420000</td>\n",
       "      <td>15.500000</td>\n",
       "      <td>14.740000</td>\n",
       "      <td>15.170000</td>\n",
       "      <td>15.170000</td>\n",
       "      <td>72301200</td>\n",
       "    </tr>\n",
       "    <tr>\n",
       "      <th>12</th>\n",
       "      <td>2018-06-14</td>\n",
       "      <td>15.330000</td>\n",
       "      <td>15.550000</td>\n",
       "      <td>15.050000</td>\n",
       "      <td>15.100000</td>\n",
       "      <td>15.100000</td>\n",
       "      <td>57324600</td>\n",
       "    </tr>\n",
       "    <tr>\n",
       "      <th>13</th>\n",
       "      <td>2018-06-15</td>\n",
       "      <td>15.030000</td>\n",
       "      <td>15.070000</td>\n",
       "      <td>14.470000</td>\n",
       "      <td>14.970000</td>\n",
       "      <td>14.970000</td>\n",
       "      <td>75239300</td>\n",
       "    </tr>\n",
       "    <tr>\n",
       "      <th>14</th>\n",
       "      <td>2018-06-18</td>\n",
       "      <td>14.770000</td>\n",
       "      <td>14.890000</td>\n",
       "      <td>14.500000</td>\n",
       "      <td>14.500000</td>\n",
       "      <td>14.500000</td>\n",
       "      <td>47363800</td>\n",
       "    </tr>\n",
       "    <tr>\n",
       "      <th>15</th>\n",
       "      <td>2018-06-19</td>\n",
       "      <td>14.260000</td>\n",
       "      <td>15.720000</td>\n",
       "      <td>14.170000</td>\n",
       "      <td>15.420000</td>\n",
       "      <td>15.420000</td>\n",
       "      <td>97301500</td>\n",
       "    </tr>\n",
       "    <tr>\n",
       "      <th>16</th>\n",
       "      <td>2018-06-20</td>\n",
       "      <td>15.840000</td>\n",
       "      <td>16.480000</td>\n",
       "      <td>15.800000</td>\n",
       "      <td>16.209999</td>\n",
       "      <td>16.209999</td>\n",
       "      <td>88397300</td>\n",
       "    </tr>\n",
       "    <tr>\n",
       "      <th>17</th>\n",
       "      <td>2018-06-21</td>\n",
       "      <td>16.090000</td>\n",
       "      <td>16.320000</td>\n",
       "      <td>15.100000</td>\n",
       "      <td>15.100000</td>\n",
       "      <td>15.100000</td>\n",
       "      <td>67884300</td>\n",
       "    </tr>\n",
       "    <tr>\n",
       "      <th>18</th>\n",
       "      <td>2018-06-22</td>\n",
       "      <td>15.410000</td>\n",
       "      <td>15.680000</td>\n",
       "      <td>15.010000</td>\n",
       "      <td>15.110000</td>\n",
       "      <td>15.110000</td>\n",
       "      <td>52184500</td>\n",
       "    </tr>\n",
       "  </tbody>\n",
       "</table>\n",
       "</div>"
      ],
      "text/plain": [
       "          Date       Open       High        Low      Close  Adj Close  \\\n",
       "0   2018-05-28  19.200001  19.200001  16.910000  16.910000  16.910000   \n",
       "1   2018-05-29  18.000000  19.440001  17.600000  19.299999  19.299999   \n",
       "2   2018-05-30  18.389999  19.969999  18.129999  18.980000  18.980000   \n",
       "3   2018-06-01  19.559999  19.750000  14.900000  16.160000  16.160000   \n",
       "4   2018-06-04  17.290001  17.639999  17.049999  17.530001  17.530001   \n",
       "5   2018-06-05  17.360001  17.799999  16.590000  16.590000  16.590000   \n",
       "6   2018-06-06  16.469999  16.680000  15.870000  16.330000  16.330000   \n",
       "7   2018-06-07  16.000000  16.160000  14.930000  15.760000  15.760000   \n",
       "8   2018-06-08  15.810000  16.190001  15.060000  15.250000  15.250000   \n",
       "9   2018-06-11  15.500000  15.800000  15.130000  15.410000  15.410000   \n",
       "10  2018-06-12  15.480000  15.680000  15.240000  15.460000  15.460000   \n",
       "11  2018-06-13  15.420000  15.500000  14.740000  15.170000  15.170000   \n",
       "12  2018-06-14  15.330000  15.550000  15.050000  15.100000  15.100000   \n",
       "13  2018-06-15  15.030000  15.070000  14.470000  14.970000  14.970000   \n",
       "14  2018-06-18  14.770000  14.890000  14.500000  14.500000  14.500000   \n",
       "15  2018-06-19  14.260000  15.720000  14.170000  15.420000  15.420000   \n",
       "16  2018-06-20  15.840000  16.480000  15.800000  16.209999  16.209999   \n",
       "17  2018-06-21  16.090000  16.320000  15.100000  15.100000  15.100000   \n",
       "18  2018-06-22  15.410000  15.680000  15.010000  15.110000  15.110000   \n",
       "\n",
       "       Volume  \n",
       "0   134504900  \n",
       "1   181509800  \n",
       "2   125430000  \n",
       "3   216954700  \n",
       "4    93547600  \n",
       "5    67006400  \n",
       "6    69496800  \n",
       "7   118752700  \n",
       "8    91461500  \n",
       "9    44872500  \n",
       "10   69592600  \n",
       "11   72301200  \n",
       "12   57324600  \n",
       "13   75239300  \n",
       "14   47363800  \n",
       "15   97301500  \n",
       "16   88397300  \n",
       "17   67884300  \n",
       "18   52184500  "
      ]
     },
     "execution_count": 84,
     "metadata": {},
     "output_type": "execute_result"
    }
   ],
   "source": [
    "base_teste"
   ]
  },
  {
   "cell_type": "markdown",
   "metadata": {},
   "source": [
    "Como estamos fazendo o uso apenas da feature **Open**, vamos extrai-la:"
   ]
  },
  {
   "cell_type": "code",
   "execution_count": 85,
   "metadata": {},
   "outputs": [],
   "source": [
    "preco_real_teste = base_teste.iloc[:,1:2].values"
   ]
  },
  {
   "cell_type": "markdown",
   "metadata": {},
   "source": [
    "Precisamos trabalhar com tipos de dados iguais, para evitar erros com a nossa Rede Neural Recorrente, para isso vamos concatenar as suas bases(treino e teste), para facilitar igualdade de tipos."
   ]
  },
  {
   "cell_type": "code",
   "execution_count": 86,
   "metadata": {},
   "outputs": [],
   "source": [
    "base_completa = pd.concat((dataFrame['Open'], base_teste['Open']), axis = 0)"
   ]
  },
  {
   "cell_type": "code",
   "execution_count": 87,
   "metadata": {},
   "outputs": [],
   "source": [
    "entradas = base_completa[len(base_completa) - len(base_teste) - 90:].values"
   ]
  },
  {
   "cell_type": "code",
   "execution_count": 88,
   "metadata": {},
   "outputs": [
    {
     "data": {
      "text/plain": [
       "(109,)"
      ]
     },
     "execution_count": 88,
     "metadata": {},
     "output_type": "execute_result"
    }
   ],
   "source": [
    "entradas.shape"
   ]
  },
  {
   "cell_type": "markdown",
   "metadata": {},
   "source": [
    "Vamos utilizar a função reshape, para remodelar nosso vetor numpy."
   ]
  },
  {
   "cell_type": "code",
   "execution_count": 89,
   "metadata": {},
   "outputs": [],
   "source": [
    "entradas = entradas.reshape(-1,1)"
   ]
  },
  {
   "cell_type": "code",
   "execution_count": 90,
   "metadata": {},
   "outputs": [
    {
     "data": {
      "text/plain": [
       "(109, 1)"
      ]
     },
     "execution_count": 90,
     "metadata": {},
     "output_type": "execute_result"
    }
   ],
   "source": [
    "entradas.shape"
   ]
  },
  {
   "cell_type": "markdown",
   "metadata": {},
   "source": [
    "Em seguida, colocaremos nossos dados na mesma escala."
   ]
  },
  {
   "cell_type": "code",
   "execution_count": 91,
   "metadata": {},
   "outputs": [],
   "source": [
    "entradas = normalizador.transform(entradas)"
   ]
  },
  {
   "cell_type": "code",
   "execution_count": 92,
   "metadata": {},
   "outputs": [
    {
     "data": {
      "text/plain": [
       "array([[0.56803456],\n",
       "       [0.59265659],\n",
       "       [0.6112311 ],\n",
       "       [0.6095032 ],\n",
       "       [0.60734341],\n",
       "       [0.61339093],\n",
       "       [0.61425486],\n",
       "       [0.65399568],\n",
       "       [0.66609076],\n",
       "       [0.66825054],\n",
       "       [0.67257019],\n",
       "       [0.6712743 ],\n",
       "       [0.67213823],\n",
       "       [0.69546432],\n",
       "       [0.66738661],\n",
       "       [0.62462203],\n",
       "       [0.68120946],\n",
       "       [0.66306691],\n",
       "       [0.64060479],\n",
       "       [0.63974082],\n",
       "       [0.66090713],\n",
       "       [0.65917922],\n",
       "       [0.66306691],\n",
       "       [0.67732177],\n",
       "       [0.70799136],\n",
       "       [0.70799136],\n",
       "       [0.72354216],\n",
       "       [0.74298056],\n",
       "       [0.74600428],\n",
       "       [0.75291572],\n",
       "       [0.74298056],\n",
       "       [0.71274302],\n",
       "       [0.74686825],\n",
       "       [0.79049676],\n",
       "       [0.7555076 ],\n",
       "       [0.76241901],\n",
       "       [0.75939529],\n",
       "       [0.79222467],\n",
       "       [0.78833698],\n",
       "       [0.78185741],\n",
       "       [0.77105827],\n",
       "       [0.74600428],\n",
       "       [0.73736501],\n",
       "       [0.73347732],\n",
       "       [0.73650108],\n",
       "       [0.76285102],\n",
       "       [0.75205188],\n",
       "       [0.77192225],\n",
       "       [0.77494596],\n",
       "       [0.73693305],\n",
       "       [0.73693305],\n",
       "       [0.74125274],\n",
       "       [0.73045361],\n",
       "       [0.69589629],\n",
       "       [0.73218143],\n",
       "       [0.72483801],\n",
       "       [0.74427646],\n",
       "       [0.72181425],\n",
       "       [0.74082073],\n",
       "       [0.75982726],\n",
       "       [0.75334769],\n",
       "       [0.72786173],\n",
       "       [0.71274302],\n",
       "       [0.74082073],\n",
       "       [0.77192225],\n",
       "       [0.77149024],\n",
       "       [0.77278618],\n",
       "       [0.79481641],\n",
       "       [0.76933045],\n",
       "       [0.76889849],\n",
       "       [0.80518359],\n",
       "       [0.80043197],\n",
       "       [0.79784017],\n",
       "       [0.79222467],\n",
       "       [0.78833698],\n",
       "       [0.79352052],\n",
       "       [0.81468678],\n",
       "       [0.82505395],\n",
       "       [0.90453559],\n",
       "       [0.93434125],\n",
       "       [0.93520518],\n",
       "       [0.95680346],\n",
       "       [0.9792657 ],\n",
       "       [1.        ],\n",
       "       [0.89892009],\n",
       "       [0.94600432],\n",
       "       [0.89028073],\n",
       "       [0.86522678],\n",
       "       [0.68466518],\n",
       "       [0.71058315],\n",
       "       [0.64794821],\n",
       "       [0.59611231],\n",
       "       [0.61295892],\n",
       "       [0.66349888],\n",
       "       [0.56544281],\n",
       "       [0.56846657],\n",
       "       [0.53002156],\n",
       "       [0.50971922],\n",
       "       [0.50151188],\n",
       "       [0.48812095],\n",
       "       [0.48725702],\n",
       "       [0.48466523],\n",
       "       [0.48077754],\n",
       "       [0.46781857],\n",
       "       [0.45658747],\n",
       "       [0.43455724],\n",
       "       [0.50280778],\n",
       "       [0.51360691],\n",
       "       [0.48423326]])"
      ]
     },
     "execution_count": 92,
     "metadata": {},
     "output_type": "execute_result"
    }
   ],
   "source": [
    "entradas"
   ]
  },
  {
   "cell_type": "markdown",
   "metadata": {},
   "source": [
    "Precisamos colocar nossos dados de teste em uma lista. Dessa forma, iremos preencher nosso vetor X_teste."
   ]
  },
  {
   "cell_type": "code",
   "execution_count": 97,
   "metadata": {},
   "outputs": [],
   "source": [
    "X_teste = []\n",
    "for i in range(90,109):\n",
    "    X_teste.append(entradas[i-90:i, 0])\n",
    "\n",
    "X_teste = np.array(X_teste)"
   ]
  },
  {
   "cell_type": "code",
   "execution_count": 98,
   "metadata": {},
   "outputs": [],
   "source": [
    "X_teste = np.reshape(X_teste, (X_teste.shape[0], X_teste.shape[1], 1))"
   ]
  },
  {
   "cell_type": "code",
   "execution_count": 99,
   "metadata": {},
   "outputs": [
    {
     "data": {
      "text/plain": [
       "(19, 90, 1)"
      ]
     },
     "execution_count": 99,
     "metadata": {},
     "output_type": "execute_result"
    }
   ],
   "source": [
    "X_teste.shape"
   ]
  },
  {
   "cell_type": "markdown",
   "metadata": {},
   "source": [
    "Agora, iremos realizar nossas previções:"
   ]
  },
  {
   "cell_type": "code",
   "execution_count": 100,
   "metadata": {},
   "outputs": [],
   "source": [
    "previsoes = regressor.predict(X_teste)"
   ]
  },
  {
   "cell_type": "markdown",
   "metadata": {},
   "source": [
    "Para visualizarmos as previsoes, iremos fazer um processo inverso à normalização. Dessa forma, iremos visualizar os preços em escalas reais ao início. "
   ]
  },
  {
   "cell_type": "code",
   "execution_count": 101,
   "metadata": {},
   "outputs": [],
   "source": [
    "previsoes = normalizador.inverse_transform(previsoes)"
   ]
  },
  {
   "cell_type": "code",
   "execution_count": 102,
   "metadata": {},
   "outputs": [
    {
     "data": {
      "text/plain": [
       "array([[20.01289  ],\n",
       "       [19.495865 ],\n",
       "       [18.473902 ],\n",
       "       [18.302713 ],\n",
       "       [19.269228 ],\n",
       "       [18.185713 ],\n",
       "       [17.460573 ],\n",
       "       [16.89062  ],\n",
       "       [16.419546 ],\n",
       "       [16.1186   ],\n",
       "       [15.830648 ],\n",
       "       [15.682917 ],\n",
       "       [15.607397 ],\n",
       "       [15.515145 ],\n",
       "       [15.281362 ],\n",
       "       [15.002649 ],\n",
       "       [14.596799 ],\n",
       "       [15.3496475],\n",
       "       [16.058401 ]], dtype=float32)"
      ]
     },
     "execution_count": 102,
     "metadata": {},
     "output_type": "execute_result"
    }
   ],
   "source": [
    "previsoes"
   ]
  },
  {
   "cell_type": "code",
   "execution_count": 103,
   "metadata": {},
   "outputs": [
    {
     "data": {
      "text/plain": [
       "array([[19.200001],\n",
       "       [18.      ],\n",
       "       [18.389999],\n",
       "       [19.559999],\n",
       "       [17.290001],\n",
       "       [17.360001],\n",
       "       [16.469999],\n",
       "       [16.      ],\n",
       "       [15.81    ],\n",
       "       [15.5     ],\n",
       "       [15.48    ],\n",
       "       [15.42    ],\n",
       "       [15.33    ],\n",
       "       [15.03    ],\n",
       "       [14.77    ],\n",
       "       [14.26    ],\n",
       "       [15.84    ],\n",
       "       [16.09    ],\n",
       "       [15.41    ]])"
      ]
     },
     "execution_count": 103,
     "metadata": {},
     "output_type": "execute_result"
    }
   ],
   "source": [
    "preco_real_teste"
   ]
  },
  {
   "cell_type": "markdown",
   "metadata": {},
   "source": [
    "Podemos observar que as previsões não ficaram distantes aos valores reais. Dessa maneira, podemos visualizar a média das previsoes e a média do preço real:"
   ]
  },
  {
   "cell_type": "code",
   "execution_count": 104,
   "metadata": {},
   "outputs": [
    {
     "data": {
      "text/plain": [
       "16.818663"
      ]
     },
     "execution_count": 104,
     "metadata": {},
     "output_type": "execute_result"
    }
   ],
   "source": [
    "previsoes.mean()"
   ]
  },
  {
   "cell_type": "code",
   "execution_count": 105,
   "metadata": {},
   "outputs": [
    {
     "data": {
      "text/plain": [
       "16.379473684210524"
      ]
     },
     "execution_count": 105,
     "metadata": {},
     "output_type": "execute_result"
    }
   ],
   "source": [
    "preco_real_teste.mean()"
   ]
  },
  {
   "cell_type": "code",
   "execution_count": 107,
   "metadata": {},
   "outputs": [
    {
     "name": "stdout",
     "output_type": "stream",
     "text": [
      "0.43918895922209344\n"
     ]
    }
   ],
   "source": [
    "diferenca = previsoes.mean() - preco_real_teste.mean()\n",
    "print(diferenca)"
   ]
  },
  {
   "cell_type": "markdown",
   "metadata": {},
   "source": [
    "Para visualizarmos o quanto as previsoes puderam se aproximar dos valores reais, podemos fazer um gráfico com ambos os vetores. Para isso, vamos utilizar a biblioteca **matplotlib**, para plotar esses valores."
   ]
  },
  {
   "cell_type": "code",
   "execution_count": 108,
   "metadata": {},
   "outputs": [
    {
     "data": {
      "image/png": "[encoded data removed]",
      "text/plain": [
       "<Figure size 432x288 with 1 Axes>"
      ]
     },
     "metadata": {
      "needs_background": "light"
     },
     "output_type": "display_data"
    }
   ],
   "source": [
    "plt.plot(preco_real_teste, color = 'red', label = 'Preço real')\n",
    "plt.plot(previsoes, color = 'blue', label = 'Previsoes do modelo')\n",
    "plt.title('Previsões dos preços das ações')\n",
    "plt.xlabel('Tempo')\n",
    "plt.ylabel('Valor')\n",
    "plt.legend()\n",
    "plt.show()"
   ]
  },
  {
   "cell_type": "markdown",
   "metadata": {},
   "source": [
    "**Referências**"
   ]
  },
  {
   "cell_type": "markdown",
   "metadata": {},
   "source": [
    "https://www.udemy.com/course/deep-learning-com-python-az-curso-completo/learn/lecture/10897310#questions\n",
    "\n",
    "https://translate.googleusercontent.com/translate_c?depth=1&hl=pt-BR&prev=search&rurl=translate.google.com&sl=en&sp=nmt4&u=https://stackoverflow.com/questions/38714959/understanding-keras-lstms&usg=ALkJrhgwRgxszeum-5XuG2HTiE0KM75Wog\n",
    "\n",
    "https://www.google.com/search?q=LSTM&client=ubuntu&hs=DAN&channel=fs&sxsrf=ALeKk02TzfQeiFwQ3Hw3VX9kUWN9kBiJ6g:1592424774740&source=lnms&tbm=isch&sa=X&ved=2ahUKEwiBip7I1InqAhU0D7kGHfcuDHsQ_AUoAXoECA8QAw"
   ]
  },
  {
   "cell_type": "code",
   "execution_count": null,
   "metadata": {},
   "outputs": [],
   "source": []
  }
 ],
 "metadata": {
  "kernelspec": {
   "display_name": "Python 3",
   "language": "python",
   "name": "python3"
  },
  "language_info": {
   "codemirror_mode": {
    "name": "ipython",
    "version": 3
   },
   "file_extension": ".py",
   "mimetype": "text/x-python",
   "name": "python",
   "nbconvert_exporter": "python",
   "pygments_lexer": "ipython3",
   "version": "3.7.3"
  }
 },
 "nbformat": 4,
 "nbformat_minor": 2
}
