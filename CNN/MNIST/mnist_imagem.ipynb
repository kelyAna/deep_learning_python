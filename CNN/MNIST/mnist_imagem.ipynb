{
  "nbformat": 4,
  "nbformat_minor": 0,
  "metadata": {
    "colab": {
      "name": "mnist_imagem.ipynb",
      "provenance": []
    },
    "kernelspec": {
      "name": "python3",
      "display_name": "Python 3"
    }
  },
  "cells": [
    {
      "cell_type": "markdown",
      "metadata": {
        "id": "l9IHvAjaE9Mj",
        "colab_type": "text"
      },
      "source": [
        "Classificação de registros MNIST\n"
      ]
    },
    {
      "cell_type": "markdown",
      "metadata": {
        "id": "ClcIxJDFFGYn",
        "colab_type": "text"
      },
      "source": [
        "**Importações iniciais**"
      ]
    },
    {
      "cell_type": "code",
      "metadata": {
        "id": "oNn4bi7ZE0_7",
        "colab_type": "code",
        "colab": {}
      },
      "source": [
        "import matplotlib.pyplot as plt\n",
        "from keras.datasets import mnist\n",
        "from keras.models import Sequential\n",
        "from keras.layers import Dense, Dropout, Activation, Flatten\n",
        "from keras.layers.normalization import BatchNormalization\n",
        "from keras.utils import np_utils\n",
        "from keras.layers import Conv2D, MaxPooling2D\n",
        "from keras.preprocessing.image import ImageDataGenerator\n",
        "\n",
        "import numpy as np\n",
        "from keras.preprocessing import image"
      ],
      "execution_count": 0,
      "outputs": []
    },
    {
      "cell_type": "markdown",
      "metadata": {
        "id": "IwfIwOndFuTn",
        "colab_type": "text"
      },
      "source": [
        "**Leitura da base de dados MNIST**"
      ]
    },
    {
      "cell_type": "code",
      "metadata": {
        "id": "xFQ8SAtJFyRE",
        "colab_type": "code",
        "colab": {}
      },
      "source": [
        "(X_train, y_train), (X_test, y_test) = mnist.load_data()"
      ],
      "execution_count": 0,
      "outputs": []
    },
    {
      "cell_type": "markdown",
      "metadata": {
        "id": "MBTH2axcGKx-",
        "colab_type": "text"
      },
      "source": [
        "**Usando a função ***Shape()*** para verificar a forma dos conjuntos de dados**"
      ]
    },
    {
      "cell_type": "code",
      "metadata": {
        "id": "NfgmYwYGF8yB",
        "colab_type": "code",
        "outputId": "e4df1a0e-12f3-40d6-9437-f4e1ed3163ed",
        "colab": {
          "base_uri": "https://localhost:8080/",
          "height": 34
        }
      },
      "source": [
        "X_train.shape, X_test.shape, y_train.shape, y_test.shape"
      ],
      "execution_count": 0,
      "outputs": [
        {
          "output_type": "execute_result",
          "data": {
            "text/plain": [
              "((60000, 28, 28), (10000, 28, 28), (60000,), (10000,))"
            ]
          },
          "metadata": {
            "tags": []
          },
          "execution_count": 16
        }
      ]
    },
    {
      "cell_type": "markdown",
      "metadata": {
        "id": "wyYovQevHX9M",
        "colab_type": "text"
      },
      "source": [
        "**Conversão dos dados para o TensorFlow realizar a leitura**\n",
        "\n",
        "*   Função ***reshape***, para remodelar a forma dos dados\n",
        "\n"
      ]
    },
    {
      "cell_type": "code",
      "metadata": {
        "id": "z_OMcXQfHePF",
        "colab_type": "code",
        "colab": {}
      },
      "source": [
        "features_train = X_train.reshape(X_train.shape[0],\n",
        "                                 28, 28, 1)"
      ],
      "execution_count": 0,
      "outputs": []
    },
    {
      "cell_type": "code",
      "metadata": {
        "id": "FHQl5SFqH0ye",
        "colab_type": "code",
        "colab": {}
      },
      "source": [
        "features_test = X_test.reshape(X_test.shape[0],\n",
        "                               28, 28, 1)"
      ],
      "execution_count": 0,
      "outputs": []
    },
    {
      "cell_type": "code",
      "metadata": {
        "id": "cOuWQz88IP9T",
        "colab_type": "code",
        "colab": {}
      },
      "source": [
        "features_train = features_train.astype('float32')\n",
        "features_test = features_test.astype('float32')"
      ],
      "execution_count": 0,
      "outputs": []
    },
    {
      "cell_type": "markdown",
      "metadata": {
        "id": "v4IL4ssJITrt",
        "colab_type": "text"
      },
      "source": [
        "**Modificar a escala dos dados**\n",
        "\n",
        "*   escala de 0 a 1\n"
      ]
    },
    {
      "cell_type": "code",
      "metadata": {
        "id": "Rw7gQt2TIZBO",
        "colab_type": "code",
        "colab": {}
      },
      "source": [
        "features_train /= 255"
      ],
      "execution_count": 0,
      "outputs": []
    },
    {
      "cell_type": "code",
      "metadata": {
        "id": "je5v0lsLJFhk",
        "colab_type": "code",
        "colab": {}
      },
      "source": [
        "features_test /= 255"
      ],
      "execution_count": 0,
      "outputs": []
    },
    {
      "cell_type": "markdown",
      "metadata": {
        "id": "4LboFvanJPm7",
        "colab_type": "text"
      },
      "source": [
        "**Variáveis do tipo dummy**"
      ]
    },
    {
      "cell_type": "code",
      "metadata": {
        "id": "hYhg9gwrJXjm",
        "colab_type": "code",
        "colab": {}
      },
      "source": [
        "class_train = np_utils.to_categorical(y_train, 10)"
      ],
      "execution_count": 0,
      "outputs": []
    },
    {
      "cell_type": "code",
      "metadata": {
        "id": "iG_OIvACJs7t",
        "colab_type": "code",
        "outputId": "8e89499c-b1e7-4d25-9ef5-72289b887527",
        "colab": {
          "base_uri": "https://localhost:8080/",
          "height": 139
        }
      },
      "source": [
        "class_train"
      ],
      "execution_count": 0,
      "outputs": [
        {
          "output_type": "execute_result",
          "data": {
            "text/plain": [
              "array([[0., 0., 0., ..., 0., 0., 0.],\n",
              "       [1., 0., 0., ..., 0., 0., 0.],\n",
              "       [0., 0., 0., ..., 0., 0., 0.],\n",
              "       ...,\n",
              "       [0., 0., 0., ..., 0., 0., 0.],\n",
              "       [0., 0., 0., ..., 0., 0., 0.],\n",
              "       [0., 0., 0., ..., 0., 1., 0.]], dtype=float32)"
            ]
          },
          "metadata": {
            "tags": []
          },
          "execution_count": 24
        }
      ]
    },
    {
      "cell_type": "code",
      "metadata": {
        "id": "UkwaAkBUJ4ad",
        "colab_type": "code",
        "colab": {}
      },
      "source": [
        "class_test = np_utils.to_categorical(y_test, 10)"
      ],
      "execution_count": 0,
      "outputs": []
    },
    {
      "cell_type": "markdown",
      "metadata": {
        "id": "n9umlvKlMbyP",
        "colab_type": "text"
      },
      "source": [
        "**Estrutura da CNN**"
      ]
    },
    {
      "cell_type": "code",
      "metadata": {
        "id": "A99nDt6_MXZ1",
        "colab_type": "code",
        "colab": {}
      },
      "source": [
        "classificador = Sequential()\n",
        "classificador.add(Conv2D(32, (3,3), \n",
        "                         input_shape=(28, 28, 1),\n",
        "                         activation = 'relu'))\n",
        "classificador.add(BatchNormalization())\n",
        "classificador.add(MaxPooling2D(pool_size = (2,2)))\n",
        "\n",
        "\n",
        "classificador.add(Conv2D(32, (3,3), \n",
        "                         input_shape=(28, 28, 1),\n",
        "                         activation = 'relu'))\n",
        "classificador.add(BatchNormalization())\n",
        "classificador.add(MaxPooling2D(pool_size = (2,2)))\n",
        "\n",
        "classificador.add(Flatten())\n",
        "classificador.add(BatchNormalization())\n",
        "\n",
        "classificador.add(Dense(units = 128, activation = 'relu'))\n",
        "classificador.add(Dropout(0.2))\n",
        "classificador.add(Dense(units = 10, \n",
        "                        activation = 'softmax'))\n",
        "classificador.compile(loss = 'categorical_crossentropy',\n",
        "                      optimizer = 'adam', metrics = ['accuracy'])"
      ],
      "execution_count": 0,
      "outputs": []
    },
    {
      "cell_type": "markdown",
      "metadata": {
        "id": "lH2R3TuaDESH",
        "colab_type": "text"
      },
      "source": [
        "**Treinamento da Rede Neural**"
      ]
    },
    {
      "cell_type": "code",
      "metadata": {
        "id": "oX91PFTFDJlP",
        "colab_type": "code",
        "outputId": "51a2e3f0-49bb-4043-ba4c-770eea442ee7",
        "colab": {
          "base_uri": "https://localhost:8080/",
          "height": 225
        }
      },
      "source": [
        "classificador.fit(features_train, class_train,\n",
        "                  batch_size = 128, epochs = 5,\n",
        "                  validation_data=(features_test, class_test), verbose = 2)"
      ],
      "execution_count": 0,
      "outputs": [
        {
          "output_type": "stream",
          "text": [
            "Train on 60000 samples, validate on 10000 samples\n",
            "Epoch 1/5\n",
            " - 26s - loss: 0.2444 - accuracy: 0.9280 - val_loss: 0.0838 - val_accuracy: 0.9731\n",
            "Epoch 2/5\n",
            " - 25s - loss: 0.0760 - accuracy: 0.9780 - val_loss: 0.0514 - val_accuracy: 0.9832\n",
            "Epoch 3/5\n",
            " - 26s - loss: 0.0537 - accuracy: 0.9836 - val_loss: 0.0445 - val_accuracy: 0.9843\n",
            "Epoch 4/5\n",
            " - 25s - loss: 0.0414 - accuracy: 0.9874 - val_loss: 0.0442 - val_accuracy: 0.9854\n",
            "Epoch 5/5\n",
            " - 26s - loss: 0.0343 - accuracy: 0.9897 - val_loss: 0.0433 - val_accuracy: 0.9857\n"
          ],
          "name": "stdout"
        },
        {
          "output_type": "execute_result",
          "data": {
            "text/plain": [
              "<keras.callbacks.callbacks.History at 0x7f2fbb662be0>"
            ]
          },
          "metadata": {
            "tags": []
          },
          "execution_count": 32
        }
      ]
    },
    {
      "cell_type": "markdown",
      "metadata": {
        "id": "_bhvgBfUGPOo",
        "colab_type": "text"
      },
      "source": [
        "**Classificação de uma imagem**"
      ]
    },
    {
      "cell_type": "code",
      "metadata": {
        "id": "zpeOnqocHHAr",
        "colab_type": "code",
        "outputId": "d2a2b880-e2f9-48c6-ba09-125e16a1b5cf",
        "colab": {
          "base_uri": "https://localhost:8080/",
          "height": 298
        }
      },
      "source": [
        "plt.imshow(X_test[0], cmap = 'gray')\n",
        "plt.title('Class' + str(y_train[0]))"
      ],
      "execution_count": 0,
      "outputs": [
        {
          "output_type": "execute_result",
          "data": {
            "text/plain": [
              "Text(0.5, 1.0, 'Class5')"
            ]
          },
          "metadata": {
            "tags": []
          },
          "execution_count": 47
        },
        {
          "output_type": "display_data",
          "data": {
            "image/png": "[encoded data removed]",
            "text/plain": [
              "<Figure size 432x288 with 1 Axes>"
            ]
          },
          "metadata": {
            "tags": [],
            "needs_background": "light"
          }
        }
      ]
    },
    {
      "cell_type": "code",
      "metadata": {
        "id": "v4nKOrtSHgtd",
        "colab_type": "code",
        "colab": {}
      },
      "source": [
        "imagem_teste = X_test[0].reshape(1,28,28,1)\n",
        "imagem_teste = imagem_teste.astype('float32')\n",
        "imagem_teste /= 255"
      ],
      "execution_count": 0,
      "outputs": []
    },
    {
      "cell_type": "code",
      "metadata": {
        "id": "Sdt3bMutIAag",
        "colab_type": "code",
        "colab": {}
      },
      "source": [
        "previsao = classificador.predict(imagem_teste)"
      ],
      "execution_count": 0,
      "outputs": []
    },
    {
      "cell_type": "code",
      "metadata": {
        "id": "cL-npJiiIH3S",
        "colab_type": "code",
        "colab": {}
      },
      "source": [
        "import numpy as np\n",
        "resultado = np.argmax(previsao)"
      ],
      "execution_count": 0,
      "outputs": []
    },
    {
      "cell_type": "code",
      "metadata": {
        "id": "tpW-i5p1IMi7",
        "colab_type": "code",
        "outputId": "632f2090-ff8a-421e-ae13-cc2792254a80",
        "colab": {
          "base_uri": "https://localhost:8080/",
          "height": 34
        }
      },
      "source": [
        "resultado"
      ],
      "execution_count": 0,
      "outputs": [
        {
          "output_type": "execute_result",
          "data": {
            "text/plain": [
              "7"
            ]
          },
          "metadata": {
            "tags": []
          },
          "execution_count": 52
        }
      ]
    }
  ]
}