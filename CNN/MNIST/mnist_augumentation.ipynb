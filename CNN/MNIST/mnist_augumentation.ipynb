{
  "nbformat": 4,
  "nbformat_minor": 0,
  "metadata": {
    "colab": {
      "name": "mnist_augumentation.ipynb",
      "provenance": []
    },
    "kernelspec": {
      "name": "python3",
      "display_name": "Python 3"
    }
  },
  "cells": [
    {
      "cell_type": "markdown",
      "metadata": {
        "id": "l9IHvAjaE9Mj",
        "colab_type": "text"
      },
      "source": [
        "Classificação de registros MNIST\n",
        "\n",
        "\n",
        "*   **Aumento de imagens**\n",
        "\n"
      ]
    },
    {
      "cell_type": "markdown",
      "metadata": {
        "id": "ClcIxJDFFGYn",
        "colab_type": "text"
      },
      "source": [
        "**Importações iniciais**"
      ]
    },
    {
      "cell_type": "code",
      "metadata": {
        "id": "oNn4bi7ZE0_7",
        "colab_type": "code",
        "outputId": "d30af81e-babb-4f3b-9737-020ab855693d",
        "colab": {
          "base_uri": "https://localhost:8080/",
          "height": 34
        }
      },
      "source": [
        "from keras.datasets import mnist\n",
        "from keras.models import Sequential\n",
        "from keras.layers import Dense, Flatten, Dropout,Conv2D, MaxPooling2D\n",
        "from keras.utils import np_utils"
      ],
      "execution_count": 0,
      "outputs": [
        {
          "output_type": "stream",
          "text": [
            "Using TensorFlow backend.\n"
          ],
          "name": "stderr"
        }
      ]
    },
    {
      "cell_type": "markdown",
      "metadata": {
        "id": "IwfIwOndFuTn",
        "colab_type": "text"
      },
      "source": [
        "**Leitura da base de dados MNIST**"
      ]
    },
    {
      "cell_type": "code",
      "metadata": {
        "id": "xFQ8SAtJFyRE",
        "colab_type": "code",
        "colab": {}
      },
      "source": [
        "(X_train, y_train), (X_test, y_test) = mnist.load_data()"
      ],
      "execution_count": 0,
      "outputs": []
    },
    {
      "cell_type": "markdown",
      "metadata": {
        "id": "MBTH2axcGKx-",
        "colab_type": "text"
      },
      "source": [
        "**Usando a função ***Shape()*** para verificar a forma dos conjuntos de dados**"
      ]
    },
    {
      "cell_type": "code",
      "metadata": {
        "id": "NfgmYwYGF8yB",
        "colab_type": "code",
        "outputId": "1942d2cb-7840-482a-9fbc-066835c0ae4e",
        "colab": {
          "base_uri": "https://localhost:8080/",
          "height": 34
        }
      },
      "source": [
        "X_train.shape, X_test.shape, y_train.shape, y_test.shape"
      ],
      "execution_count": 0,
      "outputs": [
        {
          "output_type": "execute_result",
          "data": {
            "text/plain": [
              "((60000, 28, 28), (10000, 28, 28), (60000,), (10000,))"
            ]
          },
          "metadata": {
            "tags": []
          },
          "execution_count": 4
        }
      ]
    },
    {
      "cell_type": "markdown",
      "metadata": {
        "id": "wyYovQevHX9M",
        "colab_type": "text"
      },
      "source": [
        "**Conversão dos dados para o TensorFlow realizar a leitura**\n",
        "\n",
        "*   Função ***reshape***, para remodelar a forma dos dados\n",
        "\n"
      ]
    },
    {
      "cell_type": "code",
      "metadata": {
        "id": "z_OMcXQfHePF",
        "colab_type": "code",
        "colab": {}
      },
      "source": [
        "features_train = X_train.reshape(X_train.shape[0],\n",
        "                                 28, 28, 1)"
      ],
      "execution_count": 0,
      "outputs": []
    },
    {
      "cell_type": "code",
      "metadata": {
        "id": "FHQl5SFqH0ye",
        "colab_type": "code",
        "colab": {}
      },
      "source": [
        "features_test = X_test.reshape(X_test.shape[0],\n",
        "                               28, 28, 1)"
      ],
      "execution_count": 0,
      "outputs": []
    },
    {
      "cell_type": "code",
      "metadata": {
        "id": "cOuWQz88IP9T",
        "colab_type": "code",
        "colab": {}
      },
      "source": [
        "features_train = features_train.astype('float32')\n",
        "features_test = features_test.astype('float32')"
      ],
      "execution_count": 0,
      "outputs": []
    },
    {
      "cell_type": "markdown",
      "metadata": {
        "id": "v4IL4ssJITrt",
        "colab_type": "text"
      },
      "source": [
        "**Modificar a escala dos dados**\n",
        "\n",
        "*   escala de 0 a 1\n"
      ]
    },
    {
      "cell_type": "code",
      "metadata": {
        "id": "Rw7gQt2TIZBO",
        "colab_type": "code",
        "colab": {}
      },
      "source": [
        "features_train /= 255"
      ],
      "execution_count": 0,
      "outputs": []
    },
    {
      "cell_type": "code",
      "metadata": {
        "id": "je5v0lsLJFhk",
        "colab_type": "code",
        "colab": {}
      },
      "source": [
        "features_test /= 255"
      ],
      "execution_count": 0,
      "outputs": []
    },
    {
      "cell_type": "markdown",
      "metadata": {
        "id": "4LboFvanJPm7",
        "colab_type": "text"
      },
      "source": [
        "**Variáveis do tipo dummy**"
      ]
    },
    {
      "cell_type": "code",
      "metadata": {
        "id": "hYhg9gwrJXjm",
        "colab_type": "code",
        "colab": {}
      },
      "source": [
        "class_train = np_utils.to_categorical(y_train, 10)"
      ],
      "execution_count": 0,
      "outputs": []
    },
    {
      "cell_type": "code",
      "metadata": {
        "id": "iG_OIvACJs7t",
        "colab_type": "code",
        "outputId": "f0b7e05f-d43e-4d11-d691-95f21c00b062",
        "colab": {
          "base_uri": "https://localhost:8080/",
          "height": 139
        }
      },
      "source": [
        "class_train"
      ],
      "execution_count": 0,
      "outputs": [
        {
          "output_type": "execute_result",
          "data": {
            "text/plain": [
              "array([[0., 0., 0., ..., 0., 0., 0.],\n",
              "       [1., 0., 0., ..., 0., 0., 0.],\n",
              "       [0., 0., 0., ..., 0., 0., 0.],\n",
              "       ...,\n",
              "       [0., 0., 0., ..., 0., 0., 0.],\n",
              "       [0., 0., 0., ..., 0., 0., 0.],\n",
              "       [0., 0., 0., ..., 0., 1., 0.]], dtype=float32)"
            ]
          },
          "metadata": {
            "tags": []
          },
          "execution_count": 11
        }
      ]
    },
    {
      "cell_type": "code",
      "metadata": {
        "id": "UkwaAkBUJ4ad",
        "colab_type": "code",
        "colab": {}
      },
      "source": [
        "class_test = np_utils.to_categorical(y_test, 10)"
      ],
      "execution_count": 0,
      "outputs": []
    },
    {
      "cell_type": "markdown",
      "metadata": {
        "id": "n9umlvKlMbyP",
        "colab_type": "text"
      },
      "source": [
        "**Estrutura da CNN**"
      ]
    },
    {
      "cell_type": "code",
      "metadata": {
        "id": "A99nDt6_MXZ1",
        "colab_type": "code",
        "colab": {}
      },
      "source": [
        "classificador = Sequential()\n",
        "classificador.add(Conv2D(32, (3,3), \n",
        "                         input_shape=(28, 28, 1),\n",
        "                         activation = 'relu'))\n",
        "classificador.add(MaxPooling2D(pool_size = (2,2)))\n",
        "classificador.add(Flatten())\n",
        "\n",
        "classificador.add(Dense(units = 128, activation = 'relu'))\n",
        "classificador.add(Dropout(0.2))\n",
        "classificador.add(Dense(units = 10, \n",
        "                        activation = 'softmax'))\n",
        "classificador.compile(loss = 'categorical_crossentropy',\n",
        "                      optimizer = 'adam', metrics = ['accuracy'])"
      ],
      "execution_count": 0,
      "outputs": []
    },
    {
      "cell_type": "markdown",
      "metadata": {
        "id": "7ejGKg4WEioJ",
        "colab_type": "text"
      },
      "source": [
        "**Geração das imagens**"
      ]
    },
    {
      "cell_type": "code",
      "metadata": {
        "id": "IyEP_jc5EZyL",
        "colab_type": "code",
        "colab": {}
      },
      "source": [
        "from keras.preprocessing.image import ImageDataGenerator"
      ],
      "execution_count": 0,
      "outputs": []
    },
    {
      "cell_type": "code",
      "metadata": {
        "id": "446DPEelEWLS",
        "colab_type": "code",
        "colab": {}
      },
      "source": [
        "gerador_treinamento = ImageDataGenerator(rotation_range = 7,\n",
        "                                         horizontal_flip = True,\n",
        "                                         shear_range = 0.2,\n",
        "                                         height_shift_range = 0.07,\n",
        "                                         zoom_range = 0.2)"
      ],
      "execution_count": 0,
      "outputs": []
    },
    {
      "cell_type": "code",
      "metadata": {
        "id": "RYd_qykzKU1S",
        "colab_type": "code",
        "colab": {}
      },
      "source": [
        "gerador_teste = ImageDataGenerator()"
      ],
      "execution_count": 0,
      "outputs": []
    },
    {
      "cell_type": "code",
      "metadata": {
        "id": "qZY01FZ-Kdby",
        "colab_type": "code",
        "colab": {}
      },
      "source": [
        "base_treinamento = gerador_treinamento.flow(features_train, class_train,\n",
        "                                            batch_size = 128)"
      ],
      "execution_count": 0,
      "outputs": []
    },
    {
      "cell_type": "code",
      "metadata": {
        "id": "yZKvLbWYKqDt",
        "colab_type": "code",
        "colab": {}
      },
      "source": [
        "base_teste = gerador_teste.flow(features_test, class_test,\n",
        "                                batch_size = 128)"
      ],
      "execution_count": 0,
      "outputs": []
    },
    {
      "cell_type": "code",
      "metadata": {
        "id": "EHhJxMxtK154",
        "colab_type": "code",
        "outputId": "05de8327-f976-45b4-9165-30476694afbc",
        "colab": {
          "base_uri": "https://localhost:8080/",
          "height": 228
        }
      },
      "source": [
        "classificador.fit_generator(base_treinamento, steps_per_epoch = 60000 / 128,\n",
        "                            epochs = 5, validation_data = base_teste,\n",
        "                            validation_steps = 10000 / 120)"
      ],
      "execution_count": 0,
      "outputs": [
        {
          "output_type": "stream",
          "text": [
            "Epoch 1/5\n",
            "469/468 [==============================] - 39s 84ms/step - loss: 0.6081 - accuracy: 0.8033 - val_loss: 0.0994 - val_accuracy: 0.9488\n",
            "Epoch 2/5\n",
            "469/468 [==============================] - 39s 83ms/step - loss: 0.2747 - accuracy: 0.9135 - val_loss: 0.1052 - val_accuracy: 0.9639\n",
            "Epoch 3/5\n",
            "469/468 [==============================] - 39s 83ms/step - loss: 0.2084 - accuracy: 0.9362 - val_loss: 0.0996 - val_accuracy: 0.9736\n",
            "Epoch 4/5\n",
            "469/468 [==============================] - 39s 83ms/step - loss: 0.1759 - accuracy: 0.9459 - val_loss: 0.0703 - val_accuracy: 0.9690\n",
            "Epoch 5/5\n",
            "469/468 [==============================] - 39s 83ms/step - loss: 0.1541 - accuracy: 0.9520 - val_loss: 0.0866 - val_accuracy: 0.9798\n"
          ],
          "name": "stdout"
        },
        {
          "output_type": "execute_result",
          "data": {
            "text/plain": [
              "<keras.callbacks.callbacks.History at 0x7fe80ff3ce10>"
            ]
          },
          "metadata": {
            "tags": []
          },
          "execution_count": 21
        }
      ]
    }
  ]
}