{
  "nbformat": 4,
  "nbformat_minor": 0,
  "metadata": {
    "colab": {
      "name": "cnn_uma_imagem.ipynb",
      "provenance": []
    },
    "kernelspec": {
      "name": "python3",
      "display_name": "Python 3"
    }
  },
  "cells": [
    {
      "cell_type": "markdown",
      "metadata": {
        "id": "M2ZImY7mcXfd",
        "colab_type": "text"
      },
      "source": [
        "**Rede Neural Convolucional(CNN) para reconhecimento de imagens de gatos e cachorros.**\n",
        "\n",
        "* Previsão para apenas uma imagem"
      ]
    },
    {
      "cell_type": "markdown",
      "metadata": {
        "id": "0qmwIdE6djaE",
        "colab_type": "text"
      },
      "source": [
        "Importações iniciais"
      ]
    },
    {
      "cell_type": "code",
      "metadata": {
        "id": "eGpngKbua1ki",
        "colab_type": "code",
        "colab": {}
      },
      "source": [
        "from keras.models import Sequential\n",
        "from keras.layers import Conv2D, MaxPooling2D, Flatten, Dense, Dropout\n",
        "from keras.layers.normalization import  BatchNormalization\n",
        "from keras.preprocessing.image import ImageDataGenerator\n",
        "import numpy as np\n",
        "from keras.preprocessing import image"
      ],
      "execution_count": 0,
      "outputs": []
    },
    {
      "cell_type": "markdown",
      "metadata": {
        "id": "xqU7RVImIg8M",
        "colab_type": "text"
      },
      "source": [
        "Definição da Rede Neural"
      ]
    },
    {
      "cell_type": "code",
      "metadata": {
        "id": "-17MvRzFIjqF",
        "colab_type": "code",
        "colab": {}
      },
      "source": [
        "classificador = Sequential()\n",
        "classificador.add(Conv2D(32, (3,3), input_shape = (64, 64, 3), activation = 'relu'))\n",
        "classificador.add(BatchNormalization())\n",
        "classificador.add(MaxPooling2D(pool_size=(2,2)))\n",
        "\n",
        "\n",
        "classificador.add(Conv2D(32, (3,3), input_shape = (64, 64, 3), activation = 'relu'))\n",
        "classificador.add(BatchNormalization())\n",
        "classificador.add(MaxPooling2D(pool_size=(2,2)))\n",
        "\n",
        "classificador.add(Flatten())"
      ],
      "execution_count": 0,
      "outputs": []
    },
    {
      "cell_type": "markdown",
      "metadata": {
        "id": "2rfgWjBnL9Vi",
        "colab_type": "text"
      },
      "source": [
        "Criação da Rede Neural densa"
      ]
    },
    {
      "cell_type": "code",
      "metadata": {
        "id": "h6cVaho-MAy0",
        "colab_type": "code",
        "colab": {}
      },
      "source": [
        "classificador.add(Dense(units=128, activation='relu'))\n",
        "classificador.add(Dropout(0.2))\n",
        "classificador.add(Dense(units = 128, activation = 'relu'))\n",
        "classificador.add(Dropout(0.2))\n",
        "classificador.add(Dense(units = 1, activation = 'sigmoid'))\n",
        "\n",
        "classificador.compile(optimizer = 'adam', loss = 'binary_crossentropy',\n",
        "                      metrics = ['accuracy'])"
      ],
      "execution_count": 0,
      "outputs": []
    },
    {
      "cell_type": "markdown",
      "metadata": {
        "id": "px6p7ce3M1qj",
        "colab_type": "text"
      },
      "source": [
        "Augumentaion e testes com a Rede Neural"
      ]
    },
    {
      "cell_type": "markdown",
      "metadata": {
        "id": "YIKQkBERNDlZ",
        "colab_type": "text"
      },
      "source": [
        "\n",
        "*   Augumentation é o processo de aumentar a quantidade de imagens, utilizando recursos automáticos do Keras.\n"
      ]
    },
    {
      "cell_type": "code",
      "metadata": {
        "id": "Jsy3M_Y0M_Ta",
        "colab_type": "code",
        "colab": {}
      },
      "source": [
        "gerador_treinamento = ImageDataGenerator(rescale = 1./255,\n",
        "                                         rotation_range = 7,\n",
        "                                         horizontal_flip = True,\n",
        "                                         shear_range = 0.2,\n",
        "                                         height_shift_range = 0.07,\n",
        "                                         zoom_range = 0.2)"
      ],
      "execution_count": 0,
      "outputs": []
    },
    {
      "cell_type": "code",
      "metadata": {
        "id": "UDTvQvyUPTWj",
        "colab_type": "code",
        "colab": {}
      },
      "source": [
        "gerador_teste = ImageDataGenerator(rescale = 1./255)"
      ],
      "execution_count": 0,
      "outputs": []
    },
    {
      "cell_type": "markdown",
      "metadata": {
        "id": "9VksUHZOQ_t-",
        "colab_type": "text"
      },
      "source": [
        "Leitura da base de dados"
      ]
    },
    {
      "cell_type": "markdown",
      "metadata": {
        "id": "I4WPtEMpSQqb",
        "colab_type": "text"
      },
      "source": [
        "* Base de dados de treinamento"
      ]
    },
    {
      "cell_type": "code",
      "metadata": {
        "id": "DBSgBmufRDk2",
        "colab_type": "code",
        "outputId": "57b6d1e2-8cfc-46a7-a639-050ad686b43b",
        "colab": {
          "base_uri": "https://localhost:8080/",
          "height": 34
        }
      },
      "source": [
        "base_treinamento = gerador_treinamento.flow_from_directory('/content/drive/My Drive/Colab Notebooks/dataset/training_set',\n",
        "                                                           target_size = (64,64),\n",
        "                                                           batch_size = 32,\n",
        "                                                           class_mode = 'binary')"
      ],
      "execution_count": 0,
      "outputs": [
        {
          "output_type": "stream",
          "text": [
            "Found 4014 images belonging to 2 classes.\n"
          ],
          "name": "stdout"
        }
      ]
    },
    {
      "cell_type": "markdown",
      "metadata": {
        "id": "aB5RS2KHSNBG",
        "colab_type": "text"
      },
      "source": [
        "* Base de dados de teste"
      ]
    },
    {
      "cell_type": "code",
      "metadata": {
        "id": "I86kyTArR4Bm",
        "colab_type": "code",
        "outputId": "c7078fbb-ee52-460c-aff7-b062a4a82a61",
        "colab": {
          "base_uri": "https://localhost:8080/",
          "height": 34
        }
      },
      "source": [
        "base_test = gerador_teste.flow_from_directory('/content/drive/My Drive/Colab Notebooks/dataset/test_set',\n",
        "                                              target_size = (64,64),\n",
        "                                              batch_size = 32,\n",
        "                                              class_mode = 'binary')"
      ],
      "execution_count": 0,
      "outputs": [
        {
          "output_type": "stream",
          "text": [
            "Found 1000 images belonging to 2 classes.\n"
          ],
          "name": "stdout"
        }
      ]
    },
    {
      "cell_type": "markdown",
      "metadata": {
        "id": "5OfTDVJ4SJcY",
        "colab_type": "text"
      },
      "source": [
        "Treinamento da Rede Neural"
      ]
    },
    {
      "cell_type": "code",
      "metadata": {
        "id": "NZEmhqw7SdC6",
        "colab_type": "code",
        "outputId": "8d8ed353-b452-4ddd-8af1-841754276ef5",
        "colab": {
          "base_uri": "https://localhost:8080/",
          "height": 159
        }
      },
      "source": [
        "classificador.fit_generator(base_treinamento, steps_per_epoch = 4014 ,\n",
        "                            epochs = 3, validation_data = base_test,\n",
        "                            validation_steps = 1000 )"
      ],
      "execution_count": 0,
      "outputs": [
        {
          "output_type": "stream",
          "text": [
            "Epoch 1/3\n",
            "4014/4014 [==============================] - 1614s 402ms/step - loss: 0.1449 - accuracy: 0.9437 - val_loss: 2.1226 - val_accuracy: 0.7494\n",
            "Epoch 2/3\n",
            "4014/4014 [==============================] - 1604s 400ms/step - loss: 0.1019 - accuracy: 0.9615 - val_loss: 0.3341 - val_accuracy: 0.7791\n",
            "Epoch 3/3\n",
            "4014/4014 [==============================] - 1582s 394ms/step - loss: 0.0833 - accuracy: 0.9700 - val_loss: 0.8961 - val_accuracy: 0.7610\n"
          ],
          "name": "stdout"
        },
        {
          "output_type": "execute_result",
          "data": {
            "text/plain": [
              "<keras.callbacks.callbacks.History at 0x7fe8ffc057f0>"
            ]
          },
          "metadata": {
            "tags": []
          },
          "execution_count": 47
        }
      ]
    },
    {
      "cell_type": "markdown",
      "metadata": {
        "id": "hzA54lPH7763",
        "colab_type": "text"
      },
      "source": [
        ""
      ]
    },
    {
      "cell_type": "markdown",
      "metadata": {
        "id": "aVswVB708W4Q",
        "colab_type": "text"
      },
      "source": [
        "Previsão para uma só imagem"
      ]
    },
    {
      "cell_type": "code",
      "metadata": {
        "id": "Rz8nqw7Y8Uqs",
        "colab_type": "code",
        "colab": {}
      },
      "source": [
        "imagem_teste = image.load_img('/content/drive/My Drive/Colab Notebooks/dataset/test_set/gato/cat.3500.jpg',\n",
        "                              target_size = (64, 64))"
      ],
      "execution_count": 0,
      "outputs": []
    },
    {
      "cell_type": "code",
      "metadata": {
        "id": "TnxDvnc-9Hkk",
        "colab_type": "code",
        "outputId": "8ac96eab-413a-4e25-a525-6e401a799f0c",
        "colab": {
          "base_uri": "https://localhost:8080/",
          "height": 81
        }
      },
      "source": [
        "imagem_teste"
      ],
      "execution_count": 0,
      "outputs": [
        {
          "output_type": "execute_result",
          "data": {
            "image/png": "[encoded data removed]",
            "text/plain": [
              "<PIL.Image.Image image mode=RGB size=64x64 at 0x7FE8FFC6DAC8>"
            ]
          },
          "metadata": {
            "tags": []
          },
          "execution_count": 55
        }
      ]
    },
    {
      "cell_type": "markdown",
      "metadata": {
        "id": "_ltxWzeL9Qiw",
        "colab_type": "text"
      },
      "source": [
        "Conversão da imagem em um vetor, com os pixels digitalizados."
      ]
    },
    {
      "cell_type": "code",
      "metadata": {
        "id": "lN5DNaXK9J3h",
        "colab_type": "code",
        "colab": {}
      },
      "source": [
        "imagem_teste = image.img_to_array(imagem_teste)"
      ],
      "execution_count": 0,
      "outputs": []
    },
    {
      "cell_type": "code",
      "metadata": {
        "id": "zHwfDtIh9PjW",
        "colab_type": "code",
        "outputId": "4d6a5a4d-1694-4051-de71-16db658daa77",
        "colab": {
          "base_uri": "https://localhost:8080/",
          "height": 868
        }
      },
      "source": [
        "imagem_teste"
      ],
      "execution_count": 0,
      "outputs": [
        {
          "output_type": "execute_result",
          "data": {
            "text/plain": [
              "array([[[196., 195., 201.],\n",
              "        [195., 194., 200.],\n",
              "        [209., 208., 214.],\n",
              "        ...,\n",
              "        [191., 188., 195.],\n",
              "        [193., 190., 197.],\n",
              "        [189., 186., 193.]],\n",
              "\n",
              "       [[204., 203., 209.],\n",
              "        [206., 205., 211.],\n",
              "        [194., 193., 199.],\n",
              "        ...,\n",
              "        [192., 189., 196.],\n",
              "        [197., 194., 201.],\n",
              "        [187., 184., 191.]],\n",
              "\n",
              "       [[196., 195., 201.],\n",
              "        [196., 195., 201.],\n",
              "        [193., 192., 198.],\n",
              "        ...,\n",
              "        [191., 188., 195.],\n",
              "        [189., 186., 193.],\n",
              "        [178., 175., 182.]],\n",
              "\n",
              "       ...,\n",
              "\n",
              "       [[250., 250., 250.],\n",
              "        [249., 249., 249.],\n",
              "        [252., 252., 252.],\n",
              "        ...,\n",
              "        [230., 228., 229.],\n",
              "        [234., 232., 233.],\n",
              "        [249., 247., 248.]],\n",
              "\n",
              "       [[248., 248., 248.],\n",
              "        [251., 251., 251.],\n",
              "        [249., 249., 249.],\n",
              "        ...,\n",
              "        [226., 224., 225.],\n",
              "        [231., 229., 230.],\n",
              "        [248., 246., 247.]],\n",
              "\n",
              "       [[249., 249., 249.],\n",
              "        [247., 247., 247.],\n",
              "        [245., 245., 245.],\n",
              "        ...,\n",
              "        [226., 224., 225.],\n",
              "        [232., 230., 231.],\n",
              "        [246., 244., 245.]]], dtype=float32)"
            ]
          },
          "metadata": {
            "tags": []
          },
          "execution_count": 57
        }
      ]
    },
    {
      "cell_type": "markdown",
      "metadata": {
        "id": "gXl7ewd59bg7",
        "colab_type": "text"
      },
      "source": [
        "Aplicação da normalização nos dados"
      ]
    },
    {
      "cell_type": "code",
      "metadata": {
        "id": "o_7wQ3zN9gK8",
        "colab_type": "code",
        "colab": {}
      },
      "source": [
        "imagem_teste /= 255"
      ],
      "execution_count": 0,
      "outputs": []
    },
    {
      "cell_type": "code",
      "metadata": {
        "id": "BldxxdcM9jda",
        "colab_type": "code",
        "colab": {}
      },
      "source": [
        "imagem_teste = np.expand_dims(imagem_teste, axis = 0)"
      ],
      "execution_count": 0,
      "outputs": []
    },
    {
      "cell_type": "markdown",
      "metadata": {
        "id": "mvXeqvau9x1s",
        "colab_type": "text"
      },
      "source": [
        "Previsão para a imagem"
      ]
    },
    {
      "cell_type": "code",
      "metadata": {
        "id": "k1yYX82791tp",
        "colab_type": "code",
        "colab": {}
      },
      "source": [
        "previsao = classificador.predict(imagem_teste)"
      ],
      "execution_count": 0,
      "outputs": []
    },
    {
      "cell_type": "code",
      "metadata": {
        "id": "LXcdCHwK-HPc",
        "colab_type": "code",
        "outputId": "0863d6a5-76b0-4a1d-eccc-aa2ae5b00120",
        "colab": {
          "base_uri": "https://localhost:8080/",
          "height": 34
        }
      },
      "source": [
        "previsao"
      ],
      "execution_count": 0,
      "outputs": [
        {
          "output_type": "execute_result",
          "data": {
            "text/plain": [
              "array([[0.9937296]], dtype=float32)"
            ]
          },
          "metadata": {
            "tags": []
          },
          "execution_count": 62
        }
      ]
    },
    {
      "cell_type": "markdown",
      "metadata": {
        "id": "hv2wg41R-Ts-",
        "colab_type": "text"
      },
      "source": [
        "O valor da variável previsão foi mais próximo de um 1. Dessa forma, podemos verificar o que seria a classe número 1 na nossa base de dados."
      ]
    },
    {
      "cell_type": "code",
      "metadata": {
        "id": "6Fkr46Lh-O-f",
        "colab_type": "code",
        "outputId": "10dd4fa8-4cfc-47e8-af24-0bcc9689021c",
        "colab": {
          "base_uri": "https://localhost:8080/",
          "height": 34
        }
      },
      "source": [
        "base_treinamento.class_indices"
      ],
      "execution_count": 0,
      "outputs": [
        {
          "output_type": "execute_result",
          "data": {
            "text/plain": [
              "{'cachorro': 0, 'gato': 1}"
            ]
          },
          "metadata": {
            "tags": []
          },
          "execution_count": 63
        }
      ]
    },
    {
      "cell_type": "code",
      "metadata": {
        "id": "4cj-_wPw-pgf",
        "colab_type": "code",
        "outputId": "f40b8049-9edf-4f78-a4cd-63cfe56ac28d",
        "colab": {
          "base_uri": "https://localhost:8080/",
          "height": 34
        }
      },
      "source": [
        "if (previsao) >= 0.6:\n",
        "  print('Gato')\n",
        "else:\n",
        "  print('Cachorro')"
      ],
      "execution_count": 0,
      "outputs": [
        {
          "output_type": "stream",
          "text": [
            "Gato\n"
          ],
          "name": "stdout"
        }
      ]
    },
    {
      "cell_type": "markdown",
      "metadata": {
        "id": "QQDH77fQQ8Mi",
        "colab_type": "text"
      },
      "source": [
        ""
      ]
    }
  ]
}