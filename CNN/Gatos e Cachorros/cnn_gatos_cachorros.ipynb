{
  "nbformat": 4,
  "nbformat_minor": 0,
  "metadata": {
    "colab": {
      "name": "cnn_gatos_cachorros.ipynb",
      "provenance": []
    },
    "kernelspec": {
      "name": "python3",
      "display_name": "Python 3"
    }
  },
  "cells": [
    {
      "cell_type": "markdown",
      "metadata": {
        "id": "M2ZImY7mcXfd",
        "colab_type": "text"
      },
      "source": [
        "**Rede Neural Convolucional(CNN) para reconhecimento de imagens de gatos e cachorros.**\n"
      ]
    },
    {
      "cell_type": "markdown",
      "metadata": {
        "id": "0qmwIdE6djaE",
        "colab_type": "text"
      },
      "source": [
        "Importações iniciais"
      ]
    },
    {
      "cell_type": "code",
      "metadata": {
        "id": "eGpngKbua1ki",
        "colab_type": "code",
        "colab": {}
      },
      "source": [
        "from keras.models import Sequential\n",
        "from keras.layers import Conv2D, MaxPooling2D, Flatten, Dense, Dropout\n",
        "from keras.layers.normalization import  BatchNormalization\n",
        "from keras.preprocessing.image import ImageDataGenerator"
      ],
      "execution_count": 0,
      "outputs": []
    },
    {
      "cell_type": "markdown",
      "metadata": {
        "id": "xqU7RVImIg8M",
        "colab_type": "text"
      },
      "source": [
        "Definição da Rede Neural"
      ]
    },
    {
      "cell_type": "code",
      "metadata": {
        "id": "-17MvRzFIjqF",
        "colab_type": "code",
        "colab": {}
      },
      "source": [
        "classificador = Sequential()\n",
        "classificador.add(Conv2D(32, (3,3), input_shape = (64, 64, 3), activation = 'relu'))\n",
        "classificador.add(BatchNormalization())\n",
        "classificador.add(MaxPooling2D(pool_size=(2,2)))\n",
        "\n",
        "\n",
        "classificador.add(Conv2D(32, (3,3), input_shape = (64, 64, 3), activation = 'relu'))\n",
        "classificador.add(BatchNormalization())\n",
        "classificador.add(MaxPooling2D(pool_size=(2,2)))\n",
        "\n",
        "classificador.add(Flatten())"
      ],
      "execution_count": 0,
      "outputs": []
    },
    {
      "cell_type": "markdown",
      "metadata": {
        "id": "2rfgWjBnL9Vi",
        "colab_type": "text"
      },
      "source": [
        "Criação da Rede Neural densa"
      ]
    },
    {
      "cell_type": "code",
      "metadata": {
        "id": "h6cVaho-MAy0",
        "colab_type": "code",
        "colab": {}
      },
      "source": [
        "classificador.add(Dense(units=128, activation='relu'))\n",
        "classificador.add(Dropout(0.2))\n",
        "classificador.add(Dense(units = 128, activation = 'relu'))\n",
        "classificador.add(Dropout(0.2))\n",
        "classificador.add(Dense(units = 1, activation = 'sigmoid'))\n",
        "\n",
        "classificador.compile(optimizer = 'adam', loss = 'binary_crossentropy',\n",
        "                      metrics = ['accuracy'])"
      ],
      "execution_count": 0,
      "outputs": []
    },
    {
      "cell_type": "markdown",
      "metadata": {
        "id": "px6p7ce3M1qj",
        "colab_type": "text"
      },
      "source": [
        "Augumentaion e testes com a Rede Neural"
      ]
    },
    {
      "cell_type": "markdown",
      "metadata": {
        "id": "YIKQkBERNDlZ",
        "colab_type": "text"
      },
      "source": [
        "\n",
        "*   Augumentation é o processo de aumentar a quantidade de imagens, utilizando recursos automáticos do Keras.\n"
      ]
    },
    {
      "cell_type": "code",
      "metadata": {
        "id": "Jsy3M_Y0M_Ta",
        "colab_type": "code",
        "colab": {}
      },
      "source": [
        "gerador_treinamento = ImageDataGenerator(rescale = 1./255,\n",
        "                                         rotation_range = 7,\n",
        "                                         horizontal_flip = True,\n",
        "                                         shear_range = 0.2,\n",
        "                                         height_shift_range = 0.07,\n",
        "                                         zoom_range = 0.2)"
      ],
      "execution_count": 0,
      "outputs": []
    },
    {
      "cell_type": "code",
      "metadata": {
        "id": "UDTvQvyUPTWj",
        "colab_type": "code",
        "colab": {}
      },
      "source": [
        "gerador_teste = ImageDataGenerator(rescale = 1./255)"
      ],
      "execution_count": 0,
      "outputs": []
    },
    {
      "cell_type": "markdown",
      "metadata": {
        "id": "9VksUHZOQ_t-",
        "colab_type": "text"
      },
      "source": [
        "Leitura da base de dados"
      ]
    },
    {
      "cell_type": "markdown",
      "metadata": {
        "id": "I4WPtEMpSQqb",
        "colab_type": "text"
      },
      "source": [
        "* Base de dados de treinamento"
      ]
    },
    {
      "cell_type": "code",
      "metadata": {
        "id": "DBSgBmufRDk2",
        "colab_type": "code",
        "outputId": "57b6d1e2-8cfc-46a7-a639-050ad686b43b",
        "colab": {
          "base_uri": "https://localhost:8080/",
          "height": 34
        }
      },
      "source": [
        "base_treinamento = gerador_treinamento.flow_from_directory('/content/drive/My Drive/Colab Notebooks/dataset/training_set',\n",
        "                                                           target_size = (64,64),\n",
        "                                                           batch_size = 32,\n",
        "                                                           class_mode = 'binary')"
      ],
      "execution_count": 44,
      "outputs": [
        {
          "output_type": "stream",
          "text": [
            "Found 4014 images belonging to 2 classes.\n"
          ],
          "name": "stdout"
        }
      ]
    },
    {
      "cell_type": "markdown",
      "metadata": {
        "id": "aB5RS2KHSNBG",
        "colab_type": "text"
      },
      "source": [
        "* Base de dados de teste"
      ]
    },
    {
      "cell_type": "code",
      "metadata": {
        "id": "I86kyTArR4Bm",
        "colab_type": "code",
        "outputId": "c7078fbb-ee52-460c-aff7-b062a4a82a61",
        "colab": {
          "base_uri": "https://localhost:8080/",
          "height": 34
        }
      },
      "source": [
        "base_test = gerador_teste.flow_from_directory('/content/drive/My Drive/Colab Notebooks/dataset/test_set',\n",
        "                                              target_size = (64,64),\n",
        "                                              batch_size = 32,\n",
        "                                              class_mode = 'binary')"
      ],
      "execution_count": 45,
      "outputs": [
        {
          "output_type": "stream",
          "text": [
            "Found 1000 images belonging to 2 classes.\n"
          ],
          "name": "stdout"
        }
      ]
    },
    {
      "cell_type": "markdown",
      "metadata": {
        "id": "5OfTDVJ4SJcY",
        "colab_type": "text"
      },
      "source": [
        "Treinamento da Rede Neural"
      ]
    },
    {
      "cell_type": "code",
      "metadata": {
        "id": "NZEmhqw7SdC6",
        "colab_type": "code",
        "outputId": "8d8ed353-b452-4ddd-8af1-841754276ef5",
        "colab": {
          "base_uri": "https://localhost:8080/",
          "height": 159
        }
      },
      "source": [
        "classificador.fit_generator(base_treinamento, steps_per_epoch = 4014 ,\n",
        "                            epochs = 3, validation_data = base_test,\n",
        "                            validation_steps = 1000 )"
      ],
      "execution_count": 47,
      "outputs": [
        {
          "output_type": "stream",
          "text": [
            "Epoch 1/3\n",
            "4014/4014 [==============================] - 1614s 402ms/step - loss: 0.1449 - accuracy: 0.9437 - val_loss: 2.1226 - val_accuracy: 0.7494\n",
            "Epoch 2/3\n",
            "4014/4014 [==============================] - 1604s 400ms/step - loss: 0.1019 - accuracy: 0.9615 - val_loss: 0.3341 - val_accuracy: 0.7791\n",
            "Epoch 3/3\n",
            "4014/4014 [==============================] - 1582s 394ms/step - loss: 0.0833 - accuracy: 0.9700 - val_loss: 0.8961 - val_accuracy: 0.7610\n"
          ],
          "name": "stdout"
        },
        {
          "output_type": "execute_result",
          "data": {
            "text/plain": [
              "<keras.callbacks.callbacks.History at 0x7fe8ffc057f0>"
            ]
          },
          "metadata": {
            "tags": []
          },
          "execution_count": 47
        }
      ]
    },
    {
      "cell_type": "markdown",
      "metadata": {
        "id": "QQDH77fQQ8Mi",
        "colab_type": "text"
      },
      "source": [
        ""
      ]
    }
  ]
}