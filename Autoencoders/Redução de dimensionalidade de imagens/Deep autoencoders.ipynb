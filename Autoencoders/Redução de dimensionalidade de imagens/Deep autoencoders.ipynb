{
 "cells": [
  {
   "cell_type": "markdown",
   "metadata": {},
   "source": [
    "### Deep autoencoders"
   ]
  },
  {
   "cell_type": "markdown",
   "metadata": {},
   "source": [
    "**Importações iniciais**"
   ]
  },
  {
   "cell_type": "code",
   "execution_count": 1,
   "metadata": {},
   "outputs": [
    {
     "name": "stderr",
     "output_type": "stream",
     "text": [
      "Using TensorFlow backend.\n"
     ]
    }
   ],
   "source": [
    "import matplotlib.pyplot as plt\n",
    "import numpy as np\n",
    "from keras.datasets import mnist\n",
    "from keras.models import Model, Sequential\n",
    "from keras.layers import Input, Dense"
   ]
  },
  {
   "cell_type": "markdown",
   "metadata": {},
   "source": [
    "**Leitura da base de dados**"
   ]
  },
  {
   "cell_type": "code",
   "execution_count": 2,
   "metadata": {},
   "outputs": [],
   "source": [
    "(previsores_treinamento, _), (previsores_teste, _) = mnist.load_data()\n",
    "previsores_treinamento = previsores_treinamento.astype('float32') / 255\n",
    "previsores_teste = previsores_teste.astype('float32') / 255"
   ]
  },
  {
   "cell_type": "code",
   "execution_count": 3,
   "metadata": {},
   "outputs": [],
   "source": [
    "previsores_treinamento = previsores_treinamento.reshape((len(previsores_treinamento), np.prod(previsores_treinamento.shape[1:])))\n",
    "previsores_teste = previsores_teste.reshape((len(previsores_teste), np.prod(previsores_teste.shape[1:])))"
   ]
  },
  {
   "cell_type": "markdown",
   "metadata": {},
   "source": [
    "**Construção do Autoencoder**"
   ]
  },
  {
   "cell_type": "code",
   "execution_count": 7,
   "metadata": {},
   "outputs": [],
   "source": [
    "autoencoder = Sequential()\n",
    "autoencoder.add(Dense(units = 128, activation = 'relu', input_dim = 784))\n",
    "autoencoder.add(Dense(units = 64, activation = 'relu'))\n",
    "autoencoder.add(Dense(units = 32, activation = 'relu'))\n",
    "                \n",
    "autoencoder.add(Dense(units = 64, activation = 'relu'))\n",
    "autoencoder.add(Dense(units = 128, activation = 'relu'))\n",
    "autoencoder.add(Dense(units = 784, activation = 'sigmoid'))"
   ]
  },
  {
   "cell_type": "code",
   "execution_count": 8,
   "metadata": {},
   "outputs": [
    {
     "name": "stdout",
     "output_type": "stream",
     "text": [
      "Model: \"sequential_1\"\n",
      "_________________________________________________________________\n",
      "Layer (type)                 Output Shape              Param #   \n",
      "=================================================================\n",
      "dense_1 (Dense)              (None, 128)               100480    \n",
      "_________________________________________________________________\n",
      "dense_2 (Dense)              (None, 64)                8256      \n",
      "_________________________________________________________________\n",
      "dense_3 (Dense)              (None, 32)                2080      \n",
      "_________________________________________________________________\n",
      "dense_4 (Dense)              (None, 64)                2112      \n",
      "_________________________________________________________________\n",
      "dense_5 (Dense)              (None, 128)               8320      \n",
      "_________________________________________________________________\n",
      "dense_6 (Dense)              (None, 784)               101136    \n",
      "=================================================================\n",
      "Total params: 222,384\n",
      "Trainable params: 222,384\n",
      "Non-trainable params: 0\n",
      "_________________________________________________________________\n"
     ]
    }
   ],
   "source": [
    "autoencoder.summary()"
   ]
  },
  {
   "cell_type": "code",
   "execution_count": 12,
   "metadata": {},
   "outputs": [
    {
     "name": "stdout",
     "output_type": "stream",
     "text": [
      "Train on 60000 samples, validate on 10000 samples\n",
      "Epoch 1/50\n",
      "60000/60000 [==============================] - 4s 59us/step - loss: 0.2499 - accuracy: 0.7847 - val_loss: 0.1692 - val_accuracy: 0.7998\n",
      "Epoch 2/50\n",
      "60000/60000 [==============================] - 4s 63us/step - loss: 0.1517 - accuracy: 0.8048 - val_loss: 0.1380 - val_accuracy: 0.8066\n",
      "Epoch 3/50\n",
      "60000/60000 [==============================] - 4s 62us/step - loss: 0.1328 - accuracy: 0.8084 - val_loss: 0.1253 - val_accuracy: 0.8090\n",
      "Epoch 4/50\n",
      "60000/60000 [==============================] - 3s 55us/step - loss: 0.1232 - accuracy: 0.8100 - val_loss: 0.1192 - val_accuracy: 0.8088\n",
      "Epoch 5/50\n",
      "60000/60000 [==============================] - 4s 62us/step - loss: 0.1172 - accuracy: 0.8109 - val_loss: 0.1131 - val_accuracy: 0.8103\n",
      "Epoch 6/50\n",
      "60000/60000 [==============================] - 3s 57us/step - loss: 0.1124 - accuracy: 0.8115 - val_loss: 0.1092 - val_accuracy: 0.8109\n",
      "Epoch 7/50\n",
      "60000/60000 [==============================] - 3s 52us/step - loss: 0.1089 - accuracy: 0.8120 - val_loss: 0.1059 - val_accuracy: 0.8113\n",
      "Epoch 8/50\n",
      "60000/60000 [==============================] - 3s 53us/step - loss: 0.1061 - accuracy: 0.8124 - val_loss: 0.1041 - val_accuracy: 0.8120\n",
      "Epoch 9/50\n",
      "60000/60000 [==============================] - 4s 61us/step - loss: 0.1037 - accuracy: 0.8127 - val_loss: 0.1016 - val_accuracy: 0.8118\n",
      "Epoch 10/50\n",
      "60000/60000 [==============================] - 4s 68us/step - loss: 0.1018 - accuracy: 0.8129 - val_loss: 0.1000 - val_accuracy: 0.8118\n",
      "Epoch 11/50\n",
      "60000/60000 [==============================] - 3s 51us/step - loss: 0.1002 - accuracy: 0.8131 - val_loss: 0.0983 - val_accuracy: 0.8122\n",
      "Epoch 12/50\n",
      "60000/60000 [==============================] - 3s 51us/step - loss: 0.0989 - accuracy: 0.8133 - val_loss: 0.0971 - val_accuracy: 0.8125\n",
      "Epoch 13/50\n",
      "60000/60000 [==============================] - 3s 50us/step - loss: 0.0977 - accuracy: 0.8134 - val_loss: 0.0960 - val_accuracy: 0.8125\n",
      "Epoch 14/50\n",
      "60000/60000 [==============================] - 4s 65us/step - loss: 0.0966 - accuracy: 0.8135 - val_loss: 0.0950 - val_accuracy: 0.8126\n",
      "Epoch 15/50\n",
      "60000/60000 [==============================] - 3s 50us/step - loss: 0.0955 - accuracy: 0.8136 - val_loss: 0.0938 - val_accuracy: 0.8127\n",
      "Epoch 16/50\n",
      "60000/60000 [==============================] - 3s 47us/step - loss: 0.0946 - accuracy: 0.8137 - val_loss: 0.0931 - val_accuracy: 0.8127\n",
      "Epoch 17/50\n",
      "60000/60000 [==============================] - 3s 46us/step - loss: 0.0938 - accuracy: 0.8138 - val_loss: 0.0923 - val_accuracy: 0.8130\n",
      "Epoch 18/50\n",
      "60000/60000 [==============================] - 3s 45us/step - loss: 0.0930 - accuracy: 0.8139 - val_loss: 0.0918 - val_accuracy: 0.8130\n",
      "Epoch 19/50\n",
      "60000/60000 [==============================] - 3s 52us/step - loss: 0.0923 - accuracy: 0.8139 - val_loss: 0.0913 - val_accuracy: 0.8131\n",
      "Epoch 20/50\n",
      "60000/60000 [==============================] - 3s 45us/step - loss: 0.0917 - accuracy: 0.8140 - val_loss: 0.0907 - val_accuracy: 0.8131\n",
      "Epoch 21/50\n",
      "60000/60000 [==============================] - 3s 45us/step - loss: 0.0912 - accuracy: 0.8140 - val_loss: 0.0900 - val_accuracy: 0.8132\n",
      "Epoch 22/50\n",
      "60000/60000 [==============================] - 3s 46us/step - loss: 0.0906 - accuracy: 0.8141 - val_loss: 0.0895 - val_accuracy: 0.8132\n",
      "Epoch 23/50\n",
      "60000/60000 [==============================] - 3s 45us/step - loss: 0.0902 - accuracy: 0.8141 - val_loss: 0.0896 - val_accuracy: 0.8132\n",
      "Epoch 24/50\n",
      "60000/60000 [==============================] - 3s 45us/step - loss: 0.0897 - accuracy: 0.8142 - val_loss: 0.0887 - val_accuracy: 0.8133\n",
      "Epoch 25/50\n",
      "60000/60000 [==============================] - 3s 44us/step - loss: 0.0892 - accuracy: 0.8142 - val_loss: 0.0882 - val_accuracy: 0.8133\n",
      "Epoch 26/50\n",
      "60000/60000 [==============================] - 3s 45us/step - loss: 0.0889 - accuracy: 0.8142 - val_loss: 0.0882 - val_accuracy: 0.8132\n",
      "Epoch 27/50\n",
      "60000/60000 [==============================] - 3s 44us/step - loss: 0.0885 - accuracy: 0.8143 - val_loss: 0.0880 - val_accuracy: 0.8134\n",
      "Epoch 28/50\n",
      "60000/60000 [==============================] - 3s 44us/step - loss: 0.0882 - accuracy: 0.8143 - val_loss: 0.0873 - val_accuracy: 0.8133\n",
      "Epoch 29/50\n",
      "60000/60000 [==============================] - 3s 46us/step - loss: 0.0878 - accuracy: 0.8143 - val_loss: 0.0874 - val_accuracy: 0.8134\n",
      "Epoch 30/50\n",
      "60000/60000 [==============================] - 3s 55us/step - loss: 0.0875 - accuracy: 0.8144 - val_loss: 0.0868 - val_accuracy: 0.8134\n",
      "Epoch 31/50\n",
      "60000/60000 [==============================] - 3s 45us/step - loss: 0.0873 - accuracy: 0.8144 - val_loss: 0.0864 - val_accuracy: 0.8134\n",
      "Epoch 32/50\n",
      "60000/60000 [==============================] - 3s 48us/step - loss: 0.0870 - accuracy: 0.8144 - val_loss: 0.0863 - val_accuracy: 0.8134\n",
      "Epoch 33/50\n",
      "60000/60000 [==============================] - 3s 52us/step - loss: 0.0867 - accuracy: 0.8144 - val_loss: 0.0859 - val_accuracy: 0.8135\n",
      "Epoch 34/50\n",
      "60000/60000 [==============================] - 3s 47us/step - loss: 0.0865 - accuracy: 0.8144 - val_loss: 0.0857 - val_accuracy: 0.8135\n",
      "Epoch 35/50\n",
      "60000/60000 [==============================] - 3s 46us/step - loss: 0.0862 - accuracy: 0.8145 - val_loss: 0.0855 - val_accuracy: 0.8135\n",
      "Epoch 36/50\n",
      "60000/60000 [==============================] - 3s 47us/step - loss: 0.0860 - accuracy: 0.8145 - val_loss: 0.0851 - val_accuracy: 0.8135\n",
      "Epoch 37/50\n",
      "60000/60000 [==============================] - 3s 44us/step - loss: 0.0858 - accuracy: 0.8145 - val_loss: 0.0851 - val_accuracy: 0.8136\n",
      "Epoch 38/50\n",
      "60000/60000 [==============================] - 3s 47us/step - loss: 0.0855 - accuracy: 0.8145 - val_loss: 0.0848 - val_accuracy: 0.8135\n",
      "Epoch 39/50\n",
      "60000/60000 [==============================] - 3s 45us/step - loss: 0.0853 - accuracy: 0.8145 - val_loss: 0.0847 - val_accuracy: 0.8135\n",
      "Epoch 40/50\n",
      "60000/60000 [==============================] - 3s 45us/step - loss: 0.0851 - accuracy: 0.8145 - val_loss: 0.0850 - val_accuracy: 0.8137\n",
      "Epoch 41/50\n",
      "60000/60000 [==============================] - 3s 44us/step - loss: 0.0849 - accuracy: 0.8146 - val_loss: 0.0843 - val_accuracy: 0.8136\n",
      "Epoch 42/50\n",
      "60000/60000 [==============================] - 3s 46us/step - loss: 0.0847 - accuracy: 0.8146 - val_loss: 0.0840 - val_accuracy: 0.8137\n",
      "Epoch 43/50\n",
      "60000/60000 [==============================] - 3s 52us/step - loss: 0.0846 - accuracy: 0.8146 - val_loss: 0.0843 - val_accuracy: 0.8137\n",
      "Epoch 44/50\n",
      "60000/60000 [==============================] - 3s 55us/step - loss: 0.0844 - accuracy: 0.8146 - val_loss: 0.0839 - val_accuracy: 0.8136\n",
      "Epoch 45/50\n",
      "60000/60000 [==============================] - 3s 54us/step - loss: 0.0842 - accuracy: 0.8146 - val_loss: 0.0839 - val_accuracy: 0.8138\n",
      "Epoch 46/50\n",
      "60000/60000 [==============================] - 4s 69us/step - loss: 0.0841 - accuracy: 0.8146 - val_loss: 0.0838 - val_accuracy: 0.8136\n",
      "Epoch 47/50\n",
      "60000/60000 [==============================] - 4s 67us/step - loss: 0.0840 - accuracy: 0.8146 - val_loss: 0.0836 - val_accuracy: 0.8137\n",
      "Epoch 48/50\n",
      "60000/60000 [==============================] - 3s 56us/step - loss: 0.0838 - accuracy: 0.8146 - val_loss: 0.0835 - val_accuracy: 0.8137\n",
      "Epoch 49/50\n",
      "60000/60000 [==============================] - 3s 56us/step - loss: 0.0837 - accuracy: 0.8147 - val_loss: 0.0831 - val_accuracy: 0.8137\n",
      "Epoch 50/50\n",
      "60000/60000 [==============================] - 4s 60us/step - loss: 0.0835 - accuracy: 0.8147 - val_loss: 0.0832 - val_accuracy: 0.8138\n"
     ]
    },
    {
     "data": {
      "text/plain": [
       "<keras.callbacks.callbacks.History at 0x7fea8e3d1198>"
      ]
     },
     "execution_count": 12,
     "metadata": {},
     "output_type": "execute_result"
    }
   ],
   "source": [
    "autoencoder.compile(optimizer = 'adam', loss = 'binary_crossentropy',\n",
    "                   metrics = ['accuracy'])\n",
    "autoencoder.fit(previsores_treinamento, previsores_treinamento,\n",
    "               epochs = 50, batch_size = 256,\n",
    "               validation_data = (previsores_teste, previsores_teste))"
   ]
  },
  {
   "cell_type": "code",
   "execution_count": 14,
   "metadata": {},
   "outputs": [
    {
     "name": "stdout",
     "output_type": "stream",
     "text": [
      "Model: \"model_1\"\n",
      "_________________________________________________________________\n",
      "Layer (type)                 Output Shape              Param #   \n",
      "=================================================================\n",
      "input_2 (InputLayer)         (None, 784)               0         \n",
      "_________________________________________________________________\n",
      "dense_1 (Dense)              (None, 128)               100480    \n",
      "_________________________________________________________________\n",
      "dense_2 (Dense)              (None, 64)                8256      \n",
      "_________________________________________________________________\n",
      "dense_3 (Dense)              (None, 32)                2080      \n",
      "=================================================================\n",
      "Total params: 110,816\n",
      "Trainable params: 110,816\n",
      "Non-trainable params: 0\n",
      "_________________________________________________________________\n"
     ]
    }
   ],
   "source": [
    "dimensao_original = Input(shape = (784,))\n",
    "camada_encoder1 = autoencoder.layers[0]\n",
    "camada_encoder2 = autoencoder.layers[1]\n",
    "camada_encoder3 = autoencoder.layers[2]\n",
    "\n",
    "encoder = Model(dimensao_original, \n",
    "               camada_encoder3(camada_encoder2(camada_encoder1(dimensao_original))))\n",
    "\n",
    "encoder.summary()"
   ]
  },
  {
   "cell_type": "code",
   "execution_count": 17,
   "metadata": {},
   "outputs": [],
   "source": [
    "imagens_codificadas = encoder.predict(previsores_teste)\n",
    "imagens_decodificadas = autoencoder.predict(previsores_teste)"
   ]
  },
  {
   "cell_type": "markdown",
   "metadata": {},
   "source": [
    "**Visualização de imagens**"
   ]
  },
  {
   "cell_type": "code",
   "execution_count": 18,
   "metadata": {},
   "outputs": [
    {
     "data": {
      "image/png": "[encoded data removed]",
      "text/plain": [
       "<Figure size 1296x1296 with 30 Axes>"
      ]
     },
     "metadata": {},
     "output_type": "display_data"
    }
   ],
   "source": [
    "numero_imagens = 10\n",
    "imagens_teste = np.random.randint(previsores_teste.shape[0], size = numero_imagens)\n",
    "plt.figure(figsize=(18,18))\n",
    "for i, indice_imagem in enumerate(imagens_teste):   \n",
    "    # imagem original\n",
    "    eixo = plt.subplot(10,10,i + 1)\n",
    "    plt.imshow(previsores_teste[indice_imagem].reshape(28,28))\n",
    "    plt.xticks(())\n",
    "    plt.yticks(())\n",
    "    \n",
    "    # imagem codificada\n",
    "    eixo = plt.subplot(10,10,i + 1 + numero_imagens)\n",
    "    plt.imshow(imagens_codificadas[indice_imagem].reshape(8,4))\n",
    "    plt.xticks(())\n",
    "    plt.yticks(())\n",
    "    \n",
    "     # imagem reconstruída\n",
    "    eixo = plt.subplot(10,10,i + 1 + numero_imagens * 2)\n",
    "    plt.imshow(imagens_decodificadas[indice_imagem].reshape(28,28))\n",
    "    plt.xticks(())\n",
    "    plt.yticks(())\n",
    "    "
   ]
  },
  {
   "cell_type": "code",
   "execution_count": null,
   "metadata": {},
   "outputs": [],
   "source": []
  }
 ],
 "metadata": {
  "kernelspec": {
   "display_name": "Python 3",
   "language": "python",
   "name": "python3"
  },
  "language_info": {
   "codemirror_mode": {
    "name": "ipython",
    "version": 3
   },
   "file_extension": ".py",
   "mimetype": "text/x-python",
   "name": "python",
   "nbconvert_exporter": "python",
   "pygments_lexer": "ipython3",
   "version": "3.7.3"
  }
 },
 "nbformat": 4,
 "nbformat_minor": 2
}
