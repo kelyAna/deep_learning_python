{
  "nbformat": 4,
  "nbformat_minor": 0,
  "metadata": {
    "colab": {
      "name": "neural_network_iris_salvar.ipynb",
      "provenance": []
    },
    "kernelspec": {
      "name": "python3",
      "display_name": "Python 3"
    }
  },
  "cells": [
    {
      "cell_type": "markdown",
      "metadata": {
        "id": "_qmit5U9ajNO",
        "colab_type": "text"
      },
      "source": [
        "**Importações iniciais**"
      ]
    },
    {
      "cell_type": "code",
      "metadata": {
        "id": "hM5-JqPsavtA",
        "colab_type": "code",
        "colab": {
          "base_uri": "https://localhost:8080/",
          "height": 34
        },
        "outputId": "b965ada4-50ac-4cb0-bfd1-35763e8e509b"
      },
      "source": [
        "import pandas as pd\n",
        "import numpy as np\n",
        "from keras.models import Sequential\n",
        "from keras.layers import Dense, Dropout\n",
        "from keras.utils import np_utils\n",
        "from sklearn.preprocessing import LabelEncoder\n",
        "from keras.models import model_from_json\n"
      ],
      "execution_count": 2,
      "outputs": [
        {
          "output_type": "stream",
          "text": [
            "Using TensorFlow backend.\n"
          ],
          "name": "stderr"
        }
      ]
    },
    {
      "cell_type": "markdown",
      "metadata": {
        "id": "JqVheOc6axQL",
        "colab_type": "text"
      },
      "source": [
        "**Leitura da base de dados**"
      ]
    },
    {
      "cell_type": "code",
      "metadata": {
        "id": "BXTnrBNXaoNy",
        "colab_type": "code",
        "colab": {}
      },
      "source": [
        "base = pd.read_csv('iris.csv')\n",
        "previsores = base.iloc[:, 0:4].values\n",
        "classe = base.iloc[:, 4].values\n",
        "labelencoder = LabelEncoder()\n",
        "classe = labelencoder.fit_transform(classe)\n",
        "classe_dummy = np_utils.to_categorical(classe)"
      ],
      "execution_count": 0,
      "outputs": []
    },
    {
      "cell_type": "markdown",
      "metadata": {
        "id": "QI5Ajauza5Rc",
        "colab_type": "text"
      },
      "source": [
        "**Estrutura da rede neural**"
      ]
    },
    {
      "cell_type": "code",
      "metadata": {
        "id": "NU4Xg9JZa8Tw",
        "colab_type": "code",
        "colab": {
          "base_uri": "https://localhost:8080/",
          "height": 1000
        },
        "outputId": "fef71f93-1ae2-4e77-9170-c897fc2740b1"
      },
      "source": [
        "classificador = Sequential()\n",
        "classificador.add(Dense(units = 8, activation = 'relu', \n",
        "                        kernel_initializer = 'normal', input_dim = 4))\n",
        "classificador.add(Dropout(0.1))\n",
        "classificador.add(Dense(units = 8, activation = 'relu', \n",
        "                        kernel_initializer = 'normal'))\n",
        "classificador.add(Dropout(0.1))\n",
        "classificador.add(Dense(units = 3, activation = 'softmax'))\n",
        "classificador.compile(optimizer = 'adam', \n",
        "                      loss = 'categorical_crossentropy', \n",
        "                      metrics = ['accuracy'])\n",
        "classificador.fit(previsores, classe_dummy, \n",
        "                  batch_size = 10, epochs = 100)"
      ],
      "execution_count": 4,
      "outputs": [
        {
          "output_type": "stream",
          "text": [
            "Epoch 1/100\n",
            "150/150 [==============================] - 0s 2ms/step - loss: 1.0763 - accuracy: 0.3333\n",
            "Epoch 2/100\n",
            "150/150 [==============================] - 0s 163us/step - loss: 1.0709 - accuracy: 0.3067\n",
            "Epoch 3/100\n",
            "150/150 [==============================] - 0s 158us/step - loss: 1.0584 - accuracy: 0.3400\n",
            "Epoch 4/100\n",
            "150/150 [==============================] - 0s 160us/step - loss: 1.0464 - accuracy: 0.3467\n",
            "Epoch 5/100\n",
            "150/150 [==============================] - 0s 156us/step - loss: 1.0380 - accuracy: 0.3133\n",
            "Epoch 6/100\n",
            "150/150 [==============================] - 0s 157us/step - loss: 1.0167 - accuracy: 0.4267\n",
            "Epoch 7/100\n",
            "150/150 [==============================] - 0s 138us/step - loss: 0.9842 - accuracy: 0.6133\n",
            "Epoch 8/100\n",
            "150/150 [==============================] - 0s 139us/step - loss: 0.9731 - accuracy: 0.6533\n",
            "Epoch 9/100\n",
            "150/150 [==============================] - 0s 143us/step - loss: 0.9321 - accuracy: 0.6467\n",
            "Epoch 10/100\n",
            "150/150 [==============================] - 0s 131us/step - loss: 0.9143 - accuracy: 0.6333\n",
            "Epoch 11/100\n",
            "150/150 [==============================] - 0s 154us/step - loss: 0.8849 - accuracy: 0.6400\n",
            "Epoch 12/100\n",
            "150/150 [==============================] - 0s 157us/step - loss: 0.8416 - accuracy: 0.6533\n",
            "Epoch 13/100\n",
            "150/150 [==============================] - 0s 222us/step - loss: 0.7848 - accuracy: 0.6867\n",
            "Epoch 14/100\n",
            "150/150 [==============================] - 0s 162us/step - loss: 0.7805 - accuracy: 0.6800\n",
            "Epoch 15/100\n",
            "150/150 [==============================] - 0s 168us/step - loss: 0.7577 - accuracy: 0.6733\n",
            "Epoch 16/100\n",
            "150/150 [==============================] - 0s 211us/step - loss: 0.6921 - accuracy: 0.7000\n",
            "Epoch 17/100\n",
            "150/150 [==============================] - 0s 164us/step - loss: 0.6717 - accuracy: 0.6733\n",
            "Epoch 18/100\n",
            "150/150 [==============================] - 0s 171us/step - loss: 0.6418 - accuracy: 0.7067\n",
            "Epoch 19/100\n",
            "150/150 [==============================] - 0s 154us/step - loss: 0.6202 - accuracy: 0.6733\n",
            "Epoch 20/100\n",
            "150/150 [==============================] - 0s 135us/step - loss: 0.5960 - accuracy: 0.7467\n",
            "Epoch 21/100\n",
            "150/150 [==============================] - 0s 140us/step - loss: 0.5568 - accuracy: 0.7467\n",
            "Epoch 22/100\n",
            "150/150 [==============================] - 0s 133us/step - loss: 0.5505 - accuracy: 0.7333\n",
            "Epoch 23/100\n",
            "150/150 [==============================] - 0s 156us/step - loss: 0.5224 - accuracy: 0.7200\n",
            "Epoch 24/100\n",
            "150/150 [==============================] - 0s 145us/step - loss: 0.5701 - accuracy: 0.6933\n",
            "Epoch 25/100\n",
            "150/150 [==============================] - 0s 153us/step - loss: 0.5042 - accuracy: 0.7600\n",
            "Epoch 26/100\n",
            "150/150 [==============================] - 0s 163us/step - loss: 0.4893 - accuracy: 0.7467\n",
            "Epoch 27/100\n",
            "150/150 [==============================] - 0s 160us/step - loss: 0.4701 - accuracy: 0.7533\n",
            "Epoch 28/100\n",
            "150/150 [==============================] - 0s 150us/step - loss: 0.4832 - accuracy: 0.7800\n",
            "Epoch 29/100\n",
            "150/150 [==============================] - 0s 143us/step - loss: 0.4541 - accuracy: 0.7533\n",
            "Epoch 30/100\n",
            "150/150 [==============================] - 0s 138us/step - loss: 0.4977 - accuracy: 0.7467\n",
            "Epoch 31/100\n",
            "150/150 [==============================] - 0s 139us/step - loss: 0.4266 - accuracy: 0.8000\n",
            "Epoch 32/100\n",
            "150/150 [==============================] - 0s 138us/step - loss: 0.4830 - accuracy: 0.7867\n",
            "Epoch 33/100\n",
            "150/150 [==============================] - 0s 154us/step - loss: 0.4678 - accuracy: 0.7667\n",
            "Epoch 34/100\n",
            "150/150 [==============================] - 0s 153us/step - loss: 0.3980 - accuracy: 0.8133\n",
            "Epoch 35/100\n",
            "150/150 [==============================] - 0s 138us/step - loss: 0.4304 - accuracy: 0.8000\n",
            "Epoch 36/100\n",
            "150/150 [==============================] - 0s 142us/step - loss: 0.4125 - accuracy: 0.8000\n",
            "Epoch 37/100\n",
            "150/150 [==============================] - 0s 152us/step - loss: 0.4162 - accuracy: 0.8667\n",
            "Epoch 38/100\n",
            "150/150 [==============================] - 0s 160us/step - loss: 0.4156 - accuracy: 0.7933\n",
            "Epoch 39/100\n",
            "150/150 [==============================] - 0s 151us/step - loss: 0.4691 - accuracy: 0.7333\n",
            "Epoch 40/100\n",
            "150/150 [==============================] - 0s 148us/step - loss: 0.4097 - accuracy: 0.8067\n",
            "Epoch 41/100\n",
            "150/150 [==============================] - 0s 182us/step - loss: 0.4562 - accuracy: 0.7867\n",
            "Epoch 42/100\n",
            "150/150 [==============================] - 0s 147us/step - loss: 0.4204 - accuracy: 0.8400\n",
            "Epoch 43/100\n",
            "150/150 [==============================] - 0s 182us/step - loss: 0.4469 - accuracy: 0.8000\n",
            "Epoch 44/100\n",
            "150/150 [==============================] - 0s 157us/step - loss: 0.3907 - accuracy: 0.8133\n",
            "Epoch 45/100\n",
            "150/150 [==============================] - 0s 152us/step - loss: 0.3623 - accuracy: 0.8667\n",
            "Epoch 46/100\n",
            "150/150 [==============================] - 0s 165us/step - loss: 0.4106 - accuracy: 0.8333\n",
            "Epoch 47/100\n",
            "150/150 [==============================] - 0s 199us/step - loss: 0.3891 - accuracy: 0.8000\n",
            "Epoch 48/100\n",
            "150/150 [==============================] - 0s 171us/step - loss: 0.3979 - accuracy: 0.8267\n",
            "Epoch 49/100\n",
            "150/150 [==============================] - 0s 178us/step - loss: 0.3917 - accuracy: 0.8733\n",
            "Epoch 50/100\n",
            "150/150 [==============================] - 0s 185us/step - loss: 0.3695 - accuracy: 0.8467\n",
            "Epoch 51/100\n",
            "150/150 [==============================] - 0s 155us/step - loss: 0.4513 - accuracy: 0.8267\n",
            "Epoch 52/100\n",
            "150/150 [==============================] - 0s 143us/step - loss: 0.3749 - accuracy: 0.8200\n",
            "Epoch 53/100\n",
            "150/150 [==============================] - 0s 138us/step - loss: 0.3808 - accuracy: 0.8533\n",
            "Epoch 54/100\n",
            "150/150 [==============================] - 0s 160us/step - loss: 0.3433 - accuracy: 0.8600\n",
            "Epoch 55/100\n",
            "150/150 [==============================] - 0s 147us/step - loss: 0.3678 - accuracy: 0.8533\n",
            "Epoch 56/100\n",
            "150/150 [==============================] - 0s 205us/step - loss: 0.3898 - accuracy: 0.8267\n",
            "Epoch 57/100\n",
            "150/150 [==============================] - 0s 184us/step - loss: 0.3842 - accuracy: 0.8333\n",
            "Epoch 58/100\n",
            "150/150 [==============================] - 0s 176us/step - loss: 0.3523 - accuracy: 0.8667\n",
            "Epoch 59/100\n",
            "150/150 [==============================] - 0s 144us/step - loss: 0.3388 - accuracy: 0.8933\n",
            "Epoch 60/100\n",
            "150/150 [==============================] - 0s 142us/step - loss: 0.3480 - accuracy: 0.8800\n",
            "Epoch 61/100\n",
            "150/150 [==============================] - 0s 141us/step - loss: 0.3412 - accuracy: 0.8533\n",
            "Epoch 62/100\n",
            "150/150 [==============================] - 0s 139us/step - loss: 0.3151 - accuracy: 0.8533\n",
            "Epoch 63/100\n",
            "150/150 [==============================] - 0s 150us/step - loss: 0.3410 - accuracy: 0.8467\n",
            "Epoch 64/100\n",
            "150/150 [==============================] - 0s 142us/step - loss: 0.3207 - accuracy: 0.8467\n",
            "Epoch 65/100\n",
            "150/150 [==============================] - 0s 154us/step - loss: 0.3632 - accuracy: 0.8467\n",
            "Epoch 66/100\n",
            "150/150 [==============================] - 0s 140us/step - loss: 0.3106 - accuracy: 0.8933\n",
            "Epoch 67/100\n",
            "150/150 [==============================] - 0s 129us/step - loss: 0.3283 - accuracy: 0.8733\n",
            "Epoch 68/100\n",
            "150/150 [==============================] - 0s 137us/step - loss: 0.2851 - accuracy: 0.8933\n",
            "Epoch 69/100\n",
            "150/150 [==============================] - 0s 141us/step - loss: 0.2852 - accuracy: 0.8800\n",
            "Epoch 70/100\n",
            "150/150 [==============================] - 0s 144us/step - loss: 0.3280 - accuracy: 0.8467\n",
            "Epoch 71/100\n",
            "150/150 [==============================] - 0s 129us/step - loss: 0.3182 - accuracy: 0.8800\n",
            "Epoch 72/100\n",
            "150/150 [==============================] - 0s 128us/step - loss: 0.3190 - accuracy: 0.8733\n",
            "Epoch 73/100\n",
            "150/150 [==============================] - 0s 149us/step - loss: 0.3092 - accuracy: 0.8867\n",
            "Epoch 74/100\n",
            "150/150 [==============================] - 0s 138us/step - loss: 0.3344 - accuracy: 0.8667\n",
            "Epoch 75/100\n",
            "150/150 [==============================] - 0s 140us/step - loss: 0.3084 - accuracy: 0.8667\n",
            "Epoch 76/100\n",
            "150/150 [==============================] - 0s 143us/step - loss: 0.3336 - accuracy: 0.8533\n",
            "Epoch 77/100\n",
            "150/150 [==============================] - 0s 146us/step - loss: 0.2718 - accuracy: 0.9133\n",
            "Epoch 78/100\n",
            "150/150 [==============================] - 0s 134us/step - loss: 0.3115 - accuracy: 0.8667\n",
            "Epoch 79/100\n",
            "150/150 [==============================] - 0s 139us/step - loss: 0.3126 - accuracy: 0.8467\n",
            "Epoch 80/100\n",
            "150/150 [==============================] - 0s 153us/step - loss: 0.2840 - accuracy: 0.8933\n",
            "Epoch 81/100\n",
            "150/150 [==============================] - 0s 128us/step - loss: 0.2725 - accuracy: 0.8867\n",
            "Epoch 82/100\n",
            "150/150 [==============================] - 0s 155us/step - loss: 0.2960 - accuracy: 0.8533\n",
            "Epoch 83/100\n",
            "150/150 [==============================] - 0s 159us/step - loss: 0.3102 - accuracy: 0.8800\n",
            "Epoch 84/100\n",
            "150/150 [==============================] - 0s 144us/step - loss: 0.2932 - accuracy: 0.8733\n",
            "Epoch 85/100\n",
            "150/150 [==============================] - 0s 147us/step - loss: 0.2506 - accuracy: 0.9133\n",
            "Epoch 86/100\n",
            "150/150 [==============================] - 0s 127us/step - loss: 0.3001 - accuracy: 0.8733\n",
            "Epoch 87/100\n",
            "150/150 [==============================] - 0s 140us/step - loss: 0.2614 - accuracy: 0.8933\n",
            "Epoch 88/100\n",
            "150/150 [==============================] - 0s 131us/step - loss: 0.2734 - accuracy: 0.9000\n",
            "Epoch 89/100\n",
            "150/150 [==============================] - 0s 130us/step - loss: 0.2852 - accuracy: 0.8600\n",
            "Epoch 90/100\n",
            "150/150 [==============================] - 0s 147us/step - loss: 0.2900 - accuracy: 0.8800\n",
            "Epoch 91/100\n",
            "150/150 [==============================] - 0s 137us/step - loss: 0.2147 - accuracy: 0.9333\n",
            "Epoch 92/100\n",
            "150/150 [==============================] - 0s 133us/step - loss: 0.3184 - accuracy: 0.8733\n",
            "Epoch 93/100\n",
            "150/150 [==============================] - 0s 153us/step - loss: 0.2575 - accuracy: 0.8933\n",
            "Epoch 94/100\n",
            "150/150 [==============================] - 0s 140us/step - loss: 0.2850 - accuracy: 0.8800\n",
            "Epoch 95/100\n",
            "150/150 [==============================] - 0s 146us/step - loss: 0.2500 - accuracy: 0.8867\n",
            "Epoch 96/100\n",
            "150/150 [==============================] - 0s 149us/step - loss: 0.2576 - accuracy: 0.9067\n",
            "Epoch 97/100\n",
            "150/150 [==============================] - 0s 157us/step - loss: 0.2666 - accuracy: 0.9067\n",
            "Epoch 98/100\n",
            "150/150 [==============================] - 0s 138us/step - loss: 0.2640 - accuracy: 0.8933\n",
            "Epoch 99/100\n",
            "150/150 [==============================] - 0s 151us/step - loss: 0.2466 - accuracy: 0.9133\n",
            "Epoch 100/100\n",
            "150/150 [==============================] - 0s 179us/step - loss: 0.2839 - accuracy: 0.9000\n"
          ],
          "name": "stdout"
        },
        {
          "output_type": "execute_result",
          "data": {
            "text/plain": [
              "<keras.callbacks.callbacks.History at 0x7f74b3725898>"
            ]
          },
          "metadata": {
            "tags": []
          },
          "execution_count": 4
        }
      ]
    },
    {
      "cell_type": "markdown",
      "metadata": {
        "id": "tNVZbhVXcRh-",
        "colab_type": "text"
      },
      "source": [
        "**Salvar rede neural**"
      ]
    },
    {
      "cell_type": "code",
      "metadata": {
        "id": "MN8dw5OGcAmQ",
        "colab_type": "code",
        "colab": {}
      },
      "source": [
        "classificador_json = classificador.to_json()\n",
        "classificador_json\n",
        "\n",
        "with open('classificador_iris.json','w') as json_file:\n",
        "     json_file.write(classificador_json)\n",
        "\n",
        "classificador.save_weights('classificador_iris.h5')"
      ],
      "execution_count": 0,
      "outputs": []
    },
    {
      "cell_type": "code",
      "metadata": {
        "id": "gK79Njljcoba",
        "colab_type": "code",
        "colab": {}
      },
      "source": [
        "arquivo_rede = open('classificador_iris.json','r')\n",
        "estrutura_rede = arquivo_rede.read()\n",
        "arquivo_rede.close()"
      ],
      "execution_count": 0,
      "outputs": []
    },
    {
      "cell_type": "code",
      "metadata": {
        "id": "geJW_ho7cupB",
        "colab_type": "code",
        "colab": {}
      },
      "source": [
        "classificador_carregado = model_from_json(estrutura_rede)\n",
        "classificador_carregado.load_weights(\"classificador_iris.h5\")\n"
      ],
      "execution_count": 0,
      "outputs": []
    },
    {
      "cell_type": "code",
      "metadata": {
        "id": "Ham8ZoW1dS5Z",
        "colab_type": "code",
        "colab": {
          "base_uri": "https://localhost:8080/",
          "height": 34
        },
        "outputId": "c488415b-5c94-409d-8f74-e0ee8d5ca425"
      },
      "source": [
        "novo = np.array([[3.2, 3, 1, 1.1]])\n",
        "previsao = classificador.predict(novo)\n",
        "previsao = (previsao > 0.5)\n",
        "previsao\n",
        "\n",
        "if previsao[0][0] == True and previsao[0][1] == False and previsao[0][2] == False:\n",
        "    print('Iris setosa')\n",
        "\n",
        "elif previsao[0][0] == False and previsao[0][1] == True and previsao[0][2] == False:\n",
        "    print('Iris Virginica')\n",
        "\n",
        "elif previsao[0][0] == False and previsao[0][1] == False and previsao[0][2] == True:\n",
        "    print('Iris Versicolor')\n"
      ],
      "execution_count": 18,
      "outputs": [
        {
          "output_type": "stream",
          "text": [
            "Iris setosa\n"
          ],
          "name": "stdout"
        }
      ]
    }
  ]
}